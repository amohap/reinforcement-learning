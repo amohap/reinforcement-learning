{
 "cells": [
  {
   "cell_type": "markdown",
   "id": "02944396",
   "metadata": {},
   "source": [
    "# Assignment"
   ]
  },
  {
   "cell_type": "code",
   "execution_count": 1,
   "id": "a5256b2a",
   "metadata": {},
   "outputs": [
    {
     "name": "stdout",
     "output_type": "stream",
     "text": [
      "Collecting jupyter_contrib_nbextensions\n",
      "  Downloading jupyter_contrib_nbextensions-0.5.1-py2.py3-none-any.whl (20.9 MB)\n",
      "\u001b[K     |████████████████████████████████| 20.9 MB 1.5 MB/s eta 0:00:011  |                                | 51 kB 433 kB/s eta 0:00:49     |███████████                     | 7.1 MB 3.0 MB/s eta 0:00:05\n",
      "\u001b[?25hRequirement already satisfied: jupyter-core in /Users/juliaprozorova/opt/anaconda3/lib/python3.9/site-packages (from jupyter_contrib_nbextensions) (4.8.1)\n",
      "Requirement already satisfied: nbconvert>=4.2 in /Users/juliaprozorova/opt/anaconda3/lib/python3.9/site-packages (from jupyter_contrib_nbextensions) (6.1.0)\n",
      "Requirement already satisfied: ipython-genutils in /Users/juliaprozorova/opt/anaconda3/lib/python3.9/site-packages (from jupyter_contrib_nbextensions) (0.2.0)\n",
      "Requirement already satisfied: traitlets>=4.1 in /Users/juliaprozorova/opt/anaconda3/lib/python3.9/site-packages (from jupyter_contrib_nbextensions) (5.1.0)\n",
      "Collecting jupyter-contrib-core>=0.3.3\n",
      "  Downloading jupyter_contrib_core-0.3.3-py2.py3-none-any.whl (18 kB)\n",
      "Requirement already satisfied: tornado in /Users/juliaprozorova/opt/anaconda3/lib/python3.9/site-packages (from jupyter_contrib_nbextensions) (6.1)\n",
      "Requirement already satisfied: notebook>=4.0 in /Users/juliaprozorova/opt/anaconda3/lib/python3.9/site-packages (from jupyter_contrib_nbextensions) (6.4.5)\n",
      "Requirement already satisfied: pyyaml in /Users/juliaprozorova/opt/anaconda3/lib/python3.9/site-packages (from jupyter_contrib_nbextensions) (6.0)\n",
      "Collecting jupyter-highlight-selected-word>=0.1.1\n",
      "  Downloading jupyter_highlight_selected_word-0.2.0-py2.py3-none-any.whl (11 kB)\n",
      "Requirement already satisfied: lxml in /Users/juliaprozorova/opt/anaconda3/lib/python3.9/site-packages (from jupyter_contrib_nbextensions) (4.6.3)\n",
      "Collecting jupyter-nbextensions-configurator>=0.4.0\n",
      "  Downloading jupyter_nbextensions_configurator-0.4.1.tar.gz (479 kB)\n",
      "\u001b[K     |████████████████████████████████| 479 kB 723 kB/s eta 0:00:01    |████▉                           | 71 kB 2.1 MB/s eta 0:00:01\n",
      "\u001b[?25hCollecting jupyter-latex-envs>=1.3.8\n",
      "  Downloading jupyter_latex_envs-1.4.6.tar.gz (861 kB)\n",
      "\u001b[K     |████████████████████████████████| 861 kB 497 kB/s eta 0:00:01\n",
      "\u001b[?25hRequirement already satisfied: setuptools in /Users/juliaprozorova/opt/anaconda3/lib/python3.9/site-packages (from jupyter-contrib-core>=0.3.3->jupyter_contrib_nbextensions) (58.0.4)\n",
      "Requirement already satisfied: ipython in /Users/juliaprozorova/opt/anaconda3/lib/python3.9/site-packages (from jupyter-latex-envs>=1.3.8->jupyter_contrib_nbextensions) (7.29.0)\n",
      "Requirement already satisfied: entrypoints>=0.2.2 in /Users/juliaprozorova/opt/anaconda3/lib/python3.9/site-packages (from nbconvert>=4.2->jupyter_contrib_nbextensions) (0.3)\n",
      "Requirement already satisfied: pandocfilters>=1.4.1 in /Users/juliaprozorova/opt/anaconda3/lib/python3.9/site-packages (from nbconvert>=4.2->jupyter_contrib_nbextensions) (1.4.3)\n",
      "Requirement already satisfied: mistune<2,>=0.8.1 in /Users/juliaprozorova/opt/anaconda3/lib/python3.9/site-packages (from nbconvert>=4.2->jupyter_contrib_nbextensions) (0.8.4)\n",
      "Requirement already satisfied: testpath in /Users/juliaprozorova/opt/anaconda3/lib/python3.9/site-packages (from nbconvert>=4.2->jupyter_contrib_nbextensions) (0.5.0)\n",
      "Requirement already satisfied: defusedxml in /Users/juliaprozorova/opt/anaconda3/lib/python3.9/site-packages (from nbconvert>=4.2->jupyter_contrib_nbextensions) (0.7.1)\n",
      "Requirement already satisfied: nbclient<0.6.0,>=0.5.0 in /Users/juliaprozorova/opt/anaconda3/lib/python3.9/site-packages (from nbconvert>=4.2->jupyter_contrib_nbextensions) (0.5.3)\n",
      "Requirement already satisfied: bleach in /Users/juliaprozorova/opt/anaconda3/lib/python3.9/site-packages (from nbconvert>=4.2->jupyter_contrib_nbextensions) (4.0.0)\n",
      "Requirement already satisfied: nbformat>=4.4 in /Users/juliaprozorova/opt/anaconda3/lib/python3.9/site-packages (from nbconvert>=4.2->jupyter_contrib_nbextensions) (5.1.3)\n",
      "Requirement already satisfied: jinja2>=2.4 in /Users/juliaprozorova/opt/anaconda3/lib/python3.9/site-packages (from nbconvert>=4.2->jupyter_contrib_nbextensions) (2.11.3)\n",
      "Requirement already satisfied: jupyterlab-pygments in /Users/juliaprozorova/opt/anaconda3/lib/python3.9/site-packages (from nbconvert>=4.2->jupyter_contrib_nbextensions) (0.1.2)\n",
      "Requirement already satisfied: pygments>=2.4.1 in /Users/juliaprozorova/opt/anaconda3/lib/python3.9/site-packages (from nbconvert>=4.2->jupyter_contrib_nbextensions) (2.10.0)\n",
      "Requirement already satisfied: MarkupSafe>=0.23 in /Users/juliaprozorova/opt/anaconda3/lib/python3.9/site-packages (from jinja2>=2.4->nbconvert>=4.2->jupyter_contrib_nbextensions) (1.1.1)\n",
      "Requirement already satisfied: nest-asyncio in /Users/juliaprozorova/opt/anaconda3/lib/python3.9/site-packages (from nbclient<0.6.0,>=0.5.0->nbconvert>=4.2->jupyter_contrib_nbextensions) (1.5.1)\n",
      "Requirement already satisfied: jupyter-client>=6.1.5 in /Users/juliaprozorova/opt/anaconda3/lib/python3.9/site-packages (from nbclient<0.6.0,>=0.5.0->nbconvert>=4.2->jupyter_contrib_nbextensions) (6.1.12)\n",
      "Requirement already satisfied: async-generator in /Users/juliaprozorova/opt/anaconda3/lib/python3.9/site-packages (from nbclient<0.6.0,>=0.5.0->nbconvert>=4.2->jupyter_contrib_nbextensions) (1.10)\n",
      "Requirement already satisfied: python-dateutil>=2.1 in /Users/juliaprozorova/opt/anaconda3/lib/python3.9/site-packages (from jupyter-client>=6.1.5->nbclient<0.6.0,>=0.5.0->nbconvert>=4.2->jupyter_contrib_nbextensions) (2.8.2)\n",
      "Requirement already satisfied: pyzmq>=13 in /Users/juliaprozorova/opt/anaconda3/lib/python3.9/site-packages (from jupyter-client>=6.1.5->nbclient<0.6.0,>=0.5.0->nbconvert>=4.2->jupyter_contrib_nbextensions) (22.2.1)\n",
      "Requirement already satisfied: jsonschema!=2.5.0,>=2.4 in /Users/juliaprozorova/opt/anaconda3/lib/python3.9/site-packages (from nbformat>=4.4->nbconvert>=4.2->jupyter_contrib_nbextensions) (3.2.0)\n",
      "Requirement already satisfied: attrs>=17.4.0 in /Users/juliaprozorova/opt/anaconda3/lib/python3.9/site-packages (from jsonschema!=2.5.0,>=2.4->nbformat>=4.4->nbconvert>=4.2->jupyter_contrib_nbextensions) (21.2.0)\n",
      "Requirement already satisfied: six>=1.11.0 in /Users/juliaprozorova/opt/anaconda3/lib/python3.9/site-packages (from jsonschema!=2.5.0,>=2.4->nbformat>=4.4->nbconvert>=4.2->jupyter_contrib_nbextensions) (1.16.0)\n",
      "Requirement already satisfied: pyrsistent>=0.14.0 in /Users/juliaprozorova/opt/anaconda3/lib/python3.9/site-packages (from jsonschema!=2.5.0,>=2.4->nbformat>=4.4->nbconvert>=4.2->jupyter_contrib_nbextensions) (0.18.0)\n",
      "Requirement already satisfied: terminado>=0.8.3 in /Users/juliaprozorova/opt/anaconda3/lib/python3.9/site-packages (from notebook>=4.0->jupyter_contrib_nbextensions) (0.9.4)\n",
      "Requirement already satisfied: prometheus-client in /Users/juliaprozorova/opt/anaconda3/lib/python3.9/site-packages (from notebook>=4.0->jupyter_contrib_nbextensions) (0.11.0)\n",
      "Requirement already satisfied: argon2-cffi in /Users/juliaprozorova/opt/anaconda3/lib/python3.9/site-packages (from notebook>=4.0->jupyter_contrib_nbextensions) (20.1.0)\n",
      "Requirement already satisfied: Send2Trash>=1.5.0 in /Users/juliaprozorova/opt/anaconda3/lib/python3.9/site-packages (from notebook>=4.0->jupyter_contrib_nbextensions) (1.8.0)\n",
      "Requirement already satisfied: ipykernel in /Users/juliaprozorova/opt/anaconda3/lib/python3.9/site-packages (from notebook>=4.0->jupyter_contrib_nbextensions) (6.4.1)\n",
      "Requirement already satisfied: ptyprocess in /Users/juliaprozorova/opt/anaconda3/lib/python3.9/site-packages (from terminado>=0.8.3->notebook>=4.0->jupyter_contrib_nbextensions) (0.7.0)\n",
      "Requirement already satisfied: cffi>=1.0.0 in /Users/juliaprozorova/opt/anaconda3/lib/python3.9/site-packages (from argon2-cffi->notebook>=4.0->jupyter_contrib_nbextensions) (1.14.6)\n",
      "Requirement already satisfied: pycparser in /Users/juliaprozorova/opt/anaconda3/lib/python3.9/site-packages (from cffi>=1.0.0->argon2-cffi->notebook>=4.0->jupyter_contrib_nbextensions) (2.20)\n",
      "Requirement already satisfied: packaging in /Users/juliaprozorova/opt/anaconda3/lib/python3.9/site-packages (from bleach->nbconvert>=4.2->jupyter_contrib_nbextensions) (21.0)\n",
      "Requirement already satisfied: webencodings in /Users/juliaprozorova/opt/anaconda3/lib/python3.9/site-packages (from bleach->nbconvert>=4.2->jupyter_contrib_nbextensions) (0.5.1)\n"
     ]
    },
    {
     "name": "stdout",
     "output_type": "stream",
     "text": [
      "Requirement already satisfied: matplotlib-inline<0.2.0,>=0.1.0 in /Users/juliaprozorova/opt/anaconda3/lib/python3.9/site-packages (from ipykernel->notebook>=4.0->jupyter_contrib_nbextensions) (0.1.2)\n",
      "Requirement already satisfied: debugpy<2.0,>=1.0.0 in /Users/juliaprozorova/opt/anaconda3/lib/python3.9/site-packages (from ipykernel->notebook>=4.0->jupyter_contrib_nbextensions) (1.4.1)\n",
      "Requirement already satisfied: appnope in /Users/juliaprozorova/opt/anaconda3/lib/python3.9/site-packages (from ipykernel->notebook>=4.0->jupyter_contrib_nbextensions) (0.1.2)\n",
      "Requirement already satisfied: jedi>=0.16 in /Users/juliaprozorova/opt/anaconda3/lib/python3.9/site-packages (from ipython->jupyter-latex-envs>=1.3.8->jupyter_contrib_nbextensions) (0.18.0)\n",
      "Requirement already satisfied: prompt-toolkit!=3.0.0,!=3.0.1,<3.1.0,>=2.0.0 in /Users/juliaprozorova/opt/anaconda3/lib/python3.9/site-packages (from ipython->jupyter-latex-envs>=1.3.8->jupyter_contrib_nbextensions) (3.0.20)\n",
      "Requirement already satisfied: decorator in /Users/juliaprozorova/opt/anaconda3/lib/python3.9/site-packages (from ipython->jupyter-latex-envs>=1.3.8->jupyter_contrib_nbextensions) (5.1.0)\n",
      "Requirement already satisfied: backcall in /Users/juliaprozorova/opt/anaconda3/lib/python3.9/site-packages (from ipython->jupyter-latex-envs>=1.3.8->jupyter_contrib_nbextensions) (0.2.0)\n",
      "Requirement already satisfied: pexpect>4.3 in /Users/juliaprozorova/opt/anaconda3/lib/python3.9/site-packages (from ipython->jupyter-latex-envs>=1.3.8->jupyter_contrib_nbextensions) (4.8.0)\n",
      "Requirement already satisfied: pickleshare in /Users/juliaprozorova/opt/anaconda3/lib/python3.9/site-packages (from ipython->jupyter-latex-envs>=1.3.8->jupyter_contrib_nbextensions) (0.7.5)\n",
      "Requirement already satisfied: parso<0.9.0,>=0.8.0 in /Users/juliaprozorova/opt/anaconda3/lib/python3.9/site-packages (from jedi>=0.16->ipython->jupyter-latex-envs>=1.3.8->jupyter_contrib_nbextensions) (0.8.2)\n",
      "Requirement already satisfied: wcwidth in /Users/juliaprozorova/opt/anaconda3/lib/python3.9/site-packages (from prompt-toolkit!=3.0.0,!=3.0.1,<3.1.0,>=2.0.0->ipython->jupyter-latex-envs>=1.3.8->jupyter_contrib_nbextensions) (0.2.5)\n",
      "Requirement already satisfied: pyparsing>=2.0.2 in /Users/juliaprozorova/opt/anaconda3/lib/python3.9/site-packages (from packaging->bleach->nbconvert>=4.2->jupyter_contrib_nbextensions) (3.0.4)\n",
      "Building wheels for collected packages: jupyter-latex-envs, jupyter-nbextensions-configurator\n",
      "  Building wheel for jupyter-latex-envs (setup.py) ... \u001b[?25ldone\n",
      "\u001b[?25h  Created wheel for jupyter-latex-envs: filename=jupyter_latex_envs-1.4.6-py2.py3-none-any.whl size=963415 sha256=3cabe5967cedd6cf17e11205207c6ec7d16331467258c0f631623a3a111364bf\n",
      "  Stored in directory: /Users/juliaprozorova/Library/Caches/pip/wheels/f7/b5/78/f5b899dd8fc137fe0bfe26b382713f6d171c9eac2fb1fa091f\n",
      "  Building wheel for jupyter-nbextensions-configurator (setup.py) ... \u001b[?25ldone\n",
      "\u001b[?25h  Created wheel for jupyter-nbextensions-configurator: filename=jupyter_nbextensions_configurator-0.4.1-py2.py3-none-any.whl size=465842 sha256=8bfdb1df258589494e1353e5cd470d5c2ac7df1bfb378cdc7ab47bbdb772ef4c\n",
      "  Stored in directory: /Users/juliaprozorova/Library/Caches/pip/wheels/94/62/cd/233da8580d4e1228ab3fbede758ab1b97174bf9d9cea095049\n",
      "Successfully built jupyter-latex-envs jupyter-nbextensions-configurator\n",
      "Installing collected packages: jupyter-contrib-core, jupyter-nbextensions-configurator, jupyter-latex-envs, jupyter-highlight-selected-word, jupyter-contrib-nbextensions\n",
      "Successfully installed jupyter-contrib-core-0.3.3 jupyter-contrib-nbextensions-0.5.1 jupyter-highlight-selected-word-0.2.0 jupyter-latex-envs-1.4.6 jupyter-nbextensions-configurator-0.4.1\n",
      "\u001b[32m[I 17:52:44 InstallContribNbextensionsApp]\u001b[m jupyter contrib nbextension install --user\n",
      "\u001b[32m[I 17:52:44 InstallContribNbextensionsApp]\u001b[m Installing jupyter_contrib_nbextensions nbextension files to jupyter data directory\n",
      "\u001b[32m[I 17:52:44 InstallContribNbextensionsApp]\u001b[m Installing /Users/juliaprozorova/opt/anaconda3/lib/python3.9/site-packages/jupyter_contrib_nbextensions/nbextensions/rubberband -> rubberband\n",
      "\u001b[32m[I 17:52:44 InstallContribNbextensionsApp]\u001b[m Making directory: /Users/juliaprozorova/Library/Jupyter/nbextensions/rubberband/\n",
      "\u001b[32m[I 17:52:44 InstallContribNbextensionsApp]\u001b[m Copying: /Users/juliaprozorova/opt/anaconda3/lib/python3.9/site-packages/jupyter_contrib_nbextensions/nbextensions/rubberband/icon.png -> /Users/juliaprozorova/Library/Jupyter/nbextensions/rubberband/icon.png\n",
      "\u001b[32m[I 17:52:44 InstallContribNbextensionsApp]\u001b[m Copying: /Users/juliaprozorova/opt/anaconda3/lib/python3.9/site-packages/jupyter_contrib_nbextensions/nbextensions/rubberband/main.css -> /Users/juliaprozorova/Library/Jupyter/nbextensions/rubberband/main.css\n",
      "\u001b[32m[I 17:52:44 InstallContribNbextensionsApp]\u001b[m Copying: /Users/juliaprozorova/opt/anaconda3/lib/python3.9/site-packages/jupyter_contrib_nbextensions/nbextensions/rubberband/readme.md -> /Users/juliaprozorova/Library/Jupyter/nbextensions/rubberband/readme.md\n",
      "\u001b[32m[I 17:52:44 InstallContribNbextensionsApp]\u001b[m Copying: /Users/juliaprozorova/opt/anaconda3/lib/python3.9/site-packages/jupyter_contrib_nbextensions/nbextensions/rubberband/main.js -> /Users/juliaprozorova/Library/Jupyter/nbextensions/rubberband/main.js\n",
      "\u001b[32m[I 17:52:44 InstallContribNbextensionsApp]\u001b[m Copying: /Users/juliaprozorova/opt/anaconda3/lib/python3.9/site-packages/jupyter_contrib_nbextensions/nbextensions/rubberband/rubberband.yaml -> /Users/juliaprozorova/Library/Jupyter/nbextensions/rubberband/rubberband.yaml\n",
      "\u001b[32m[I 17:52:44 InstallContribNbextensionsApp]\u001b[m - Validating: \u001b[32mOK\u001b[0m\n",
      "\u001b[32m[I 17:52:44 InstallContribNbextensionsApp]\u001b[m Installing /Users/juliaprozorova/opt/anaconda3/lib/python3.9/site-packages/jupyter_contrib_nbextensions/nbextensions/scroll_down -> scroll_down\n",
      "\u001b[32m[I 17:52:44 InstallContribNbextensionsApp]\u001b[m Making directory: /Users/juliaprozorova/Library/Jupyter/nbextensions/scroll_down/\n",
      "\u001b[32m[I 17:52:44 InstallContribNbextensionsApp]\u001b[m Copying: /Users/juliaprozorova/opt/anaconda3/lib/python3.9/site-packages/jupyter_contrib_nbextensions/nbextensions/scroll_down/icon.png -> /Users/juliaprozorova/Library/Jupyter/nbextensions/scroll_down/icon.png\n",
      "\u001b[32m[I 17:52:44 InstallContribNbextensionsApp]\u001b[m Copying: /Users/juliaprozorova/opt/anaconda3/lib/python3.9/site-packages/jupyter_contrib_nbextensions/nbextensions/scroll_down/config.yaml -> /Users/juliaprozorova/Library/Jupyter/nbextensions/scroll_down/config.yaml\n",
      "\u001b[32m[I 17:52:44 InstallContribNbextensionsApp]\u001b[m Copying: /Users/juliaprozorova/opt/anaconda3/lib/python3.9/site-packages/jupyter_contrib_nbextensions/nbextensions/scroll_down/readme.md -> /Users/juliaprozorova/Library/Jupyter/nbextensions/scroll_down/readme.md\n",
      "\u001b[32m[I 17:52:44 InstallContribNbextensionsApp]\u001b[m Copying: /Users/juliaprozorova/opt/anaconda3/lib/python3.9/site-packages/jupyter_contrib_nbextensions/nbextensions/scroll_down/main.js -> /Users/juliaprozorova/Library/Jupyter/nbextensions/scroll_down/main.js\n",
      "\u001b[32m[I 17:52:44 InstallContribNbextensionsApp]\u001b[m - Validating: \u001b[32mOK\u001b[0m\n",
      "\u001b[32m[I 17:52:44 InstallContribNbextensionsApp]\u001b[m Installing /Users/juliaprozorova/opt/anaconda3/lib/python3.9/site-packages/jupyter_contrib_nbextensions/nbextensions/hinterland -> hinterland\n",
      "\u001b[32m[I 17:52:44 InstallContribNbextensionsApp]\u001b[m Making directory: /Users/juliaprozorova/Library/Jupyter/nbextensions/hinterland/\n",
      "\u001b[32m[I 17:52:44 InstallContribNbextensionsApp]\u001b[m Copying: /Users/juliaprozorova/opt/anaconda3/lib/python3.9/site-packages/jupyter_contrib_nbextensions/nbextensions/hinterland/hinterland.yaml -> /Users/juliaprozorova/Library/Jupyter/nbextensions/hinterland/hinterland.yaml\n",
      "\u001b[32m[I 17:52:44 InstallContribNbextensionsApp]\u001b[m Copying: /Users/juliaprozorova/opt/anaconda3/lib/python3.9/site-packages/jupyter_contrib_nbextensions/nbextensions/hinterland/hinterland.js -> /Users/juliaprozorova/Library/Jupyter/nbextensions/hinterland/hinterland.js\n",
      "\u001b[32m[I 17:52:44 InstallContribNbextensionsApp]\u001b[m Copying: /Users/juliaprozorova/opt/anaconda3/lib/python3.9/site-packages/jupyter_contrib_nbextensions/nbextensions/hinterland/README.md -> /Users/juliaprozorova/Library/Jupyter/nbextensions/hinterland/README.md\n"
     ]
    },
    {
     "name": "stdout",
     "output_type": "stream",
     "text": [
      "\u001b[32m[I 17:52:44 InstallContribNbextensionsApp]\u001b[m - Validating: \u001b[32mOK\u001b[0m\n",
      "\u001b[32m[I 17:52:44 InstallContribNbextensionsApp]\u001b[m Installing /Users/juliaprozorova/opt/anaconda3/lib/python3.9/site-packages/jupyter_contrib_nbextensions/nbextensions/snippets -> snippets\n",
      "\u001b[32m[I 17:52:44 InstallContribNbextensionsApp]\u001b[m Making directory: /Users/juliaprozorova/Library/Jupyter/nbextensions/snippets/\n",
      "\u001b[32m[I 17:52:44 InstallContribNbextensionsApp]\u001b[m Copying: /Users/juliaprozorova/opt/anaconda3/lib/python3.9/site-packages/jupyter_contrib_nbextensions/nbextensions/snippets/snippets.yaml -> /Users/juliaprozorova/Library/Jupyter/nbextensions/snippets/snippets.yaml\n",
      "\u001b[32m[I 17:52:44 InstallContribNbextensionsApp]\u001b[m Copying: /Users/juliaprozorova/opt/anaconda3/lib/python3.9/site-packages/jupyter_contrib_nbextensions/nbextensions/snippets/snippets.json -> /Users/juliaprozorova/Library/Jupyter/nbextensions/snippets/snippets.json\n",
      "\u001b[32m[I 17:52:44 InstallContribNbextensionsApp]\u001b[m Copying: /Users/juliaprozorova/opt/anaconda3/lib/python3.9/site-packages/jupyter_contrib_nbextensions/nbextensions/snippets/README.md -> /Users/juliaprozorova/Library/Jupyter/nbextensions/snippets/README.md\n",
      "\u001b[32m[I 17:52:44 InstallContribNbextensionsApp]\u001b[m Copying: /Users/juliaprozorova/opt/anaconda3/lib/python3.9/site-packages/jupyter_contrib_nbextensions/nbextensions/snippets/main.js -> /Users/juliaprozorova/Library/Jupyter/nbextensions/snippets/main.js\n",
      "\u001b[32m[I 17:52:44 InstallContribNbextensionsApp]\u001b[m Copying: /Users/juliaprozorova/opt/anaconda3/lib/python3.9/site-packages/jupyter_contrib_nbextensions/nbextensions/snippets/snippets-demo.gif -> /Users/juliaprozorova/Library/Jupyter/nbextensions/snippets/snippets-demo.gif\n",
      "\u001b[32m[I 17:52:44 InstallContribNbextensionsApp]\u001b[m - Validating: \u001b[32mOK\u001b[0m\n",
      "\u001b[32m[I 17:52:44 InstallContribNbextensionsApp]\u001b[m Installing /Users/juliaprozorova/opt/anaconda3/lib/python3.9/site-packages/jupyter_contrib_nbextensions/nbextensions/toggle_all_line_numbers -> toggle_all_line_numbers\n",
      "\u001b[32m[I 17:52:44 InstallContribNbextensionsApp]\u001b[m Making directory: /Users/juliaprozorova/Library/Jupyter/nbextensions/toggle_all_line_numbers/\n",
      "\u001b[32m[I 17:52:44 InstallContribNbextensionsApp]\u001b[m Copying: /Users/juliaprozorova/opt/anaconda3/lib/python3.9/site-packages/jupyter_contrib_nbextensions/nbextensions/toggle_all_line_numbers/icon.png -> /Users/juliaprozorova/Library/Jupyter/nbextensions/toggle_all_line_numbers/icon.png\n",
      "\u001b[32m[I 17:52:44 InstallContribNbextensionsApp]\u001b[m Copying: /Users/juliaprozorova/opt/anaconda3/lib/python3.9/site-packages/jupyter_contrib_nbextensions/nbextensions/toggle_all_line_numbers/main.yaml -> /Users/juliaprozorova/Library/Jupyter/nbextensions/toggle_all_line_numbers/main.yaml\n",
      "\u001b[32m[I 17:52:44 InstallContribNbextensionsApp]\u001b[m Copying: /Users/juliaprozorova/opt/anaconda3/lib/python3.9/site-packages/jupyter_contrib_nbextensions/nbextensions/toggle_all_line_numbers/readme.md -> /Users/juliaprozorova/Library/Jupyter/nbextensions/toggle_all_line_numbers/readme.md\n",
      "\u001b[32m[I 17:52:44 InstallContribNbextensionsApp]\u001b[m Copying: /Users/juliaprozorova/opt/anaconda3/lib/python3.9/site-packages/jupyter_contrib_nbextensions/nbextensions/toggle_all_line_numbers/main.js -> /Users/juliaprozorova/Library/Jupyter/nbextensions/toggle_all_line_numbers/main.js\n",
      "\u001b[32m[I 17:52:44 InstallContribNbextensionsApp]\u001b[m - Validating: \u001b[32mOK\u001b[0m\n",
      "\u001b[32m[I 17:52:44 InstallContribNbextensionsApp]\u001b[m Installing /Users/juliaprozorova/opt/anaconda3/lib/python3.9/site-packages/jupyter_contrib_nbextensions/nbextensions/notify -> notify\n",
      "\u001b[32m[I 17:52:44 InstallContribNbextensionsApp]\u001b[m Making directory: /Users/juliaprozorova/Library/Jupyter/nbextensions/notify/\n",
      "\u001b[32m[I 17:52:44 InstallContribNbextensionsApp]\u001b[m Copying: /Users/juliaprozorova/opt/anaconda3/lib/python3.9/site-packages/jupyter_contrib_nbextensions/nbextensions/notify/notify.js -> /Users/juliaprozorova/Library/Jupyter/nbextensions/notify/notify.js\n",
      "\u001b[32m[I 17:52:44 InstallContribNbextensionsApp]\u001b[m Copying: /Users/juliaprozorova/opt/anaconda3/lib/python3.9/site-packages/jupyter_contrib_nbextensions/nbextensions/notify/notify.mp3 -> /Users/juliaprozorova/Library/Jupyter/nbextensions/notify/notify.mp3\n",
      "\u001b[32m[I 17:52:44 InstallContribNbextensionsApp]\u001b[m Copying: /Users/juliaprozorova/opt/anaconda3/lib/python3.9/site-packages/jupyter_contrib_nbextensions/nbextensions/notify/readme.md -> /Users/juliaprozorova/Library/Jupyter/nbextensions/notify/readme.md\n",
      "\u001b[32m[I 17:52:44 InstallContribNbextensionsApp]\u001b[m Copying: /Users/juliaprozorova/opt/anaconda3/lib/python3.9/site-packages/jupyter_contrib_nbextensions/nbextensions/notify/notify.yaml -> /Users/juliaprozorova/Library/Jupyter/nbextensions/notify/notify.yaml\n",
      "\u001b[32m[I 17:52:44 InstallContribNbextensionsApp]\u001b[m Copying: /Users/juliaprozorova/opt/anaconda3/lib/python3.9/site-packages/jupyter_contrib_nbextensions/nbextensions/notify/notification.png -> /Users/juliaprozorova/Library/Jupyter/nbextensions/notify/notification.png\n",
      "\u001b[32m[I 17:52:44 InstallContribNbextensionsApp]\u001b[m - Validating: \u001b[32mOK\u001b[0m\n",
      "\u001b[32m[I 17:52:44 InstallContribNbextensionsApp]\u001b[m Installing /Users/juliaprozorova/opt/anaconda3/lib/python3.9/site-packages/jupyter_contrib_nbextensions/nbextensions/runtools -> runtools\n",
      "\u001b[32m[I 17:52:44 InstallContribNbextensionsApp]\u001b[m Making directory: /Users/juliaprozorova/Library/Jupyter/nbextensions/runtools/\n",
      "\u001b[32m[I 17:52:44 InstallContribNbextensionsApp]\u001b[m Copying: /Users/juliaprozorova/opt/anaconda3/lib/python3.9/site-packages/jupyter_contrib_nbextensions/nbextensions/runtools/cellstate.js -> /Users/juliaprozorova/Library/Jupyter/nbextensions/runtools/cellstate.js\n",
      "\u001b[32m[I 17:52:44 InstallContribNbextensionsApp]\u001b[m Copying: /Users/juliaprozorova/opt/anaconda3/lib/python3.9/site-packages/jupyter_contrib_nbextensions/nbextensions/runtools/icon.png -> /Users/juliaprozorova/Library/Jupyter/nbextensions/runtools/icon.png\n",
      "\u001b[32m[I 17:52:44 InstallContribNbextensionsApp]\u001b[m Copying: /Users/juliaprozorova/opt/anaconda3/lib/python3.9/site-packages/jupyter_contrib_nbextensions/nbextensions/runtools/runtools_execute.png -> /Users/juliaprozorova/Library/Jupyter/nbextensions/runtools/runtools_execute.png\n",
      "\u001b[32m[I 17:52:44 InstallContribNbextensionsApp]\u001b[m Copying: /Users/juliaprozorova/opt/anaconda3/lib/python3.9/site-packages/jupyter_contrib_nbextensions/nbextensions/runtools/annotations.odg -> /Users/juliaprozorova/Library/Jupyter/nbextensions/runtools/annotations.odg\n",
      "\u001b[32m[I 17:52:44 InstallContribNbextensionsApp]\u001b[m Copying: /Users/juliaprozorova/opt/anaconda3/lib/python3.9/site-packages/jupyter_contrib_nbextensions/nbextensions/runtools/runtools.yaml -> /Users/juliaprozorova/Library/Jupyter/nbextensions/runtools/runtools.yaml\n",
      "\u001b[32m[I 17:52:44 InstallContribNbextensionsApp]\u001b[m Copying: /Users/juliaprozorova/opt/anaconda3/lib/python3.9/site-packages/jupyter_contrib_nbextensions/nbextensions/runtools/main.css -> /Users/juliaprozorova/Library/Jupyter/nbextensions/runtools/main.css\n",
      "\u001b[32m[I 17:52:44 InstallContribNbextensionsApp]\u001b[m Copying: /Users/juliaprozorova/opt/anaconda3/lib/python3.9/site-packages/jupyter_contrib_nbextensions/nbextensions/runtools/runtools_nb.png -> /Users/juliaprozorova/Library/Jupyter/nbextensions/runtools/runtools_nb.png\n",
      "\u001b[32m[I 17:52:44 InstallContribNbextensionsApp]\u001b[m Copying: /Users/juliaprozorova/opt/anaconda3/lib/python3.9/site-packages/jupyter_contrib_nbextensions/nbextensions/runtools/readme.md -> /Users/juliaprozorova/Library/Jupyter/nbextensions/runtools/readme.md\n",
      "\u001b[32m[I 17:52:44 InstallContribNbextensionsApp]\u001b[m Copying: /Users/juliaprozorova/opt/anaconda3/lib/python3.9/site-packages/jupyter_contrib_nbextensions/nbextensions/runtools/runtools_marker.png -> /Users/juliaprozorova/Library/Jupyter/nbextensions/runtools/runtools_marker.png\n",
      "\u001b[32m[I 17:52:44 InstallContribNbextensionsApp]\u001b[m Copying: /Users/juliaprozorova/opt/anaconda3/lib/python3.9/site-packages/jupyter_contrib_nbextensions/nbextensions/runtools/main.js -> /Users/juliaprozorova/Library/Jupyter/nbextensions/runtools/main.js\n",
      "\u001b[32m[I 17:52:44 InstallContribNbextensionsApp]\u001b[m Copying: /Users/juliaprozorova/opt/anaconda3/lib/python3.9/site-packages/jupyter_contrib_nbextensions/nbextensions/runtools/runtools_show_hide.png -> /Users/juliaprozorova/Library/Jupyter/nbextensions/runtools/runtools_show_hide.png\n",
      "\u001b[32m[I 17:52:44 InstallContribNbextensionsApp]\u001b[m Copying: /Users/juliaprozorova/opt/anaconda3/lib/python3.9/site-packages/jupyter_contrib_nbextensions/nbextensions/runtools/runtools_lock.png -> /Users/juliaprozorova/Library/Jupyter/nbextensions/runtools/runtools_lock.png\n",
      "\u001b[32m[I 17:52:44 InstallContribNbextensionsApp]\u001b[m Copying: /Users/juliaprozorova/opt/anaconda3/lib/python3.9/site-packages/jupyter_contrib_nbextensions/nbextensions/runtools/demo.gif -> /Users/juliaprozorova/Library/Jupyter/nbextensions/runtools/demo.gif\n",
      "\u001b[32m[I 17:52:44 InstallContribNbextensionsApp]\u001b[m Copying: /Users/juliaprozorova/opt/anaconda3/lib/python3.9/site-packages/jupyter_contrib_nbextensions/nbextensions/runtools/gutter.css -> /Users/juliaprozorova/Library/Jupyter/nbextensions/runtools/gutter.css\n",
      "\u001b[32m[I 17:52:44 InstallContribNbextensionsApp]\u001b[m - Validating: \u001b[32mOK\u001b[0m\n",
      "\u001b[32m[I 17:52:44 InstallContribNbextensionsApp]\u001b[m Installing /Users/juliaprozorova/opt/anaconda3/lib/python3.9/site-packages/jupyter_contrib_nbextensions/nbextensions/tree-filter -> tree-filter\n",
      "\u001b[32m[I 17:52:44 InstallContribNbextensionsApp]\u001b[m Making directory: /Users/juliaprozorova/Library/Jupyter/nbextensions/tree-filter/\n",
      "\u001b[32m[I 17:52:44 InstallContribNbextensionsApp]\u001b[m Copying: /Users/juliaprozorova/opt/anaconda3/lib/python3.9/site-packages/jupyter_contrib_nbextensions/nbextensions/tree-filter/tree-filter.yaml -> /Users/juliaprozorova/Library/Jupyter/nbextensions/tree-filter/tree-filter.yaml\n",
      "\u001b[32m[I 17:52:44 InstallContribNbextensionsApp]\u001b[m Copying: /Users/juliaprozorova/opt/anaconda3/lib/python3.9/site-packages/jupyter_contrib_nbextensions/nbextensions/tree-filter/index.js -> /Users/juliaprozorova/Library/Jupyter/nbextensions/tree-filter/index.js\n",
      "\u001b[32m[I 17:52:44 InstallContribNbextensionsApp]\u001b[m Copying: /Users/juliaprozorova/opt/anaconda3/lib/python3.9/site-packages/jupyter_contrib_nbextensions/nbextensions/tree-filter/readme.md -> /Users/juliaprozorova/Library/Jupyter/nbextensions/tree-filter/readme.md\n",
      "\u001b[32m[I 17:52:44 InstallContribNbextensionsApp]\u001b[m Copying: /Users/juliaprozorova/opt/anaconda3/lib/python3.9/site-packages/jupyter_contrib_nbextensions/nbextensions/tree-filter/demo.gif -> /Users/juliaprozorova/Library/Jupyter/nbextensions/tree-filter/demo.gif\n"
     ]
    },
    {
     "name": "stdout",
     "output_type": "stream",
     "text": [
      "\u001b[32m[I 17:52:44 InstallContribNbextensionsApp]\u001b[m - Validating: \u001b[32mOK\u001b[0m\n",
      "\u001b[32m[I 17:52:44 InstallContribNbextensionsApp]\u001b[m Installing /Users/juliaprozorova/opt/anaconda3/lib/python3.9/site-packages/jupyter_contrib_nbextensions/nbextensions/table_beautifier -> table_beautifier\n",
      "\u001b[32m[I 17:52:44 InstallContribNbextensionsApp]\u001b[m Making directory: /Users/juliaprozorova/Library/Jupyter/nbextensions/table_beautifier/\n",
      "\u001b[32m[I 17:52:44 InstallContribNbextensionsApp]\u001b[m Copying: /Users/juliaprozorova/opt/anaconda3/lib/python3.9/site-packages/jupyter_contrib_nbextensions/nbextensions/table_beautifier/main.css -> /Users/juliaprozorova/Library/Jupyter/nbextensions/table_beautifier/main.css\n",
      "\u001b[32m[I 17:52:44 InstallContribNbextensionsApp]\u001b[m Copying: /Users/juliaprozorova/opt/anaconda3/lib/python3.9/site-packages/jupyter_contrib_nbextensions/nbextensions/table_beautifier/README.md -> /Users/juliaprozorova/Library/Jupyter/nbextensions/table_beautifier/README.md\n",
      "\u001b[32m[I 17:52:44 InstallContribNbextensionsApp]\u001b[m Copying: /Users/juliaprozorova/opt/anaconda3/lib/python3.9/site-packages/jupyter_contrib_nbextensions/nbextensions/table_beautifier/main.js -> /Users/juliaprozorova/Library/Jupyter/nbextensions/table_beautifier/main.js\n",
      "\u001b[32m[I 17:52:44 InstallContribNbextensionsApp]\u001b[m Copying: /Users/juliaprozorova/opt/anaconda3/lib/python3.9/site-packages/jupyter_contrib_nbextensions/nbextensions/table_beautifier/table_beautifier.yaml -> /Users/juliaprozorova/Library/Jupyter/nbextensions/table_beautifier/table_beautifier.yaml\n",
      "\u001b[32m[I 17:52:44 InstallContribNbextensionsApp]\u001b[m - Validating: \u001b[32mOK\u001b[0m\n",
      "\u001b[32m[I 17:52:44 InstallContribNbextensionsApp]\u001b[m Installing /Users/juliaprozorova/opt/anaconda3/lib/python3.9/site-packages/jupyter_contrib_nbextensions/nbextensions/freeze -> freeze\n",
      "\u001b[32m[I 17:52:44 InstallContribNbextensionsApp]\u001b[m Making directory: /Users/juliaprozorova/Library/Jupyter/nbextensions/freeze/\n",
      "\u001b[32m[I 17:52:44 InstallContribNbextensionsApp]\u001b[m Copying: /Users/juliaprozorova/opt/anaconda3/lib/python3.9/site-packages/jupyter_contrib_nbextensions/nbextensions/freeze/icon.png -> /Users/juliaprozorova/Library/Jupyter/nbextensions/freeze/icon.png\n",
      "\u001b[32m[I 17:52:44 InstallContribNbextensionsApp]\u001b[m Copying: /Users/juliaprozorova/opt/anaconda3/lib/python3.9/site-packages/jupyter_contrib_nbextensions/nbextensions/freeze/config.yaml -> /Users/juliaprozorova/Library/Jupyter/nbextensions/freeze/config.yaml\n",
      "\u001b[32m[I 17:52:44 InstallContribNbextensionsApp]\u001b[m Copying: /Users/juliaprozorova/opt/anaconda3/lib/python3.9/site-packages/jupyter_contrib_nbextensions/nbextensions/freeze/readme.md -> /Users/juliaprozorova/Library/Jupyter/nbextensions/freeze/readme.md\n",
      "\u001b[32m[I 17:52:44 InstallContribNbextensionsApp]\u001b[m Copying: /Users/juliaprozorova/opt/anaconda3/lib/python3.9/site-packages/jupyter_contrib_nbextensions/nbextensions/freeze/main.js -> /Users/juliaprozorova/Library/Jupyter/nbextensions/freeze/main.js\n",
      "\u001b[32m[I 17:52:44 InstallContribNbextensionsApp]\u001b[m - Validating: \u001b[32mOK\u001b[0m\n",
      "\u001b[32m[I 17:52:44 InstallContribNbextensionsApp]\u001b[m Installing /Users/juliaprozorova/opt/anaconda3/lib/python3.9/site-packages/jupyter_contrib_nbextensions/nbextensions/exercise2 -> exercise2\n",
      "\u001b[32m[I 17:52:44 InstallContribNbextensionsApp]\u001b[m Making directory: /Users/juliaprozorova/Library/Jupyter/nbextensions/exercise2/\n",
      "\u001b[32m[I 17:52:44 InstallContribNbextensionsApp]\u001b[m Copying: /Users/juliaprozorova/opt/anaconda3/lib/python3.9/site-packages/jupyter_contrib_nbextensions/nbextensions/exercise2/icon.png -> /Users/juliaprozorova/Library/Jupyter/nbextensions/exercise2/icon.png\n",
      "\u001b[32m[I 17:52:44 InstallContribNbextensionsApp]\u001b[m Copying: /Users/juliaprozorova/opt/anaconda3/lib/python3.9/site-packages/jupyter_contrib_nbextensions/nbextensions/exercise2/exercise2.yaml -> /Users/juliaprozorova/Library/Jupyter/nbextensions/exercise2/exercise2.yaml\n",
      "\u001b[32m[I 17:52:44 InstallContribNbextensionsApp]\u001b[m Copying: /Users/juliaprozorova/opt/anaconda3/lib/python3.9/site-packages/jupyter_contrib_nbextensions/nbextensions/exercise2/main.css -> /Users/juliaprozorova/Library/Jupyter/nbextensions/exercise2/main.css\n",
      "\u001b[32m[I 17:52:44 InstallContribNbextensionsApp]\u001b[m Copying: /Users/juliaprozorova/opt/anaconda3/lib/python3.9/site-packages/jupyter_contrib_nbextensions/nbextensions/exercise2/image.gif -> /Users/juliaprozorova/Library/Jupyter/nbextensions/exercise2/image.gif\n",
      "\u001b[32m[I 17:52:44 InstallContribNbextensionsApp]\u001b[m Copying: /Users/juliaprozorova/opt/anaconda3/lib/python3.9/site-packages/jupyter_contrib_nbextensions/nbextensions/exercise2/readme.md -> /Users/juliaprozorova/Library/Jupyter/nbextensions/exercise2/readme.md\n",
      "\u001b[32m[I 17:52:44 InstallContribNbextensionsApp]\u001b[m Copying: /Users/juliaprozorova/opt/anaconda3/lib/python3.9/site-packages/jupyter_contrib_nbextensions/nbextensions/exercise2/main.js -> /Users/juliaprozorova/Library/Jupyter/nbextensions/exercise2/main.js\n",
      "\u001b[32m[I 17:52:44 InstallContribNbextensionsApp]\u001b[m - Validating: \u001b[32mOK\u001b[0m\n",
      "\u001b[32m[I 17:52:44 InstallContribNbextensionsApp]\u001b[m Installing /Users/juliaprozorova/opt/anaconda3/lib/python3.9/site-packages/jupyter_contrib_nbextensions/nbextensions/execution_dependencies -> execution_dependencies\n",
      "\u001b[32m[I 17:52:44 InstallContribNbextensionsApp]\u001b[m Making directory: /Users/juliaprozorova/Library/Jupyter/nbextensions/execution_dependencies/\n",
      "\u001b[32m[I 17:52:44 InstallContribNbextensionsApp]\u001b[m Copying: /Users/juliaprozorova/opt/anaconda3/lib/python3.9/site-packages/jupyter_contrib_nbextensions/nbextensions/execution_dependencies/execution_dependencies.yml -> /Users/juliaprozorova/Library/Jupyter/nbextensions/execution_dependencies/execution_dependencies.yml\n",
      "\u001b[32m[I 17:52:44 InstallContribNbextensionsApp]\u001b[m Copying: /Users/juliaprozorova/opt/anaconda3/lib/python3.9/site-packages/jupyter_contrib_nbextensions/nbextensions/execution_dependencies/README.md -> /Users/juliaprozorova/Library/Jupyter/nbextensions/execution_dependencies/README.md\n",
      "\u001b[32m[I 17:52:44 InstallContribNbextensionsApp]\u001b[m Copying: /Users/juliaprozorova/opt/anaconda3/lib/python3.9/site-packages/jupyter_contrib_nbextensions/nbextensions/execution_dependencies/execution_dependencies.js -> /Users/juliaprozorova/Library/Jupyter/nbextensions/execution_dependencies/execution_dependencies.js\n",
      "\u001b[32m[I 17:52:44 InstallContribNbextensionsApp]\u001b[m - Validating: \u001b[32mOK\u001b[0m\n",
      "\u001b[32m[I 17:52:44 InstallContribNbextensionsApp]\u001b[m Installing /Users/juliaprozorova/opt/anaconda3/lib/python3.9/site-packages/jupyter_contrib_nbextensions/nbextensions/skill -> skill\n",
      "\u001b[32m[I 17:52:44 InstallContribNbextensionsApp]\u001b[m Making directory: /Users/juliaprozorova/Library/Jupyter/nbextensions/skill/\n",
      "\u001b[32m[I 17:52:44 InstallContribNbextensionsApp]\u001b[m Copying: /Users/juliaprozorova/opt/anaconda3/lib/python3.9/site-packages/jupyter_contrib_nbextensions/nbextensions/skill/skill.js -> /Users/juliaprozorova/Library/Jupyter/nbextensions/skill/skill.js\n",
      "\u001b[32m[I 17:52:44 InstallContribNbextensionsApp]\u001b[m Copying: /Users/juliaprozorova/opt/anaconda3/lib/python3.9/site-packages/jupyter_contrib_nbextensions/nbextensions/skill/README.md -> /Users/juliaprozorova/Library/Jupyter/nbextensions/skill/README.md\n",
      "\u001b[32m[I 17:52:44 InstallContribNbextensionsApp]\u001b[m Copying: /Users/juliaprozorova/opt/anaconda3/lib/python3.9/site-packages/jupyter_contrib_nbextensions/nbextensions/skill/main.js -> /Users/juliaprozorova/Library/Jupyter/nbextensions/skill/main.js\n",
      "\u001b[32m[I 17:52:44 InstallContribNbextensionsApp]\u001b[m Copying: /Users/juliaprozorova/opt/anaconda3/lib/python3.9/site-packages/jupyter_contrib_nbextensions/nbextensions/skill/skill.yaml -> /Users/juliaprozorova/Library/Jupyter/nbextensions/skill/skill.yaml\n",
      "\u001b[32m[I 17:52:44 InstallContribNbextensionsApp]\u001b[m - Validating: \u001b[32mOK\u001b[0m\n",
      "\u001b[32m[I 17:52:44 InstallContribNbextensionsApp]\u001b[m Installing /Users/juliaprozorova/opt/anaconda3/lib/python3.9/site-packages/jupyter_contrib_nbextensions/nbextensions/splitcell -> splitcell\n",
      "\u001b[32m[I 17:52:44 InstallContribNbextensionsApp]\u001b[m Making directory: /Users/juliaprozorova/Library/Jupyter/nbextensions/splitcell/\n",
      "\u001b[32m[I 17:52:44 InstallContribNbextensionsApp]\u001b[m Copying: /Users/juliaprozorova/opt/anaconda3/lib/python3.9/site-packages/jupyter_contrib_nbextensions/nbextensions/splitcell/icon.png -> /Users/juliaprozorova/Library/Jupyter/nbextensions/splitcell/icon.png\n",
      "\u001b[32m[I 17:52:44 InstallContribNbextensionsApp]\u001b[m Copying: /Users/juliaprozorova/opt/anaconda3/lib/python3.9/site-packages/jupyter_contrib_nbextensions/nbextensions/splitcell/readme.md -> /Users/juliaprozorova/Library/Jupyter/nbextensions/splitcell/readme.md\n",
      "\u001b[32m[I 17:52:44 InstallContribNbextensionsApp]\u001b[m Copying: /Users/juliaprozorova/opt/anaconda3/lib/python3.9/site-packages/jupyter_contrib_nbextensions/nbextensions/splitcell/splitcell.yaml -> /Users/juliaprozorova/Library/Jupyter/nbextensions/splitcell/splitcell.yaml\n",
      "\u001b[32m[I 17:52:44 InstallContribNbextensionsApp]\u001b[m Copying: /Users/juliaprozorova/opt/anaconda3/lib/python3.9/site-packages/jupyter_contrib_nbextensions/nbextensions/splitcell/splitcell.js -> /Users/juliaprozorova/Library/Jupyter/nbextensions/splitcell/splitcell.js\n",
      "\u001b[32m[I 17:52:44 InstallContribNbextensionsApp]\u001b[m - Validating: \u001b[32mOK\u001b[0m\n",
      "\u001b[32m[I 17:52:44 InstallContribNbextensionsApp]\u001b[m Installing /Users/juliaprozorova/opt/anaconda3/lib/python3.9/site-packages/jupyter_contrib_nbextensions/nbextensions/autosavetime -> autosavetime\n",
      "\u001b[32m[I 17:52:44 InstallContribNbextensionsApp]\u001b[m Making directory: /Users/juliaprozorova/Library/Jupyter/nbextensions/autosavetime/\n",
      "\u001b[32m[I 17:52:44 InstallContribNbextensionsApp]\u001b[m Copying: /Users/juliaprozorova/opt/anaconda3/lib/python3.9/site-packages/jupyter_contrib_nbextensions/nbextensions/autosavetime/icon.png -> /Users/juliaprozorova/Library/Jupyter/nbextensions/autosavetime/icon.png\n",
      "\u001b[32m[I 17:52:44 InstallContribNbextensionsApp]\u001b[m Copying: /Users/juliaprozorova/opt/anaconda3/lib/python3.9/site-packages/jupyter_contrib_nbextensions/nbextensions/autosavetime/README.md -> /Users/juliaprozorova/Library/Jupyter/nbextensions/autosavetime/README.md\n",
      "\u001b[32m[I 17:52:44 InstallContribNbextensionsApp]\u001b[m Copying: /Users/juliaprozorova/opt/anaconda3/lib/python3.9/site-packages/jupyter_contrib_nbextensions/nbextensions/autosavetime/autosavetime.yaml -> /Users/juliaprozorova/Library/Jupyter/nbextensions/autosavetime/autosavetime.yaml\n",
      "\u001b[32m[I 17:52:44 InstallContribNbextensionsApp]\u001b[m Copying: /Users/juliaprozorova/opt/anaconda3/lib/python3.9/site-packages/jupyter_contrib_nbextensions/nbextensions/autosavetime/main.js -> /Users/juliaprozorova/Library/Jupyter/nbextensions/autosavetime/main.js\n",
      "\u001b[32m[I 17:52:44 InstallContribNbextensionsApp]\u001b[m - Validating: \u001b[32mOK\u001b[0m\n",
      "\u001b[32m[I 17:52:44 InstallContribNbextensionsApp]\u001b[m Installing /Users/juliaprozorova/opt/anaconda3/lib/python3.9/site-packages/jupyter_contrib_nbextensions/nbextensions/select_keymap -> select_keymap\n",
      "\u001b[32m[I 17:52:44 InstallContribNbextensionsApp]\u001b[m Making directory: /Users/juliaprozorova/Library/Jupyter/nbextensions/select_keymap/\n",
      "\u001b[32m[I 17:52:44 InstallContribNbextensionsApp]\u001b[m Copying: /Users/juliaprozorova/opt/anaconda3/lib/python3.9/site-packages/jupyter_contrib_nbextensions/nbextensions/select_keymap/select_keymap.png -> /Users/juliaprozorova/Library/Jupyter/nbextensions/select_keymap/select_keymap.png\n",
      "\u001b[32m[I 17:52:44 InstallContribNbextensionsApp]\u001b[m Copying: /Users/juliaprozorova/opt/anaconda3/lib/python3.9/site-packages/jupyter_contrib_nbextensions/nbextensions/select_keymap/README.md -> /Users/juliaprozorova/Library/Jupyter/nbextensions/select_keymap/README.md\n",
      "\u001b[32m[I 17:52:44 InstallContribNbextensionsApp]\u001b[m Copying: /Users/juliaprozorova/opt/anaconda3/lib/python3.9/site-packages/jupyter_contrib_nbextensions/nbextensions/select_keymap/main.js -> /Users/juliaprozorova/Library/Jupyter/nbextensions/select_keymap/main.js\n",
      "\u001b[32m[I 17:52:44 InstallContribNbextensionsApp]\u001b[m Copying: /Users/juliaprozorova/opt/anaconda3/lib/python3.9/site-packages/jupyter_contrib_nbextensions/nbextensions/select_keymap/select_keymap.yaml -> /Users/juliaprozorova/Library/Jupyter/nbextensions/select_keymap/select_keymap.yaml\n",
      "\u001b[32m[I 17:52:44 InstallContribNbextensionsApp]\u001b[m - Validating: \u001b[32mOK\u001b[0m\n",
      "\u001b[32m[I 17:52:44 InstallContribNbextensionsApp]\u001b[m Installing /Users/juliaprozorova/opt/anaconda3/lib/python3.9/site-packages/jupyter_contrib_nbextensions/nbextensions/livemdpreview -> livemdpreview\n",
      "\u001b[32m[I 17:52:44 InstallContribNbextensionsApp]\u001b[m Making directory: /Users/juliaprozorova/Library/Jupyter/nbextensions/livemdpreview/\n",
      "\u001b[32m[I 17:52:44 InstallContribNbextensionsApp]\u001b[m Copying: /Users/juliaprozorova/opt/anaconda3/lib/python3.9/site-packages/jupyter_contrib_nbextensions/nbextensions/livemdpreview/livemdpreview.yml -> /Users/juliaprozorova/Library/Jupyter/nbextensions/livemdpreview/livemdpreview.yml\n",
      "\u001b[32m[I 17:52:44 InstallContribNbextensionsApp]\u001b[m Copying: /Users/juliaprozorova/opt/anaconda3/lib/python3.9/site-packages/jupyter_contrib_nbextensions/nbextensions/livemdpreview/livemdpreview.js -> /Users/juliaprozorova/Library/Jupyter/nbextensions/livemdpreview/livemdpreview.js\n",
      "\u001b[32m[I 17:52:44 InstallContribNbextensionsApp]\u001b[m - Validating: \u001b[32mOK\u001b[0m\n",
      "\u001b[32m[I 17:52:44 InstallContribNbextensionsApp]\u001b[m Installing /Users/juliaprozorova/opt/anaconda3/lib/python3.9/site-packages/jupyter_contrib_nbextensions/nbextensions/gist_it -> gist_it\n",
      "\u001b[32m[I 17:52:44 InstallContribNbextensionsApp]\u001b[m Making directory: /Users/juliaprozorova/Library/Jupyter/nbextensions/gist_it/\n",
      "\u001b[32m[I 17:52:44 InstallContribNbextensionsApp]\u001b[m Copying: /Users/juliaprozorova/opt/anaconda3/lib/python3.9/site-packages/jupyter_contrib_nbextensions/nbextensions/gist_it/icon.png -> /Users/juliaprozorova/Library/Jupyter/nbextensions/gist_it/icon.png\n",
      "\u001b[32m[I 17:52:44 InstallContribNbextensionsApp]\u001b[m Copying: /Users/juliaprozorova/opt/anaconda3/lib/python3.9/site-packages/jupyter_contrib_nbextensions/nbextensions/gist_it/gist_it.yaml -> /Users/juliaprozorova/Library/Jupyter/nbextensions/gist_it/gist_it.yaml\n",
      "\u001b[32m[I 17:52:44 InstallContribNbextensionsApp]\u001b[m Copying: /Users/juliaprozorova/opt/anaconda3/lib/python3.9/site-packages/jupyter_contrib_nbextensions/nbextensions/gist_it/readme.md -> /Users/juliaprozorova/Library/Jupyter/nbextensions/gist_it/readme.md\n",
      "\u001b[32m[I 17:52:44 InstallContribNbextensionsApp]\u001b[m Copying: /Users/juliaprozorova/opt/anaconda3/lib/python3.9/site-packages/jupyter_contrib_nbextensions/nbextensions/gist_it/main.js -> /Users/juliaprozorova/Library/Jupyter/nbextensions/gist_it/main.js\n",
      "\u001b[32m[I 17:52:44 InstallContribNbextensionsApp]\u001b[m - Validating: \u001b[32mOK\u001b[0m\n",
      "\u001b[32m[I 17:52:44 InstallContribNbextensionsApp]\u001b[m Installing /Users/juliaprozorova/opt/anaconda3/lib/python3.9/site-packages/jupyter_contrib_nbextensions/nbextensions/cell_filter -> cell_filter\n",
      "\u001b[32m[I 17:52:44 InstallContribNbextensionsApp]\u001b[m Making directory: /Users/juliaprozorova/Library/Jupyter/nbextensions/cell_filter/\n",
      "\u001b[32m[I 17:52:44 InstallContribNbextensionsApp]\u001b[m Copying: /Users/juliaprozorova/opt/anaconda3/lib/python3.9/site-packages/jupyter_contrib_nbextensions/nbextensions/cell_filter/cell_filter.yml -> /Users/juliaprozorova/Library/Jupyter/nbextensions/cell_filter/cell_filter.yml\n"
     ]
    },
    {
     "name": "stdout",
     "output_type": "stream",
     "text": [
      "\u001b[32m[I 17:52:44 InstallContribNbextensionsApp]\u001b[m Copying: /Users/juliaprozorova/opt/anaconda3/lib/python3.9/site-packages/jupyter_contrib_nbextensions/nbextensions/cell_filter/cell_filter.js -> /Users/juliaprozorova/Library/Jupyter/nbextensions/cell_filter/cell_filter.js\n",
      "\u001b[32m[I 17:52:44 InstallContribNbextensionsApp]\u001b[m Copying: /Users/juliaprozorova/opt/anaconda3/lib/python3.9/site-packages/jupyter_contrib_nbextensions/nbextensions/cell_filter/README.md -> /Users/juliaprozorova/Library/Jupyter/nbextensions/cell_filter/README.md\n",
      "\u001b[32m[I 17:52:44 InstallContribNbextensionsApp]\u001b[m - Validating: \u001b[32mOK\u001b[0m\n",
      "\u001b[32m[I 17:52:44 InstallContribNbextensionsApp]\u001b[m Installing /Users/juliaprozorova/opt/anaconda3/lib/python3.9/site-packages/jupyter_contrib_nbextensions/nbextensions/scratchpad -> scratchpad\n",
      "\u001b[32m[I 17:52:44 InstallContribNbextensionsApp]\u001b[m Making directory: /Users/juliaprozorova/Library/Jupyter/nbextensions/scratchpad/\n",
      "\u001b[32m[I 17:52:44 InstallContribNbextensionsApp]\u001b[m Copying: /Users/juliaprozorova/opt/anaconda3/lib/python3.9/site-packages/jupyter_contrib_nbextensions/nbextensions/scratchpad/LICENSE -> /Users/juliaprozorova/Library/Jupyter/nbextensions/scratchpad/LICENSE\n",
      "\u001b[32m[I 17:52:44 InstallContribNbextensionsApp]\u001b[m Copying: /Users/juliaprozorova/opt/anaconda3/lib/python3.9/site-packages/jupyter_contrib_nbextensions/nbextensions/scratchpad/scratchpad.yaml -> /Users/juliaprozorova/Library/Jupyter/nbextensions/scratchpad/scratchpad.yaml\n",
      "\u001b[32m[I 17:52:44 InstallContribNbextensionsApp]\u001b[m Copying: /Users/juliaprozorova/opt/anaconda3/lib/python3.9/site-packages/jupyter_contrib_nbextensions/nbextensions/scratchpad/README.md -> /Users/juliaprozorova/Library/Jupyter/nbextensions/scratchpad/README.md\n",
      "\u001b[32m[I 17:52:44 InstallContribNbextensionsApp]\u001b[m Copying: /Users/juliaprozorova/opt/anaconda3/lib/python3.9/site-packages/jupyter_contrib_nbextensions/nbextensions/scratchpad/main.js -> /Users/juliaprozorova/Library/Jupyter/nbextensions/scratchpad/main.js\n",
      "\u001b[32m[I 17:52:44 InstallContribNbextensionsApp]\u001b[m Copying: /Users/juliaprozorova/opt/anaconda3/lib/python3.9/site-packages/jupyter_contrib_nbextensions/nbextensions/scratchpad/scratchpad.css -> /Users/juliaprozorova/Library/Jupyter/nbextensions/scratchpad/scratchpad.css\n",
      "\u001b[32m[I 17:52:44 InstallContribNbextensionsApp]\u001b[m Copying: /Users/juliaprozorova/opt/anaconda3/lib/python3.9/site-packages/jupyter_contrib_nbextensions/nbextensions/scratchpad/demo.gif -> /Users/juliaprozorova/Library/Jupyter/nbextensions/scratchpad/demo.gif\n",
      "\u001b[32m[I 17:52:44 InstallContribNbextensionsApp]\u001b[m - Validating: \u001b[32mOK\u001b[0m\n",
      "\u001b[32m[I 17:52:44 InstallContribNbextensionsApp]\u001b[m Installing /Users/juliaprozorova/opt/anaconda3/lib/python3.9/site-packages/jupyter_contrib_nbextensions/nbextensions/toc2 -> toc2\n",
      "\u001b[32m[I 17:52:44 InstallContribNbextensionsApp]\u001b[m Making directory: /Users/juliaprozorova/Library/Jupyter/nbextensions/toc2/\n",
      "\u001b[32m[I 17:52:44 InstallContribNbextensionsApp]\u001b[m Copying: /Users/juliaprozorova/opt/anaconda3/lib/python3.9/site-packages/jupyter_contrib_nbextensions/nbextensions/toc2/toc2.yaml -> /Users/juliaprozorova/Library/Jupyter/nbextensions/toc2/toc2.yaml\n",
      "\u001b[32m[I 17:52:44 InstallContribNbextensionsApp]\u001b[m Copying: /Users/juliaprozorova/opt/anaconda3/lib/python3.9/site-packages/jupyter_contrib_nbextensions/nbextensions/toc2/icon.png -> /Users/juliaprozorova/Library/Jupyter/nbextensions/toc2/icon.png\n",
      "\u001b[32m[I 17:52:44 InstallContribNbextensionsApp]\u001b[m Copying: /Users/juliaprozorova/opt/anaconda3/lib/python3.9/site-packages/jupyter_contrib_nbextensions/nbextensions/toc2/demo_dark.png -> /Users/juliaprozorova/Library/Jupyter/nbextensions/toc2/demo_dark.png\n",
      "\u001b[32m[I 17:52:44 InstallContribNbextensionsApp]\u001b[m Copying: /Users/juliaprozorova/opt/anaconda3/lib/python3.9/site-packages/jupyter_contrib_nbextensions/nbextensions/toc2/main.css -> /Users/juliaprozorova/Library/Jupyter/nbextensions/toc2/main.css\n",
      "\u001b[32m[I 17:52:44 InstallContribNbextensionsApp]\u001b[m Copying: /Users/juliaprozorova/opt/anaconda3/lib/python3.9/site-packages/jupyter_contrib_nbextensions/nbextensions/toc2/README.md -> /Users/juliaprozorova/Library/Jupyter/nbextensions/toc2/README.md\n",
      "\u001b[32m[I 17:52:44 InstallContribNbextensionsApp]\u001b[m Copying: /Users/juliaprozorova/opt/anaconda3/lib/python3.9/site-packages/jupyter_contrib_nbextensions/nbextensions/toc2/main.js -> /Users/juliaprozorova/Library/Jupyter/nbextensions/toc2/main.js\n",
      "\u001b[32m[I 17:52:44 InstallContribNbextensionsApp]\u001b[m Copying: /Users/juliaprozorova/opt/anaconda3/lib/python3.9/site-packages/jupyter_contrib_nbextensions/nbextensions/toc2/demo3.gif -> /Users/juliaprozorova/Library/Jupyter/nbextensions/toc2/demo3.gif\n",
      "\u001b[32m[I 17:52:44 InstallContribNbextensionsApp]\u001b[m Copying: /Users/juliaprozorova/opt/anaconda3/lib/python3.9/site-packages/jupyter_contrib_nbextensions/nbextensions/toc2/demo2.gif -> /Users/juliaprozorova/Library/Jupyter/nbextensions/toc2/demo2.gif\n",
      "\u001b[32m[I 17:52:44 InstallContribNbextensionsApp]\u001b[m Copying: /Users/juliaprozorova/opt/anaconda3/lib/python3.9/site-packages/jupyter_contrib_nbextensions/nbextensions/toc2/toc2.js -> /Users/juliaprozorova/Library/Jupyter/nbextensions/toc2/toc2.js\n",
      "\u001b[32m[I 17:52:44 InstallContribNbextensionsApp]\u001b[m Copying: /Users/juliaprozorova/opt/anaconda3/lib/python3.9/site-packages/jupyter_contrib_nbextensions/nbextensions/toc2/demo.gif -> /Users/juliaprozorova/Library/Jupyter/nbextensions/toc2/demo.gif\n",
      "\u001b[32m[I 17:52:44 InstallContribNbextensionsApp]\u001b[m Copying: /Users/juliaprozorova/opt/anaconda3/lib/python3.9/site-packages/jupyter_contrib_nbextensions/nbextensions/toc2/image.png -> /Users/juliaprozorova/Library/Jupyter/nbextensions/toc2/image.png\n",
      "\u001b[32m[I 17:52:44 InstallContribNbextensionsApp]\u001b[m - Validating: \u001b[32mOK\u001b[0m\n",
      "\u001b[32m[I 17:52:44 InstallContribNbextensionsApp]\u001b[m Installing /Users/juliaprozorova/opt/anaconda3/lib/python3.9/site-packages/jupyter_contrib_nbextensions/nbextensions/nbTranslate -> nbTranslate\n",
      "\u001b[32m[I 17:52:44 InstallContribNbextensionsApp]\u001b[m Making directory: /Users/juliaprozorova/Library/Jupyter/nbextensions/nbTranslate/\n",
      "\u001b[32m[I 17:52:44 InstallContribNbextensionsApp]\u001b[m Copying: /Users/juliaprozorova/opt/anaconda3/lib/python3.9/site-packages/jupyter_contrib_nbextensions/nbextensions/nbTranslate/nbTranslate.yaml -> /Users/juliaprozorova/Library/Jupyter/nbextensions/nbTranslate/nbTranslate.yaml\n",
      "\u001b[32m[I 17:52:44 InstallContribNbextensionsApp]\u001b[m Copying: /Users/juliaprozorova/opt/anaconda3/lib/python3.9/site-packages/jupyter_contrib_nbextensions/nbextensions/nbTranslate/nbTranslate.js -> /Users/juliaprozorova/Library/Jupyter/nbextensions/nbTranslate/nbTranslate.js\n",
      "\u001b[32m[I 17:52:44 InstallContribNbextensionsApp]\u001b[m Copying: /Users/juliaprozorova/opt/anaconda3/lib/python3.9/site-packages/jupyter_contrib_nbextensions/nbextensions/nbTranslate/README.md -> /Users/juliaprozorova/Library/Jupyter/nbextensions/nbTranslate/README.md\n",
      "\u001b[32m[I 17:52:44 InstallContribNbextensionsApp]\u001b[m Copying: /Users/juliaprozorova/opt/anaconda3/lib/python3.9/site-packages/jupyter_contrib_nbextensions/nbextensions/nbTranslate/main.js -> /Users/juliaprozorova/Library/Jupyter/nbextensions/nbTranslate/main.js\n",
      "\u001b[32m[I 17:52:44 InstallContribNbextensionsApp]\u001b[m Copying: /Users/juliaprozorova/opt/anaconda3/lib/python3.9/site-packages/jupyter_contrib_nbextensions/nbextensions/nbTranslate/demo1.gif -> /Users/juliaprozorova/Library/Jupyter/nbextensions/nbTranslate/demo1.gif\n",
      "\u001b[32m[I 17:52:44 InstallContribNbextensionsApp]\u001b[m Copying: /Users/juliaprozorova/opt/anaconda3/lib/python3.9/site-packages/jupyter_contrib_nbextensions/nbextensions/nbTranslate/demo2.gif -> /Users/juliaprozorova/Library/Jupyter/nbextensions/nbTranslate/demo2.gif\n",
      "\u001b[32m[I 17:52:44 InstallContribNbextensionsApp]\u001b[m Copying: /Users/juliaprozorova/opt/anaconda3/lib/python3.9/site-packages/jupyter_contrib_nbextensions/nbextensions/nbTranslate/languages.js -> /Users/juliaprozorova/Library/Jupyter/nbextensions/nbTranslate/languages.js\n",
      "\u001b[32m[I 17:52:44 InstallContribNbextensionsApp]\u001b[m Copying: /Users/juliaprozorova/opt/anaconda3/lib/python3.9/site-packages/jupyter_contrib_nbextensions/nbextensions/nbTranslate/mutils.js -> /Users/juliaprozorova/Library/Jupyter/nbextensions/nbTranslate/mutils.js\n",
      "\u001b[32m[I 17:52:44 InstallContribNbextensionsApp]\u001b[m - Validating: \u001b[32mOK\u001b[0m\n",
      "\u001b[32m[I 17:52:44 InstallContribNbextensionsApp]\u001b[m Installing /Users/juliaprozorova/opt/anaconda3/lib/python3.9/site-packages/jupyter_contrib_nbextensions/nbextensions/equation-numbering -> equation-numbering\n",
      "\u001b[32m[I 17:52:44 InstallContribNbextensionsApp]\u001b[m Making directory: /Users/juliaprozorova/Library/Jupyter/nbextensions/equation-numbering/\n",
      "\u001b[32m[I 17:52:44 InstallContribNbextensionsApp]\u001b[m Copying: /Users/juliaprozorova/opt/anaconda3/lib/python3.9/site-packages/jupyter_contrib_nbextensions/nbextensions/equation-numbering/icon.png -> /Users/juliaprozorova/Library/Jupyter/nbextensions/equation-numbering/icon.png\n",
      "\u001b[32m[I 17:52:44 InstallContribNbextensionsApp]\u001b[m Copying: /Users/juliaprozorova/opt/anaconda3/lib/python3.9/site-packages/jupyter_contrib_nbextensions/nbextensions/equation-numbering/readme.md -> /Users/juliaprozorova/Library/Jupyter/nbextensions/equation-numbering/readme.md\n",
      "\u001b[32m[I 17:52:44 InstallContribNbextensionsApp]\u001b[m Copying: /Users/juliaprozorova/opt/anaconda3/lib/python3.9/site-packages/jupyter_contrib_nbextensions/nbextensions/equation-numbering/main.js -> /Users/juliaprozorova/Library/Jupyter/nbextensions/equation-numbering/main.js\n",
      "\u001b[32m[I 17:52:44 InstallContribNbextensionsApp]\u001b[m Copying: /Users/juliaprozorova/opt/anaconda3/lib/python3.9/site-packages/jupyter_contrib_nbextensions/nbextensions/equation-numbering/info.yaml -> /Users/juliaprozorova/Library/Jupyter/nbextensions/equation-numbering/info.yaml\n",
      "\u001b[32m[I 17:52:44 InstallContribNbextensionsApp]\u001b[m Copying: /Users/juliaprozorova/opt/anaconda3/lib/python3.9/site-packages/jupyter_contrib_nbextensions/nbextensions/equation-numbering/button.png -> /Users/juliaprozorova/Library/Jupyter/nbextensions/equation-numbering/button.png\n",
      "\u001b[32m[I 17:52:44 InstallContribNbextensionsApp]\u001b[m - Validating: \u001b[32mOK\u001b[0m\n",
      "\u001b[32m[I 17:52:44 InstallContribNbextensionsApp]\u001b[m Installing /Users/juliaprozorova/opt/anaconda3/lib/python3.9/site-packages/jupyter_contrib_nbextensions/nbextensions/navigation-hotkeys -> navigation-hotkeys\n",
      "\u001b[32m[I 17:52:44 InstallContribNbextensionsApp]\u001b[m Making directory: /Users/juliaprozorova/Library/Jupyter/nbextensions/navigation-hotkeys/\n",
      "\u001b[32m[I 17:52:44 InstallContribNbextensionsApp]\u001b[m Copying: /Users/juliaprozorova/opt/anaconda3/lib/python3.9/site-packages/jupyter_contrib_nbextensions/nbextensions/navigation-hotkeys/icon.png -> /Users/juliaprozorova/Library/Jupyter/nbextensions/navigation-hotkeys/icon.png\n"
     ]
    },
    {
     "name": "stdout",
     "output_type": "stream",
     "text": [
      "\u001b[32m[I 17:52:44 InstallContribNbextensionsApp]\u001b[m Copying: /Users/juliaprozorova/opt/anaconda3/lib/python3.9/site-packages/jupyter_contrib_nbextensions/nbextensions/navigation-hotkeys/readme.md -> /Users/juliaprozorova/Library/Jupyter/nbextensions/navigation-hotkeys/readme.md\n",
      "\u001b[32m[I 17:52:44 InstallContribNbextensionsApp]\u001b[m Copying: /Users/juliaprozorova/opt/anaconda3/lib/python3.9/site-packages/jupyter_contrib_nbextensions/nbextensions/navigation-hotkeys/main.js -> /Users/juliaprozorova/Library/Jupyter/nbextensions/navigation-hotkeys/main.js\n",
      "\u001b[32m[I 17:52:44 InstallContribNbextensionsApp]\u001b[m Copying: /Users/juliaprozorova/opt/anaconda3/lib/python3.9/site-packages/jupyter_contrib_nbextensions/nbextensions/navigation-hotkeys/hotkeys.yaml -> /Users/juliaprozorova/Library/Jupyter/nbextensions/navigation-hotkeys/hotkeys.yaml\n",
      "\u001b[32m[I 17:52:44 InstallContribNbextensionsApp]\u001b[m - Validating: \u001b[32mOK\u001b[0m\n",
      "\u001b[32m[I 17:52:44 InstallContribNbextensionsApp]\u001b[m Installing /Users/juliaprozorova/opt/anaconda3/lib/python3.9/site-packages/jupyter_contrib_nbextensions/nbextensions/snippets_menu -> snippets_menu\n",
      "\u001b[32m[I 17:52:44 InstallContribNbextensionsApp]\u001b[m Making directory: /Users/juliaprozorova/Library/Jupyter/nbextensions/snippets_menu/\n",
      "\u001b[32m[I 17:52:44 InstallContribNbextensionsApp]\u001b[m Copying: /Users/juliaprozorova/opt/anaconda3/lib/python3.9/site-packages/jupyter_contrib_nbextensions/nbextensions/snippets_menu/snippets_menu.css -> /Users/juliaprozorova/Library/Jupyter/nbextensions/snippets_menu/snippets_menu.css\n",
      "\u001b[32m[I 17:52:44 InstallContribNbextensionsApp]\u001b[m Copying: /Users/juliaprozorova/opt/anaconda3/lib/python3.9/site-packages/jupyter_contrib_nbextensions/nbextensions/snippets_menu/snippets_submenu_python.js -> /Users/juliaprozorova/Library/Jupyter/nbextensions/snippets_menu/snippets_submenu_python.js\n",
      "\u001b[32m[I 17:52:44 InstallContribNbextensionsApp]\u001b[m Copying: /Users/juliaprozorova/opt/anaconda3/lib/python3.9/site-packages/jupyter_contrib_nbextensions/nbextensions/snippets_menu/config.yaml -> /Users/juliaprozorova/Library/Jupyter/nbextensions/snippets_menu/config.yaml\n",
      "\u001b[32m[I 17:52:44 InstallContribNbextensionsApp]\u001b[m Copying: /Users/juliaprozorova/opt/anaconda3/lib/python3.9/site-packages/jupyter_contrib_nbextensions/nbextensions/snippets_menu/readme.md -> /Users/juliaprozorova/Library/Jupyter/nbextensions/snippets_menu/readme.md\n",
      "\u001b[32m[I 17:52:44 InstallContribNbextensionsApp]\u001b[m Copying: /Users/juliaprozorova/opt/anaconda3/lib/python3.9/site-packages/jupyter_contrib_nbextensions/nbextensions/snippets_menu/main.js -> /Users/juliaprozorova/Library/Jupyter/nbextensions/snippets_menu/main.js\n",
      "\u001b[32m[I 17:52:44 InstallContribNbextensionsApp]\u001b[m Copying: /Users/juliaprozorova/opt/anaconda3/lib/python3.9/site-packages/jupyter_contrib_nbextensions/nbextensions/snippets_menu/snippets_submenu_markdown.js -> /Users/juliaprozorova/Library/Jupyter/nbextensions/snippets_menu/snippets_submenu_markdown.js\n",
      "\u001b[32m[I 17:52:44 InstallContribNbextensionsApp]\u001b[m Copying: /Users/juliaprozorova/opt/anaconda3/lib/python3.9/site-packages/jupyter_contrib_nbextensions/nbextensions/snippets_menu/thumbnail.png -> /Users/juliaprozorova/Library/Jupyter/nbextensions/snippets_menu/thumbnail.png\n",
      "\u001b[32m[I 17:52:44 InstallContribNbextensionsApp]\u001b[m Copying: /Users/juliaprozorova/opt/anaconda3/lib/python3.9/site-packages/jupyter_contrib_nbextensions/nbextensions/snippets_menu/screenshot1.png -> /Users/juliaprozorova/Library/Jupyter/nbextensions/snippets_menu/screenshot1.png\n",
      "\u001b[32m[I 17:52:44 InstallContribNbextensionsApp]\u001b[m Copying: /Users/juliaprozorova/opt/anaconda3/lib/python3.9/site-packages/jupyter_contrib_nbextensions/nbextensions/snippets_menu/screenshot2.png -> /Users/juliaprozorova/Library/Jupyter/nbextensions/snippets_menu/screenshot2.png\n",
      "\u001b[32m[I 17:52:44 InstallContribNbextensionsApp]\u001b[m Copying: /Users/juliaprozorova/opt/anaconda3/lib/python3.9/site-packages/jupyter_contrib_nbextensions/nbextensions/snippets_menu/screenshot3.png -> /Users/juliaprozorova/Library/Jupyter/nbextensions/snippets_menu/screenshot3.png\n",
      "\u001b[32m[I 17:52:44 InstallContribNbextensionsApp]\u001b[m Copying: /Users/juliaprozorova/opt/anaconda3/lib/python3.9/site-packages/jupyter_contrib_nbextensions/nbextensions/snippets_menu/examples_for_custom.js -> /Users/juliaprozorova/Library/Jupyter/nbextensions/snippets_menu/examples_for_custom.js\n",
      "\u001b[32m[I 17:52:44 InstallContribNbextensionsApp]\u001b[m Making directory: /Users/juliaprozorova/Library/Jupyter/nbextensions/snippets_menu/snippets_submenus_python\n",
      "\u001b[32m[I 17:52:44 InstallContribNbextensionsApp]\u001b[m Copying: /Users/juliaprozorova/opt/anaconda3/lib/python3.9/site-packages/jupyter_contrib_nbextensions/nbextensions/snippets_menu/snippets_submenus_python/numpy_ufuncs.js -> /Users/juliaprozorova/Library/Jupyter/nbextensions/snippets_menu/snippets_submenus_python/numpy_ufuncs.js\n",
      "\u001b[32m[I 17:52:44 InstallContribNbextensionsApp]\u001b[m Copying: /Users/juliaprozorova/opt/anaconda3/lib/python3.9/site-packages/jupyter_contrib_nbextensions/nbextensions/snippets_menu/snippets_submenus_python/numba.js -> /Users/juliaprozorova/Library/Jupyter/nbextensions/snippets_menu/snippets_submenus_python/numba.js\n",
      "\u001b[32m[I 17:52:44 InstallContribNbextensionsApp]\u001b[m Copying: /Users/juliaprozorova/opt/anaconda3/lib/python3.9/site-packages/jupyter_contrib_nbextensions/nbextensions/snippets_menu/snippets_submenus_python/sympy_assumptions.js -> /Users/juliaprozorova/Library/Jupyter/nbextensions/snippets_menu/snippets_submenus_python/sympy_assumptions.js\n",
      "\u001b[32m[I 17:52:44 InstallContribNbextensionsApp]\u001b[m Copying: /Users/juliaprozorova/opt/anaconda3/lib/python3.9/site-packages/jupyter_contrib_nbextensions/nbextensions/snippets_menu/snippets_submenus_python/sympy.js -> /Users/juliaprozorova/Library/Jupyter/nbextensions/snippets_menu/snippets_submenus_python/sympy.js\n",
      "\u001b[32m[I 17:52:44 InstallContribNbextensionsApp]\u001b[m Copying: /Users/juliaprozorova/opt/anaconda3/lib/python3.9/site-packages/jupyter_contrib_nbextensions/nbextensions/snippets_menu/snippets_submenus_python/numpy.js -> /Users/juliaprozorova/Library/Jupyter/nbextensions/snippets_menu/snippets_submenus_python/numpy.js\n",
      "\u001b[32m[I 17:52:44 InstallContribNbextensionsApp]\u001b[m Copying: /Users/juliaprozorova/opt/anaconda3/lib/python3.9/site-packages/jupyter_contrib_nbextensions/nbextensions/snippets_menu/snippets_submenus_python/astropy.js -> /Users/juliaprozorova/Library/Jupyter/nbextensions/snippets_menu/snippets_submenus_python/astropy.js\n",
      "\u001b[32m[I 17:52:44 InstallContribNbextensionsApp]\u001b[m Copying: /Users/juliaprozorova/opt/anaconda3/lib/python3.9/site-packages/jupyter_contrib_nbextensions/nbextensions/snippets_menu/snippets_submenus_python/pandas.js -> /Users/juliaprozorova/Library/Jupyter/nbextensions/snippets_menu/snippets_submenus_python/pandas.js\n",
      "\u001b[32m[I 17:52:44 InstallContribNbextensionsApp]\u001b[m Copying: /Users/juliaprozorova/opt/anaconda3/lib/python3.9/site-packages/jupyter_contrib_nbextensions/nbextensions/snippets_menu/snippets_submenus_python/numpy_polynomial.js -> /Users/juliaprozorova/Library/Jupyter/nbextensions/snippets_menu/snippets_submenus_python/numpy_polynomial.js\n",
      "\u001b[32m[I 17:52:44 InstallContribNbextensionsApp]\u001b[m Copying: /Users/juliaprozorova/opt/anaconda3/lib/python3.9/site-packages/jupyter_contrib_nbextensions/nbextensions/snippets_menu/snippets_submenus_python/scipy_constants.js -> /Users/juliaprozorova/Library/Jupyter/nbextensions/snippets_menu/snippets_submenus_python/scipy_constants.js\n",
      "\u001b[32m[I 17:52:44 InstallContribNbextensionsApp]\u001b[m Copying: /Users/juliaprozorova/opt/anaconda3/lib/python3.9/site-packages/jupyter_contrib_nbextensions/nbextensions/snippets_menu/snippets_submenus_python/matplotlib.js -> /Users/juliaprozorova/Library/Jupyter/nbextensions/snippets_menu/snippets_submenus_python/matplotlib.js\n",
      "\u001b[32m[I 17:52:44 InstallContribNbextensionsApp]\u001b[m Copying: /Users/juliaprozorova/opt/anaconda3/lib/python3.9/site-packages/jupyter_contrib_nbextensions/nbextensions/snippets_menu/snippets_submenus_python/sympy_functions.js -> /Users/juliaprozorova/Library/Jupyter/nbextensions/snippets_menu/snippets_submenus_python/sympy_functions.js\n",
      "\u001b[32m[I 17:52:44 InstallContribNbextensionsApp]\u001b[m Copying: /Users/juliaprozorova/opt/anaconda3/lib/python3.9/site-packages/jupyter_contrib_nbextensions/nbextensions/snippets_menu/snippets_submenus_python/h5py.js -> /Users/juliaprozorova/Library/Jupyter/nbextensions/snippets_menu/snippets_submenus_python/h5py.js\n",
      "\u001b[32m[I 17:52:44 InstallContribNbextensionsApp]\u001b[m Copying: /Users/juliaprozorova/opt/anaconda3/lib/python3.9/site-packages/jupyter_contrib_nbextensions/nbextensions/snippets_menu/snippets_submenus_python/scipy_special.js -> /Users/juliaprozorova/Library/Jupyter/nbextensions/snippets_menu/snippets_submenus_python/scipy_special.js\n",
      "\u001b[32m[I 17:52:44 InstallContribNbextensionsApp]\u001b[m Copying: /Users/juliaprozorova/opt/anaconda3/lib/python3.9/site-packages/jupyter_contrib_nbextensions/nbextensions/snippets_menu/snippets_submenus_python/python_regex.js -> /Users/juliaprozorova/Library/Jupyter/nbextensions/snippets_menu/snippets_submenus_python/python_regex.js\n",
      "\u001b[32m[I 17:52:44 InstallContribNbextensionsApp]\u001b[m Copying: /Users/juliaprozorova/opt/anaconda3/lib/python3.9/site-packages/jupyter_contrib_nbextensions/nbextensions/snippets_menu/snippets_submenus_python/python.js -> /Users/juliaprozorova/Library/Jupyter/nbextensions/snippets_menu/snippets_submenus_python/python.js\n",
      "\u001b[32m[I 17:52:44 InstallContribNbextensionsApp]\u001b[m Copying: /Users/juliaprozorova/opt/anaconda3/lib/python3.9/site-packages/jupyter_contrib_nbextensions/nbextensions/snippets_menu/snippets_submenus_python/scipy.js -> /Users/juliaprozorova/Library/Jupyter/nbextensions/snippets_menu/snippets_submenus_python/scipy.js\n",
      "\u001b[32m[I 17:52:44 InstallContribNbextensionsApp]\u001b[m - Validating: \u001b[32mOK\u001b[0m\n",
      "\u001b[32m[I 17:52:44 InstallContribNbextensionsApp]\u001b[m Installing /Users/juliaprozorova/opt/anaconda3/lib/python3.9/site-packages/jupyter_contrib_nbextensions/nbextensions/printview -> printview\n",
      "\u001b[32m[I 17:52:44 InstallContribNbextensionsApp]\u001b[m Making directory: /Users/juliaprozorova/Library/Jupyter/nbextensions/printview/\n",
      "\u001b[32m[I 17:52:44 InstallContribNbextensionsApp]\u001b[m Copying: /Users/juliaprozorova/opt/anaconda3/lib/python3.9/site-packages/jupyter_contrib_nbextensions/nbextensions/printview/icon.png -> /Users/juliaprozorova/Library/Jupyter/nbextensions/printview/icon.png\n",
      "\u001b[32m[I 17:52:44 InstallContribNbextensionsApp]\u001b[m Copying: /Users/juliaprozorova/opt/anaconda3/lib/python3.9/site-packages/jupyter_contrib_nbextensions/nbextensions/printview/printview-button.png -> /Users/juliaprozorova/Library/Jupyter/nbextensions/printview/printview-button.png\n",
      "\u001b[32m[I 17:52:44 InstallContribNbextensionsApp]\u001b[m Copying: /Users/juliaprozorova/opt/anaconda3/lib/python3.9/site-packages/jupyter_contrib_nbextensions/nbextensions/printview/readme.md -> /Users/juliaprozorova/Library/Jupyter/nbextensions/printview/readme.md\n",
      "\u001b[32m[I 17:52:44 InstallContribNbextensionsApp]\u001b[m Copying: /Users/juliaprozorova/opt/anaconda3/lib/python3.9/site-packages/jupyter_contrib_nbextensions/nbextensions/printview/main.js -> /Users/juliaprozorova/Library/Jupyter/nbextensions/printview/main.js\n",
      "\u001b[32m[I 17:52:44 InstallContribNbextensionsApp]\u001b[m Copying: /Users/juliaprozorova/opt/anaconda3/lib/python3.9/site-packages/jupyter_contrib_nbextensions/nbextensions/printview/printview.yaml -> /Users/juliaprozorova/Library/Jupyter/nbextensions/printview/printview.yaml\n",
      "\u001b[32m[I 17:52:44 InstallContribNbextensionsApp]\u001b[m - Validating: \u001b[32mOK\u001b[0m\n",
      "\u001b[32m[I 17:52:44 InstallContribNbextensionsApp]\u001b[m Installing /Users/juliaprozorova/opt/anaconda3/lib/python3.9/site-packages/jupyter_contrib_nbextensions/nbextensions/export_embedded -> export_embedded\n",
      "\u001b[32m[I 17:52:45 InstallContribNbextensionsApp]\u001b[m Making directory: /Users/juliaprozorova/Library/Jupyter/nbextensions/export_embedded/\n",
      "\u001b[32m[I 17:52:45 InstallContribNbextensionsApp]\u001b[m Copying: /Users/juliaprozorova/opt/anaconda3/lib/python3.9/site-packages/jupyter_contrib_nbextensions/nbextensions/export_embedded/export_embedded.yaml -> /Users/juliaprozorova/Library/Jupyter/nbextensions/export_embedded/export_embedded.yaml\n",
      "\u001b[32m[I 17:52:45 InstallContribNbextensionsApp]\u001b[m Copying: /Users/juliaprozorova/opt/anaconda3/lib/python3.9/site-packages/jupyter_contrib_nbextensions/nbextensions/export_embedded/icon.png -> /Users/juliaprozorova/Library/Jupyter/nbextensions/export_embedded/icon.png\n",
      "\u001b[32m[I 17:52:45 InstallContribNbextensionsApp]\u001b[m Copying: /Users/juliaprozorova/opt/anaconda3/lib/python3.9/site-packages/jupyter_contrib_nbextensions/nbextensions/export_embedded/readme.md -> /Users/juliaprozorova/Library/Jupyter/nbextensions/export_embedded/readme.md\n",
      "\u001b[32m[I 17:52:45 InstallContribNbextensionsApp]\u001b[m Copying: /Users/juliaprozorova/opt/anaconda3/lib/python3.9/site-packages/jupyter_contrib_nbextensions/nbextensions/export_embedded/main.js -> /Users/juliaprozorova/Library/Jupyter/nbextensions/export_embedded/main.js\n",
      "\u001b[32m[I 17:52:45 InstallContribNbextensionsApp]\u001b[m - Validating: \u001b[32mOK\u001b[0m\n",
      "\u001b[32m[I 17:52:45 InstallContribNbextensionsApp]\u001b[m Installing /Users/juliaprozorova/opt/anaconda3/lib/python3.9/site-packages/jupyter_contrib_nbextensions/nbextensions/autoscroll -> autoscroll\n",
      "\u001b[32m[I 17:52:45 InstallContribNbextensionsApp]\u001b[m Making directory: /Users/juliaprozorova/Library/Jupyter/nbextensions/autoscroll/\n",
      "\u001b[32m[I 17:52:45 InstallContribNbextensionsApp]\u001b[m Copying: /Users/juliaprozorova/opt/anaconda3/lib/python3.9/site-packages/jupyter_contrib_nbextensions/nbextensions/autoscroll/icon.png -> /Users/juliaprozorova/Library/Jupyter/nbextensions/autoscroll/icon.png\n",
      "\u001b[32m[I 17:52:45 InstallContribNbextensionsApp]\u001b[m Copying: /Users/juliaprozorova/opt/anaconda3/lib/python3.9/site-packages/jupyter_contrib_nbextensions/nbextensions/autoscroll/autoscroll.yaml -> /Users/juliaprozorova/Library/Jupyter/nbextensions/autoscroll/autoscroll.yaml\n",
      "\u001b[32m[I 17:52:45 InstallContribNbextensionsApp]\u001b[m Copying: /Users/juliaprozorova/opt/anaconda3/lib/python3.9/site-packages/jupyter_contrib_nbextensions/nbextensions/autoscroll/README.md -> /Users/juliaprozorova/Library/Jupyter/nbextensions/autoscroll/README.md\n",
      "\u001b[32m[I 17:52:45 InstallContribNbextensionsApp]\u001b[m Copying: /Users/juliaprozorova/opt/anaconda3/lib/python3.9/site-packages/jupyter_contrib_nbextensions/nbextensions/autoscroll/main.js -> /Users/juliaprozorova/Library/Jupyter/nbextensions/autoscroll/main.js\n",
      "\u001b[32m[I 17:52:45 InstallContribNbextensionsApp]\u001b[m - Validating: \u001b[32mOK\u001b[0m\n",
      "\u001b[32m[I 17:52:45 InstallContribNbextensionsApp]\u001b[m Installing /Users/juliaprozorova/opt/anaconda3/lib/python3.9/site-packages/jupyter_contrib_nbextensions/nbextensions/hide_input -> hide_input\n",
      "\u001b[32m[I 17:52:45 InstallContribNbextensionsApp]\u001b[m Making directory: /Users/juliaprozorova/Library/Jupyter/nbextensions/hide_input/\n",
      "\u001b[32m[I 17:52:45 InstallContribNbextensionsApp]\u001b[m Copying: /Users/juliaprozorova/opt/anaconda3/lib/python3.9/site-packages/jupyter_contrib_nbextensions/nbextensions/hide_input/icon.png -> /Users/juliaprozorova/Library/Jupyter/nbextensions/hide_input/icon.png\n",
      "\u001b[32m[I 17:52:45 InstallContribNbextensionsApp]\u001b[m Copying: /Users/juliaprozorova/opt/anaconda3/lib/python3.9/site-packages/jupyter_contrib_nbextensions/nbextensions/hide_input/readme.md -> /Users/juliaprozorova/Library/Jupyter/nbextensions/hide_input/readme.md\n",
      "\u001b[32m[I 17:52:45 InstallContribNbextensionsApp]\u001b[m Copying: /Users/juliaprozorova/opt/anaconda3/lib/python3.9/site-packages/jupyter_contrib_nbextensions/nbextensions/hide_input/main.js -> /Users/juliaprozorova/Library/Jupyter/nbextensions/hide_input/main.js\n",
      "\u001b[32m[I 17:52:45 InstallContribNbextensionsApp]\u001b[m Copying: /Users/juliaprozorova/opt/anaconda3/lib/python3.9/site-packages/jupyter_contrib_nbextensions/nbextensions/hide_input/hide-input.yaml -> /Users/juliaprozorova/Library/Jupyter/nbextensions/hide_input/hide-input.yaml\n",
      "\u001b[32m[I 17:52:45 InstallContribNbextensionsApp]\u001b[m - Validating: \u001b[32mOK\u001b[0m\n",
      "\u001b[32m[I 17:52:45 InstallContribNbextensionsApp]\u001b[m Installing /Users/juliaprozorova/opt/anaconda3/lib/python3.9/site-packages/jupyter_contrib_nbextensions/nbextensions/hide_input_all -> hide_input_all\n",
      "\u001b[32m[I 17:52:45 InstallContribNbextensionsApp]\u001b[m Making directory: /Users/juliaprozorova/Library/Jupyter/nbextensions/hide_input_all/\n",
      "\u001b[32m[I 17:52:45 InstallContribNbextensionsApp]\u001b[m Copying: /Users/juliaprozorova/opt/anaconda3/lib/python3.9/site-packages/jupyter_contrib_nbextensions/nbextensions/hide_input_all/icon.png -> /Users/juliaprozorova/Library/Jupyter/nbextensions/hide_input_all/icon.png\n",
      "\u001b[32m[I 17:52:45 InstallContribNbextensionsApp]\u001b[m Copying: /Users/juliaprozorova/opt/anaconda3/lib/python3.9/site-packages/jupyter_contrib_nbextensions/nbextensions/hide_input_all/hide_input_all.yaml -> /Users/juliaprozorova/Library/Jupyter/nbextensions/hide_input_all/hide_input_all.yaml\n",
      "\u001b[32m[I 17:52:45 InstallContribNbextensionsApp]\u001b[m Copying: /Users/juliaprozorova/opt/anaconda3/lib/python3.9/site-packages/jupyter_contrib_nbextensions/nbextensions/hide_input_all/hide_input_all_show.png -> /Users/juliaprozorova/Library/Jupyter/nbextensions/hide_input_all/hide_input_all_show.png\n",
      "\u001b[32m[I 17:52:45 InstallContribNbextensionsApp]\u001b[m Copying: /Users/juliaprozorova/opt/anaconda3/lib/python3.9/site-packages/jupyter_contrib_nbextensions/nbextensions/hide_input_all/readme.md -> /Users/juliaprozorova/Library/Jupyter/nbextensions/hide_input_all/readme.md\n",
      "\u001b[32m[I 17:52:45 InstallContribNbextensionsApp]\u001b[m Copying: /Users/juliaprozorova/opt/anaconda3/lib/python3.9/site-packages/jupyter_contrib_nbextensions/nbextensions/hide_input_all/main.js -> /Users/juliaprozorova/Library/Jupyter/nbextensions/hide_input_all/main.js\n",
      "\u001b[32m[I 17:52:45 InstallContribNbextensionsApp]\u001b[m Copying: /Users/juliaprozorova/opt/anaconda3/lib/python3.9/site-packages/jupyter_contrib_nbextensions/nbextensions/hide_input_all/hide_input_all_hide.png -> /Users/juliaprozorova/Library/Jupyter/nbextensions/hide_input_all/hide_input_all_hide.png\n",
      "\u001b[32m[I 17:52:45 InstallContribNbextensionsApp]\u001b[m - Validating: \u001b[32mOK\u001b[0m\n",
      "\u001b[32m[I 17:52:45 InstallContribNbextensionsApp]\u001b[m Installing /Users/juliaprozorova/opt/anaconda3/lib/python3.9/site-packages/jupyter_contrib_nbextensions/nbextensions/keyboard_shortcut_editor -> keyboard_shortcut_editor\n",
      "\u001b[32m[I 17:52:45 InstallContribNbextensionsApp]\u001b[m Making directory: /Users/juliaprozorova/Library/Jupyter/nbextensions/keyboard_shortcut_editor/\n",
      "\u001b[32m[I 17:52:45 InstallContribNbextensionsApp]\u001b[m Copying: /Users/juliaprozorova/opt/anaconda3/lib/python3.9/site-packages/jupyter_contrib_nbextensions/nbextensions/keyboard_shortcut_editor/keyboard_shortcut_editor.yaml -> /Users/juliaprozorova/Library/Jupyter/nbextensions/keyboard_shortcut_editor/keyboard_shortcut_editor.yaml\n",
      "\u001b[32m[I 17:52:45 InstallContribNbextensionsApp]\u001b[m Copying: /Users/juliaprozorova/opt/anaconda3/lib/python3.9/site-packages/jupyter_contrib_nbextensions/nbextensions/keyboard_shortcut_editor/icon.png -> /Users/juliaprozorova/Library/Jupyter/nbextensions/keyboard_shortcut_editor/icon.png\n",
      "\u001b[32m[I 17:52:45 InstallContribNbextensionsApp]\u001b[m Copying: /Users/juliaprozorova/opt/anaconda3/lib/python3.9/site-packages/jupyter_contrib_nbextensions/nbextensions/keyboard_shortcut_editor/readme_comma.png -> /Users/juliaprozorova/Library/Jupyter/nbextensions/keyboard_shortcut_editor/readme_comma.png\n",
      "\u001b[32m[I 17:52:45 InstallContribNbextensionsApp]\u001b[m Copying: /Users/juliaprozorova/opt/anaconda3/lib/python3.9/site-packages/jupyter_contrib_nbextensions/nbextensions/keyboard_shortcut_editor/readme_shortcut_editor_blank.png -> /Users/juliaprozorova/Library/Jupyter/nbextensions/keyboard_shortcut_editor/readme_shortcut_editor_blank.png\n",
      "\u001b[32m[I 17:52:45 InstallContribNbextensionsApp]\u001b[m Copying: /Users/juliaprozorova/opt/anaconda3/lib/python3.9/site-packages/jupyter_contrib_nbextensions/nbextensions/keyboard_shortcut_editor/readme_shortcut_editor_success.png -> /Users/juliaprozorova/Library/Jupyter/nbextensions/keyboard_shortcut_editor/readme_shortcut_editor_success.png\n"
     ]
    },
    {
     "name": "stdout",
     "output_type": "stream",
     "text": [
      "\u001b[32m[I 17:52:45 InstallContribNbextensionsApp]\u001b[m Copying: /Users/juliaprozorova/opt/anaconda3/lib/python3.9/site-packages/jupyter_contrib_nbextensions/nbextensions/keyboard_shortcut_editor/main.css -> /Users/juliaprozorova/Library/Jupyter/nbextensions/keyboard_shortcut_editor/main.css\n",
      "\u001b[32m[I 17:52:45 InstallContribNbextensionsApp]\u001b[m Copying: /Users/juliaprozorova/opt/anaconda3/lib/python3.9/site-packages/jupyter_contrib_nbextensions/nbextensions/keyboard_shortcut_editor/README.md -> /Users/juliaprozorova/Library/Jupyter/nbextensions/keyboard_shortcut_editor/README.md\n",
      "\u001b[32m[I 17:52:45 InstallContribNbextensionsApp]\u001b[m Copying: /Users/juliaprozorova/opt/anaconda3/lib/python3.9/site-packages/jupyter_contrib_nbextensions/nbextensions/keyboard_shortcut_editor/readme_reset_disabled.png -> /Users/juliaprozorova/Library/Jupyter/nbextensions/keyboard_shortcut_editor/readme_reset_disabled.png\n",
      "\u001b[32m[I 17:52:45 InstallContribNbextensionsApp]\u001b[m Copying: /Users/juliaprozorova/opt/anaconda3/lib/python3.9/site-packages/jupyter_contrib_nbextensions/nbextensions/keyboard_shortcut_editor/readme_add_new_link.png -> /Users/juliaprozorova/Library/Jupyter/nbextensions/keyboard_shortcut_editor/readme_add_new_link.png\n",
      "\u001b[32m[I 17:52:45 InstallContribNbextensionsApp]\u001b[m Copying: /Users/juliaprozorova/opt/anaconda3/lib/python3.9/site-packages/jupyter_contrib_nbextensions/nbextensions/keyboard_shortcut_editor/main.js -> /Users/juliaprozorova/Library/Jupyter/nbextensions/keyboard_shortcut_editor/main.js\n",
      "\u001b[32m[I 17:52:45 InstallContribNbextensionsApp]\u001b[m Copying: /Users/juliaprozorova/opt/anaconda3/lib/python3.9/site-packages/jupyter_contrib_nbextensions/nbextensions/keyboard_shortcut_editor/readme_dropdown.png -> /Users/juliaprozorova/Library/Jupyter/nbextensions/keyboard_shortcut_editor/readme_dropdown.png\n",
      "\u001b[32m[I 17:52:45 InstallContribNbextensionsApp]\u001b[m Copying: /Users/juliaprozorova/opt/anaconda3/lib/python3.9/site-packages/jupyter_contrib_nbextensions/nbextensions/keyboard_shortcut_editor/quickhelp_shim.js -> /Users/juliaprozorova/Library/Jupyter/nbextensions/keyboard_shortcut_editor/quickhelp_shim.js\n",
      "\u001b[32m[I 17:52:45 InstallContribNbextensionsApp]\u001b[m Copying: /Users/juliaprozorova/opt/anaconda3/lib/python3.9/site-packages/jupyter_contrib_nbextensions/nbextensions/keyboard_shortcut_editor/readme_add_new_select_action.png -> /Users/juliaprozorova/Library/Jupyter/nbextensions/keyboard_shortcut_editor/readme_add_new_select_action.png\n",
      "\u001b[32m[I 17:52:45 InstallContribNbextensionsApp]\u001b[m Copying: /Users/juliaprozorova/opt/anaconda3/lib/python3.9/site-packages/jupyter_contrib_nbextensions/nbextensions/keyboard_shortcut_editor/kse_components.js -> /Users/juliaprozorova/Library/Jupyter/nbextensions/keyboard_shortcut_editor/kse_components.js\n",
      "\u001b[32m[I 17:52:45 InstallContribNbextensionsApp]\u001b[m Copying: /Users/juliaprozorova/opt/anaconda3/lib/python3.9/site-packages/jupyter_contrib_nbextensions/nbextensions/keyboard_shortcut_editor/readme_undefined_key.png -> /Users/juliaprozorova/Library/Jupyter/nbextensions/keyboard_shortcut_editor/readme_undefined_key.png\n",
      "\u001b[32m[I 17:52:45 InstallContribNbextensionsApp]\u001b[m Copying: /Users/juliaprozorova/opt/anaconda3/lib/python3.9/site-packages/jupyter_contrib_nbextensions/nbextensions/keyboard_shortcut_editor/readme_conflict.png -> /Users/juliaprozorova/Library/Jupyter/nbextensions/keyboard_shortcut_editor/readme_conflict.png\n",
      "\u001b[32m[I 17:52:45 InstallContribNbextensionsApp]\u001b[m Copying: /Users/juliaprozorova/opt/anaconda3/lib/python3.9/site-packages/jupyter_contrib_nbextensions/nbextensions/keyboard_shortcut_editor/readme_menu_item.png -> /Users/juliaprozorova/Library/Jupyter/nbextensions/keyboard_shortcut_editor/readme_menu_item.png\n",
      "\u001b[32m[I 17:52:45 InstallContribNbextensionsApp]\u001b[m - Validating: \u001b[32mOK\u001b[0m\n",
      "\u001b[32m[I 17:52:45 InstallContribNbextensionsApp]\u001b[m Installing /Users/juliaprozorova/opt/anaconda3/lib/python3.9/site-packages/jupyter_contrib_nbextensions/nbextensions/help_panel -> help_panel\n",
      "\u001b[32m[I 17:52:45 InstallContribNbextensionsApp]\u001b[m Making directory: /Users/juliaprozorova/Library/Jupyter/nbextensions/help_panel/\n",
      "\u001b[32m[I 17:52:45 InstallContribNbextensionsApp]\u001b[m Copying: /Users/juliaprozorova/opt/anaconda3/lib/python3.9/site-packages/jupyter_contrib_nbextensions/nbextensions/help_panel/icon.png -> /Users/juliaprozorova/Library/Jupyter/nbextensions/help_panel/icon.png\n",
      "\u001b[32m[I 17:52:45 InstallContribNbextensionsApp]\u001b[m Copying: /Users/juliaprozorova/opt/anaconda3/lib/python3.9/site-packages/jupyter_contrib_nbextensions/nbextensions/help_panel/help_panel_ext.png -> /Users/juliaprozorova/Library/Jupyter/nbextensions/help_panel/help_panel_ext.png\n",
      "\u001b[32m[I 17:52:45 InstallContribNbextensionsApp]\u001b[m Copying: /Users/juliaprozorova/opt/anaconda3/lib/python3.9/site-packages/jupyter_contrib_nbextensions/nbextensions/help_panel/readme.md -> /Users/juliaprozorova/Library/Jupyter/nbextensions/help_panel/readme.md\n",
      "\u001b[32m[I 17:52:45 InstallContribNbextensionsApp]\u001b[m Copying: /Users/juliaprozorova/opt/anaconda3/lib/python3.9/site-packages/jupyter_contrib_nbextensions/nbextensions/help_panel/help_panel_ext_fullscreen.png -> /Users/juliaprozorova/Library/Jupyter/nbextensions/help_panel/help_panel_ext_fullscreen.png\n",
      "\u001b[32m[I 17:52:45 InstallContribNbextensionsApp]\u001b[m Copying: /Users/juliaprozorova/opt/anaconda3/lib/python3.9/site-packages/jupyter_contrib_nbextensions/nbextensions/help_panel/help_panel.yaml -> /Users/juliaprozorova/Library/Jupyter/nbextensions/help_panel/help_panel.yaml\n",
      "\u001b[32m[I 17:52:45 InstallContribNbextensionsApp]\u001b[m Copying: /Users/juliaprozorova/opt/anaconda3/lib/python3.9/site-packages/jupyter_contrib_nbextensions/nbextensions/help_panel/help_panel.css -> /Users/juliaprozorova/Library/Jupyter/nbextensions/help_panel/help_panel.css\n",
      "\u001b[32m[I 17:52:45 InstallContribNbextensionsApp]\u001b[m Copying: /Users/juliaprozorova/opt/anaconda3/lib/python3.9/site-packages/jupyter_contrib_nbextensions/nbextensions/help_panel/help_panel.js -> /Users/juliaprozorova/Library/Jupyter/nbextensions/help_panel/help_panel.js\n",
      "\u001b[32m[I 17:52:45 InstallContribNbextensionsApp]\u001b[m Making directory: /Users/juliaprozorova/Library/Jupyter/nbextensions/help_panel/img\n",
      "\u001b[32m[I 17:52:45 InstallContribNbextensionsApp]\u001b[m Copying: /Users/juliaprozorova/opt/anaconda3/lib/python3.9/site-packages/jupyter_contrib_nbextensions/nbextensions/help_panel/img/handle-v.png -> /Users/juliaprozorova/Library/Jupyter/nbextensions/help_panel/img/handle-v.png\n",
      "\u001b[32m[I 17:52:45 InstallContribNbextensionsApp]\u001b[m - Validating: \u001b[32mOK\u001b[0m\n",
      "\u001b[32m[I 17:52:45 InstallContribNbextensionsApp]\u001b[m Installing /Users/juliaprozorova/opt/anaconda3/lib/python3.9/site-packages/jupyter_contrib_nbextensions/nbextensions/move_selected_cells -> move_selected_cells\n",
      "\u001b[32m[I 17:52:45 InstallContribNbextensionsApp]\u001b[m Making directory: /Users/juliaprozorova/Library/Jupyter/nbextensions/move_selected_cells/\n",
      "\u001b[32m[I 17:52:45 InstallContribNbextensionsApp]\u001b[m Copying: /Users/juliaprozorova/opt/anaconda3/lib/python3.9/site-packages/jupyter_contrib_nbextensions/nbextensions/move_selected_cells/README.md -> /Users/juliaprozorova/Library/Jupyter/nbextensions/move_selected_cells/README.md\n",
      "\u001b[32m[I 17:52:45 InstallContribNbextensionsApp]\u001b[m Copying: /Users/juliaprozorova/opt/anaconda3/lib/python3.9/site-packages/jupyter_contrib_nbextensions/nbextensions/move_selected_cells/main.js -> /Users/juliaprozorova/Library/Jupyter/nbextensions/move_selected_cells/main.js\n",
      "\u001b[32m[I 17:52:45 InstallContribNbextensionsApp]\u001b[m Copying: /Users/juliaprozorova/opt/anaconda3/lib/python3.9/site-packages/jupyter_contrib_nbextensions/nbextensions/move_selected_cells/move_selected_cells.yaml -> /Users/juliaprozorova/Library/Jupyter/nbextensions/move_selected_cells/move_selected_cells.yaml\n",
      "\u001b[32m[I 17:52:45 InstallContribNbextensionsApp]\u001b[m - Validating: \u001b[32mOK\u001b[0m\n",
      "\u001b[32m[I 17:52:45 InstallContribNbextensionsApp]\u001b[m Installing /Users/juliaprozorova/opt/anaconda3/lib/python3.9/site-packages/jupyter_contrib_nbextensions/nbextensions/zenmode -> zenmode\n",
      "\u001b[32m[I 17:52:45 InstallContribNbextensionsApp]\u001b[m Making directory: /Users/juliaprozorova/Library/Jupyter/nbextensions/zenmode/\n",
      "\u001b[32m[I 17:52:45 InstallContribNbextensionsApp]\u001b[m Copying: /Users/juliaprozorova/opt/anaconda3/lib/python3.9/site-packages/jupyter_contrib_nbextensions/nbextensions/zenmode/main.css -> /Users/juliaprozorova/Library/Jupyter/nbextensions/zenmode/main.css\n",
      "\u001b[32m[I 17:52:45 InstallContribNbextensionsApp]\u001b[m Copying: /Users/juliaprozorova/opt/anaconda3/lib/python3.9/site-packages/jupyter_contrib_nbextensions/nbextensions/zenmode/README.md -> /Users/juliaprozorova/Library/Jupyter/nbextensions/zenmode/README.md\n",
      "\u001b[32m[I 17:52:45 InstallContribNbextensionsApp]\u001b[m Copying: /Users/juliaprozorova/opt/anaconda3/lib/python3.9/site-packages/jupyter_contrib_nbextensions/nbextensions/zenmode/main.js -> /Users/juliaprozorova/Library/Jupyter/nbextensions/zenmode/main.js\n",
      "\u001b[32m[I 17:52:45 InstallContribNbextensionsApp]\u001b[m Copying: /Users/juliaprozorova/opt/anaconda3/lib/python3.9/site-packages/jupyter_contrib_nbextensions/nbextensions/zenmode/zenmode.yaml -> /Users/juliaprozorova/Library/Jupyter/nbextensions/zenmode/zenmode.yaml\n",
      "\u001b[32m[I 17:52:45 InstallContribNbextensionsApp]\u001b[m Making directory: /Users/juliaprozorova/Library/Jupyter/nbextensions/zenmode/images\n",
      "\u001b[32m[I 17:52:45 InstallContribNbextensionsApp]\u001b[m Copying: /Users/juliaprozorova/opt/anaconda3/lib/python3.9/site-packages/jupyter_contrib_nbextensions/nbextensions/zenmode/images/back12.jpg -> /Users/juliaprozorova/Library/Jupyter/nbextensions/zenmode/images/back12.jpg\n",
      "\u001b[32m[I 17:52:45 InstallContribNbextensionsApp]\u001b[m Copying: /Users/juliaprozorova/opt/anaconda3/lib/python3.9/site-packages/jupyter_contrib_nbextensions/nbextensions/zenmode/images/back11.jpg -> /Users/juliaprozorova/Library/Jupyter/nbextensions/zenmode/images/back11.jpg\n",
      "\u001b[32m[I 17:52:45 InstallContribNbextensionsApp]\u001b[m Copying: /Users/juliaprozorova/opt/anaconda3/lib/python3.9/site-packages/jupyter_contrib_nbextensions/nbextensions/zenmode/images/back2.jpg -> /Users/juliaprozorova/Library/Jupyter/nbextensions/zenmode/images/back2.jpg\n",
      "\u001b[32m[I 17:52:45 InstallContribNbextensionsApp]\u001b[m Copying: /Users/juliaprozorova/opt/anaconda3/lib/python3.9/site-packages/jupyter_contrib_nbextensions/nbextensions/zenmode/images/back3.jpg -> /Users/juliaprozorova/Library/Jupyter/nbextensions/zenmode/images/back3.jpg\n",
      "\u001b[32m[I 17:52:45 InstallContribNbextensionsApp]\u001b[m Copying: /Users/juliaprozorova/opt/anaconda3/lib/python3.9/site-packages/jupyter_contrib_nbextensions/nbextensions/zenmode/images/back1.jpg -> /Users/juliaprozorova/Library/Jupyter/nbextensions/zenmode/images/back1.jpg\n",
      "\u001b[32m[I 17:52:45 InstallContribNbextensionsApp]\u001b[m Copying: /Users/juliaprozorova/opt/anaconda3/lib/python3.9/site-packages/jupyter_contrib_nbextensions/nbextensions/zenmode/images/ipynblogo1.png -> /Users/juliaprozorova/Library/Jupyter/nbextensions/zenmode/images/ipynblogo1.png\n",
      "\u001b[32m[I 17:52:45 InstallContribNbextensionsApp]\u001b[m Copying: /Users/juliaprozorova/opt/anaconda3/lib/python3.9/site-packages/jupyter_contrib_nbextensions/nbextensions/zenmode/images/ipynblogo0.png -> /Users/juliaprozorova/Library/Jupyter/nbextensions/zenmode/images/ipynblogo0.png\n",
      "\u001b[32m[I 17:52:45 InstallContribNbextensionsApp]\u001b[m Copying: /Users/juliaprozorova/opt/anaconda3/lib/python3.9/site-packages/jupyter_contrib_nbextensions/nbextensions/zenmode/images/back21.jpg -> /Users/juliaprozorova/Library/Jupyter/nbextensions/zenmode/images/back21.jpg\n",
      "\u001b[32m[I 17:52:45 InstallContribNbextensionsApp]\u001b[m Copying: /Users/juliaprozorova/opt/anaconda3/lib/python3.9/site-packages/jupyter_contrib_nbextensions/nbextensions/zenmode/images/back22.jpg -> /Users/juliaprozorova/Library/Jupyter/nbextensions/zenmode/images/back22.jpg\n",
      "\u001b[32m[I 17:52:45 InstallContribNbextensionsApp]\u001b[m - Validating: \u001b[32mOK\u001b[0m\n",
      "\u001b[32m[I 17:52:45 InstallContribNbextensionsApp]\u001b[m Installing /Users/juliaprozorova/opt/anaconda3/lib/python3.9/site-packages/jupyter_contrib_nbextensions/nbextensions/skip-traceback -> skip-traceback\n",
      "\u001b[32m[I 17:52:45 InstallContribNbextensionsApp]\u001b[m Making directory: /Users/juliaprozorova/Library/Jupyter/nbextensions/skip-traceback/\n",
      "\u001b[32m[I 17:52:45 InstallContribNbextensionsApp]\u001b[m Copying: /Users/juliaprozorova/opt/anaconda3/lib/python3.9/site-packages/jupyter_contrib_nbextensions/nbextensions/skip-traceback/icon.png -> /Users/juliaprozorova/Library/Jupyter/nbextensions/skip-traceback/icon.png\n",
      "\u001b[32m[I 17:52:45 InstallContribNbextensionsApp]\u001b[m Copying: /Users/juliaprozorova/opt/anaconda3/lib/python3.9/site-packages/jupyter_contrib_nbextensions/nbextensions/skip-traceback/traceback.png -> /Users/juliaprozorova/Library/Jupyter/nbextensions/skip-traceback/traceback.png\n",
      "\u001b[32m[I 17:52:45 InstallContribNbextensionsApp]\u001b[m Copying: /Users/juliaprozorova/opt/anaconda3/lib/python3.9/site-packages/jupyter_contrib_nbextensions/nbextensions/skip-traceback/readme.md -> /Users/juliaprozorova/Library/Jupyter/nbextensions/skip-traceback/readme.md\n",
      "\u001b[32m[I 17:52:45 InstallContribNbextensionsApp]\u001b[m Copying: /Users/juliaprozorova/opt/anaconda3/lib/python3.9/site-packages/jupyter_contrib_nbextensions/nbextensions/skip-traceback/main.js -> /Users/juliaprozorova/Library/Jupyter/nbextensions/skip-traceback/main.js\n",
      "\u001b[32m[I 17:52:45 InstallContribNbextensionsApp]\u001b[m Copying: /Users/juliaprozorova/opt/anaconda3/lib/python3.9/site-packages/jupyter_contrib_nbextensions/nbextensions/skip-traceback/skip-traceback.yaml -> /Users/juliaprozorova/Library/Jupyter/nbextensions/skip-traceback/skip-traceback.yaml\n",
      "\u001b[32m[I 17:52:45 InstallContribNbextensionsApp]\u001b[m Copying: /Users/juliaprozorova/opt/anaconda3/lib/python3.9/site-packages/jupyter_contrib_nbextensions/nbextensions/skip-traceback/skip-traceback.png -> /Users/juliaprozorova/Library/Jupyter/nbextensions/skip-traceback/skip-traceback.png\n",
      "\u001b[32m[I 17:52:45 InstallContribNbextensionsApp]\u001b[m - Validating: \u001b[32mOK\u001b[0m\n",
      "\u001b[32m[I 17:52:45 InstallContribNbextensionsApp]\u001b[m Installing /Users/juliaprozorova/opt/anaconda3/lib/python3.9/site-packages/jupyter_contrib_nbextensions/nbextensions/python-markdown -> python-markdown\n",
      "\u001b[32m[I 17:52:45 InstallContribNbextensionsApp]\u001b[m Making directory: /Users/juliaprozorova/Library/Jupyter/nbextensions/python-markdown/\n",
      "\u001b[32m[I 17:52:45 InstallContribNbextensionsApp]\u001b[m Copying: /Users/juliaprozorova/opt/anaconda3/lib/python3.9/site-packages/jupyter_contrib_nbextensions/nbextensions/python-markdown/untrusted.png -> /Users/juliaprozorova/Library/Jupyter/nbextensions/python-markdown/untrusted.png\n"
     ]
    },
    {
     "name": "stdout",
     "output_type": "stream",
     "text": [
      "\u001b[32m[I 17:52:45 InstallContribNbextensionsApp]\u001b[m Copying: /Users/juliaprozorova/opt/anaconda3/lib/python3.9/site-packages/jupyter_contrib_nbextensions/nbextensions/python-markdown/python-markdown-pre.png -> /Users/juliaprozorova/Library/Jupyter/nbextensions/python-markdown/python-markdown-pre.png\n",
      "\u001b[32m[I 17:52:45 InstallContribNbextensionsApp]\u001b[m Copying: /Users/juliaprozorova/opt/anaconda3/lib/python3.9/site-packages/jupyter_contrib_nbextensions/nbextensions/python-markdown/main.css -> /Users/juliaprozorova/Library/Jupyter/nbextensions/python-markdown/main.css\n",
      "\u001b[32m[I 17:52:45 InstallContribNbextensionsApp]\u001b[m Copying: /Users/juliaprozorova/opt/anaconda3/lib/python3.9/site-packages/jupyter_contrib_nbextensions/nbextensions/python-markdown/readme.md -> /Users/juliaprozorova/Library/Jupyter/nbextensions/python-markdown/readme.md\n",
      "\u001b[32m[I 17:52:45 InstallContribNbextensionsApp]\u001b[m Copying: /Users/juliaprozorova/opt/anaconda3/lib/python3.9/site-packages/jupyter_contrib_nbextensions/nbextensions/python-markdown/main.js -> /Users/juliaprozorova/Library/Jupyter/nbextensions/python-markdown/main.js\n",
      "\u001b[32m[I 17:52:45 InstallContribNbextensionsApp]\u001b[m Copying: /Users/juliaprozorova/opt/anaconda3/lib/python3.9/site-packages/jupyter_contrib_nbextensions/nbextensions/python-markdown/python-markdown.png -> /Users/juliaprozorova/Library/Jupyter/nbextensions/python-markdown/python-markdown.png\n",
      "\u001b[32m[I 17:52:45 InstallContribNbextensionsApp]\u001b[m Copying: /Users/juliaprozorova/opt/anaconda3/lib/python3.9/site-packages/jupyter_contrib_nbextensions/nbextensions/python-markdown/trusted.png -> /Users/juliaprozorova/Library/Jupyter/nbextensions/python-markdown/trusted.png\n",
      "\u001b[32m[I 17:52:45 InstallContribNbextensionsApp]\u001b[m Copying: /Users/juliaprozorova/opt/anaconda3/lib/python3.9/site-packages/jupyter_contrib_nbextensions/nbextensions/python-markdown/python-markdown.yaml -> /Users/juliaprozorova/Library/Jupyter/nbextensions/python-markdown/python-markdown.yaml\n",
      "\u001b[32m[I 17:52:45 InstallContribNbextensionsApp]\u001b[m Copying: /Users/juliaprozorova/opt/anaconda3/lib/python3.9/site-packages/jupyter_contrib_nbextensions/nbextensions/python-markdown/python-markdown-post.png -> /Users/juliaprozorova/Library/Jupyter/nbextensions/python-markdown/python-markdown-post.png\n",
      "\u001b[32m[I 17:52:45 InstallContribNbextensionsApp]\u001b[m - Validating: \u001b[32mOK\u001b[0m\n",
      "\u001b[32m[I 17:52:45 InstallContribNbextensionsApp]\u001b[m Installing /Users/juliaprozorova/opt/anaconda3/lib/python3.9/site-packages/jupyter_contrib_nbextensions/nbextensions/codefolding -> codefolding\n",
      "\u001b[32m[I 17:52:45 InstallContribNbextensionsApp]\u001b[m Making directory: /Users/juliaprozorova/Library/Jupyter/nbextensions/codefolding/\n",
      "\u001b[32m[I 17:52:45 InstallContribNbextensionsApp]\u001b[m Copying: /Users/juliaprozorova/opt/anaconda3/lib/python3.9/site-packages/jupyter_contrib_nbextensions/nbextensions/codefolding/codefolding_editor.yaml -> /Users/juliaprozorova/Library/Jupyter/nbextensions/codefolding/codefolding_editor.yaml\n",
      "\u001b[32m[I 17:52:45 InstallContribNbextensionsApp]\u001b[m Copying: /Users/juliaprozorova/opt/anaconda3/lib/python3.9/site-packages/jupyter_contrib_nbextensions/nbextensions/codefolding/icon.png -> /Users/juliaprozorova/Library/Jupyter/nbextensions/codefolding/icon.png\n",
      "\u001b[32m[I 17:52:45 InstallContribNbextensionsApp]\u001b[m Copying: /Users/juliaprozorova/opt/anaconda3/lib/python3.9/site-packages/jupyter_contrib_nbextensions/nbextensions/codefolding/codefolding_firstline_folded.png -> /Users/juliaprozorova/Library/Jupyter/nbextensions/codefolding/codefolding_firstline_folded.png\n",
      "\u001b[32m[I 17:52:45 InstallContribNbextensionsApp]\u001b[m Copying: /Users/juliaprozorova/opt/anaconda3/lib/python3.9/site-packages/jupyter_contrib_nbextensions/nbextensions/codefolding/codefolding_indent_folded_2.png -> /Users/juliaprozorova/Library/Jupyter/nbextensions/codefolding/codefolding_indent_folded_2.png\n",
      "\u001b[32m[I 17:52:45 InstallContribNbextensionsApp]\u001b[m Copying: /Users/juliaprozorova/opt/anaconda3/lib/python3.9/site-packages/jupyter_contrib_nbextensions/nbextensions/codefolding/codefolding_indent_folded_1.png -> /Users/juliaprozorova/Library/Jupyter/nbextensions/codefolding/codefolding_indent_folded_1.png\n",
      "\u001b[32m[I 17:52:45 InstallContribNbextensionsApp]\u001b[m Copying: /Users/juliaprozorova/opt/anaconda3/lib/python3.9/site-packages/jupyter_contrib_nbextensions/nbextensions/codefolding/edit.js -> /Users/juliaprozorova/Library/Jupyter/nbextensions/codefolding/edit.js\n",
      "\u001b[32m[I 17:52:45 InstallContribNbextensionsApp]\u001b[m Copying: /Users/juliaprozorova/opt/anaconda3/lib/python3.9/site-packages/jupyter_contrib_nbextensions/nbextensions/codefolding/magic-fold.js -> /Users/juliaprozorova/Library/Jupyter/nbextensions/codefolding/magic-fold.js\n",
      "\u001b[32m[I 17:52:45 InstallContribNbextensionsApp]\u001b[m Copying: /Users/juliaprozorova/opt/anaconda3/lib/python3.9/site-packages/jupyter_contrib_nbextensions/nbextensions/codefolding/firstline-fold.js -> /Users/juliaprozorova/Library/Jupyter/nbextensions/codefolding/firstline-fold.js\n",
      "\u001b[32m[I 17:52:45 InstallContribNbextensionsApp]\u001b[m Copying: /Users/juliaprozorova/opt/anaconda3/lib/python3.9/site-packages/jupyter_contrib_nbextensions/nbextensions/codefolding/codefolding_firstline_unfolded.png -> /Users/juliaprozorova/Library/Jupyter/nbextensions/codefolding/codefolding_firstline_unfolded.png\n",
      "\u001b[32m[I 17:52:45 InstallContribNbextensionsApp]\u001b[m Copying: /Users/juliaprozorova/opt/anaconda3/lib/python3.9/site-packages/jupyter_contrib_nbextensions/nbextensions/codefolding/readme.md -> /Users/juliaprozorova/Library/Jupyter/nbextensions/codefolding/readme.md\n",
      "\u001b[32m[I 17:52:45 InstallContribNbextensionsApp]\u001b[m Copying: /Users/juliaprozorova/opt/anaconda3/lib/python3.9/site-packages/jupyter_contrib_nbextensions/nbextensions/codefolding/main.js -> /Users/juliaprozorova/Library/Jupyter/nbextensions/codefolding/main.js\n",
      "\u001b[32m[I 17:52:45 InstallContribNbextensionsApp]\u001b[m Copying: /Users/juliaprozorova/opt/anaconda3/lib/python3.9/site-packages/jupyter_contrib_nbextensions/nbextensions/codefolding/magic-unfolded.png -> /Users/juliaprozorova/Library/Jupyter/nbextensions/codefolding/magic-unfolded.png\n",
      "\u001b[32m[I 17:52:45 InstallContribNbextensionsApp]\u001b[m Copying: /Users/juliaprozorova/opt/anaconda3/lib/python3.9/site-packages/jupyter_contrib_nbextensions/nbextensions/codefolding/foldgutter.css -> /Users/juliaprozorova/Library/Jupyter/nbextensions/codefolding/foldgutter.css\n",
      "\u001b[32m[I 17:52:45 InstallContribNbextensionsApp]\u001b[m Copying: /Users/juliaprozorova/opt/anaconda3/lib/python3.9/site-packages/jupyter_contrib_nbextensions/nbextensions/codefolding/magic-folded.png -> /Users/juliaprozorova/Library/Jupyter/nbextensions/codefolding/magic-folded.png\n",
      "\u001b[32m[I 17:52:45 InstallContribNbextensionsApp]\u001b[m Copying: /Users/juliaprozorova/opt/anaconda3/lib/python3.9/site-packages/jupyter_contrib_nbextensions/nbextensions/codefolding/codefolding.yaml -> /Users/juliaprozorova/Library/Jupyter/nbextensions/codefolding/codefolding.yaml\n",
      "\u001b[32m[I 17:52:45 InstallContribNbextensionsApp]\u001b[m Copying: /Users/juliaprozorova/opt/anaconda3/lib/python3.9/site-packages/jupyter_contrib_nbextensions/nbextensions/codefolding/codefolding_editor.png -> /Users/juliaprozorova/Library/Jupyter/nbextensions/codefolding/codefolding_editor.png\n",
      "\u001b[32m[I 17:52:45 InstallContribNbextensionsApp]\u001b[m Copying: /Users/juliaprozorova/opt/anaconda3/lib/python3.9/site-packages/jupyter_contrib_nbextensions/nbextensions/codefolding/codefolding_indent_unfolded.png -> /Users/juliaprozorova/Library/Jupyter/nbextensions/codefolding/codefolding_indent_unfolded.png\n",
      "\u001b[32m[I 17:52:45 InstallContribNbextensionsApp]\u001b[m - Validating: \u001b[32mOK\u001b[0m\n",
      "\u001b[32m[I 17:52:45 InstallContribNbextensionsApp]\u001b[m Installing /Users/juliaprozorova/opt/anaconda3/lib/python3.9/site-packages/jupyter_contrib_nbextensions/nbextensions/codefolding -> codefolding\n",
      "\u001b[32m[I 17:52:45 InstallContribNbextensionsApp]\u001b[m Up to date: /Users/juliaprozorova/Library/Jupyter/nbextensions/codefolding/codefolding_editor.yaml\n",
      "\u001b[32m[I 17:52:45 InstallContribNbextensionsApp]\u001b[m Up to date: /Users/juliaprozorova/Library/Jupyter/nbextensions/codefolding/icon.png\n",
      "\u001b[32m[I 17:52:45 InstallContribNbextensionsApp]\u001b[m Up to date: /Users/juliaprozorova/Library/Jupyter/nbextensions/codefolding/codefolding_firstline_folded.png\n",
      "\u001b[32m[I 17:52:45 InstallContribNbextensionsApp]\u001b[m Up to date: /Users/juliaprozorova/Library/Jupyter/nbextensions/codefolding/codefolding_indent_folded_2.png\n",
      "\u001b[32m[I 17:52:45 InstallContribNbextensionsApp]\u001b[m Up to date: /Users/juliaprozorova/Library/Jupyter/nbextensions/codefolding/codefolding_indent_folded_1.png\n",
      "\u001b[32m[I 17:52:45 InstallContribNbextensionsApp]\u001b[m Up to date: /Users/juliaprozorova/Library/Jupyter/nbextensions/codefolding/edit.js\n",
      "\u001b[32m[I 17:52:45 InstallContribNbextensionsApp]\u001b[m Up to date: /Users/juliaprozorova/Library/Jupyter/nbextensions/codefolding/magic-fold.js\n",
      "\u001b[32m[I 17:52:45 InstallContribNbextensionsApp]\u001b[m Up to date: /Users/juliaprozorova/Library/Jupyter/nbextensions/codefolding/firstline-fold.js\n",
      "\u001b[32m[I 17:52:45 InstallContribNbextensionsApp]\u001b[m Up to date: /Users/juliaprozorova/Library/Jupyter/nbextensions/codefolding/codefolding_firstline_unfolded.png\n",
      "\u001b[32m[I 17:52:45 InstallContribNbextensionsApp]\u001b[m Up to date: /Users/juliaprozorova/Library/Jupyter/nbextensions/codefolding/readme.md\n",
      "\u001b[32m[I 17:52:45 InstallContribNbextensionsApp]\u001b[m Up to date: /Users/juliaprozorova/Library/Jupyter/nbextensions/codefolding/main.js\n",
      "\u001b[32m[I 17:52:45 InstallContribNbextensionsApp]\u001b[m Up to date: /Users/juliaprozorova/Library/Jupyter/nbextensions/codefolding/magic-unfolded.png\n",
      "\u001b[32m[I 17:52:45 InstallContribNbextensionsApp]\u001b[m Up to date: /Users/juliaprozorova/Library/Jupyter/nbextensions/codefolding/foldgutter.css\n",
      "\u001b[32m[I 17:52:45 InstallContribNbextensionsApp]\u001b[m Up to date: /Users/juliaprozorova/Library/Jupyter/nbextensions/codefolding/magic-folded.png\n",
      "\u001b[32m[I 17:52:45 InstallContribNbextensionsApp]\u001b[m Up to date: /Users/juliaprozorova/Library/Jupyter/nbextensions/codefolding/codefolding.yaml\n",
      "\u001b[32m[I 17:52:45 InstallContribNbextensionsApp]\u001b[m Up to date: /Users/juliaprozorova/Library/Jupyter/nbextensions/codefolding/codefolding_editor.png\n",
      "\u001b[32m[I 17:52:45 InstallContribNbextensionsApp]\u001b[m Up to date: /Users/juliaprozorova/Library/Jupyter/nbextensions/codefolding/codefolding_indent_unfolded.png\n",
      "\u001b[32m[I 17:52:45 InstallContribNbextensionsApp]\u001b[m - Validating: \u001b[32mOK\u001b[0m\n",
      "\u001b[32m[I 17:52:45 InstallContribNbextensionsApp]\u001b[m Installing /Users/juliaprozorova/opt/anaconda3/lib/python3.9/site-packages/jupyter_contrib_nbextensions/nbextensions/collapsible_headings -> collapsible_headings\n",
      "\u001b[32m[I 17:52:45 InstallContribNbextensionsApp]\u001b[m Making directory: /Users/juliaprozorova/Library/Jupyter/nbextensions/collapsible_headings/\n",
      "\u001b[32m[I 17:52:45 InstallContribNbextensionsApp]\u001b[m Copying: /Users/juliaprozorova/opt/anaconda3/lib/python3.9/site-packages/jupyter_contrib_nbextensions/nbextensions/collapsible_headings/icon.png -> /Users/juliaprozorova/Library/Jupyter/nbextensions/collapsible_headings/icon.png\n",
      "\u001b[32m[I 17:52:45 InstallContribNbextensionsApp]\u001b[m Copying: /Users/juliaprozorova/opt/anaconda3/lib/python3.9/site-packages/jupyter_contrib_nbextensions/nbextensions/collapsible_headings/screenshot.png -> /Users/juliaprozorova/Library/Jupyter/nbextensions/collapsible_headings/screenshot.png\n",
      "\u001b[32m[I 17:52:45 InstallContribNbextensionsApp]\u001b[m Copying: /Users/juliaprozorova/opt/anaconda3/lib/python3.9/site-packages/jupyter_contrib_nbextensions/nbextensions/collapsible_headings/main.css -> /Users/juliaprozorova/Library/Jupyter/nbextensions/collapsible_headings/main.css\n",
      "\u001b[32m[I 17:52:45 InstallContribNbextensionsApp]\u001b[m Copying: /Users/juliaprozorova/opt/anaconda3/lib/python3.9/site-packages/jupyter_contrib_nbextensions/nbextensions/collapsible_headings/readme.md -> /Users/juliaprozorova/Library/Jupyter/nbextensions/collapsible_headings/readme.md\n",
      "\u001b[32m[I 17:52:45 InstallContribNbextensionsApp]\u001b[m Copying: /Users/juliaprozorova/opt/anaconda3/lib/python3.9/site-packages/jupyter_contrib_nbextensions/nbextensions/collapsible_headings/main.js -> /Users/juliaprozorova/Library/Jupyter/nbextensions/collapsible_headings/main.js\n",
      "\u001b[32m[I 17:52:45 InstallContribNbextensionsApp]\u001b[m Copying: /Users/juliaprozorova/opt/anaconda3/lib/python3.9/site-packages/jupyter_contrib_nbextensions/nbextensions/collapsible_headings/collapsible_headings.yaml -> /Users/juliaprozorova/Library/Jupyter/nbextensions/collapsible_headings/collapsible_headings.yaml\n",
      "\u001b[32m[I 17:52:45 InstallContribNbextensionsApp]\u001b[m - Validating: \u001b[32mOK\u001b[0m\n",
      "\u001b[32m[I 17:52:45 InstallContribNbextensionsApp]\u001b[m Installing /Users/juliaprozorova/opt/anaconda3/lib/python3.9/site-packages/jupyter_contrib_nbextensions/nbextensions/exercise -> exercise\n",
      "\u001b[32m[I 17:52:45 InstallContribNbextensionsApp]\u001b[m Making directory: /Users/juliaprozorova/Library/Jupyter/nbextensions/exercise/\n",
      "\u001b[32m[I 17:52:45 InstallContribNbextensionsApp]\u001b[m Copying: /Users/juliaprozorova/opt/anaconda3/lib/python3.9/site-packages/jupyter_contrib_nbextensions/nbextensions/exercise/icon.png -> /Users/juliaprozorova/Library/Jupyter/nbextensions/exercise/icon.png\n",
      "\u001b[32m[I 17:52:45 InstallContribNbextensionsApp]\u001b[m Copying: /Users/juliaprozorova/opt/anaconda3/lib/python3.9/site-packages/jupyter_contrib_nbextensions/nbextensions/exercise/history.md -> /Users/juliaprozorova/Library/Jupyter/nbextensions/exercise/history.md\n",
      "\u001b[32m[I 17:52:45 InstallContribNbextensionsApp]\u001b[m Copying: /Users/juliaprozorova/opt/anaconda3/lib/python3.9/site-packages/jupyter_contrib_nbextensions/nbextensions/exercise/main.css -> /Users/juliaprozorova/Library/Jupyter/nbextensions/exercise/main.css\n",
      "\u001b[32m[I 17:52:45 InstallContribNbextensionsApp]\u001b[m Copying: /Users/juliaprozorova/opt/anaconda3/lib/python3.9/site-packages/jupyter_contrib_nbextensions/nbextensions/exercise/image.gif -> /Users/juliaprozorova/Library/Jupyter/nbextensions/exercise/image.gif\n",
      "\u001b[32m[I 17:52:45 InstallContribNbextensionsApp]\u001b[m Copying: /Users/juliaprozorova/opt/anaconda3/lib/python3.9/site-packages/jupyter_contrib_nbextensions/nbextensions/exercise/readme.md -> /Users/juliaprozorova/Library/Jupyter/nbextensions/exercise/readme.md\n",
      "\u001b[32m[I 17:52:45 InstallContribNbextensionsApp]\u001b[m Copying: /Users/juliaprozorova/opt/anaconda3/lib/python3.9/site-packages/jupyter_contrib_nbextensions/nbextensions/exercise/main.js -> /Users/juliaprozorova/Library/Jupyter/nbextensions/exercise/main.js\n",
      "\u001b[32m[I 17:52:45 InstallContribNbextensionsApp]\u001b[m Copying: /Users/juliaprozorova/opt/anaconda3/lib/python3.9/site-packages/jupyter_contrib_nbextensions/nbextensions/exercise/exercise.yaml -> /Users/juliaprozorova/Library/Jupyter/nbextensions/exercise/exercise.yaml\n",
      "\u001b[32m[I 17:52:45 InstallContribNbextensionsApp]\u001b[m - Validating: \u001b[32mOK\u001b[0m\n",
      "\u001b[32m[I 17:52:45 InstallContribNbextensionsApp]\u001b[m Installing /Users/juliaprozorova/opt/anaconda3/lib/python3.9/site-packages/jupyter_contrib_nbextensions/nbextensions/codemirror_mode_extensions -> codemirror_mode_extensions\n",
      "\u001b[32m[I 17:52:45 InstallContribNbextensionsApp]\u001b[m Making directory: /Users/juliaprozorova/Library/Jupyter/nbextensions/codemirror_mode_extensions/\n",
      "\u001b[32m[I 17:52:45 InstallContribNbextensionsApp]\u001b[m Copying: /Users/juliaprozorova/opt/anaconda3/lib/python3.9/site-packages/jupyter_contrib_nbextensions/nbextensions/codemirror_mode_extensions/codemirror_mode_extensions.yaml -> /Users/juliaprozorova/Library/Jupyter/nbextensions/codemirror_mode_extensions/codemirror_mode_extensions.yaml\n",
      "\u001b[32m[I 17:52:45 InstallContribNbextensionsApp]\u001b[m Copying: /Users/juliaprozorova/opt/anaconda3/lib/python3.9/site-packages/jupyter_contrib_nbextensions/nbextensions/codemirror_mode_extensions/main.js -> /Users/juliaprozorova/Library/Jupyter/nbextensions/codemirror_mode_extensions/main.js\n",
      "\u001b[32m[I 17:52:45 InstallContribNbextensionsApp]\u001b[m - Validating: \u001b[32mOK\u001b[0m\n",
      "\u001b[32m[I 17:52:45 InstallContribNbextensionsApp]\u001b[m Installing /Users/juliaprozorova/opt/anaconda3/lib/python3.9/site-packages/jupyter_contrib_nbextensions/nbextensions/ruler -> ruler\n",
      "\u001b[32m[I 17:52:45 InstallContribNbextensionsApp]\u001b[m Making directory: /Users/juliaprozorova/Library/Jupyter/nbextensions/ruler/\n",
      "\u001b[32m[I 17:52:45 InstallContribNbextensionsApp]\u001b[m Copying: /Users/juliaprozorova/opt/anaconda3/lib/python3.9/site-packages/jupyter_contrib_nbextensions/nbextensions/ruler/icon.png -> /Users/juliaprozorova/Library/Jupyter/nbextensions/ruler/icon.png\n",
      "\u001b[32m[I 17:52:45 InstallContribNbextensionsApp]\u001b[m Copying: /Users/juliaprozorova/opt/anaconda3/lib/python3.9/site-packages/jupyter_contrib_nbextensions/nbextensions/ruler/edit.js -> /Users/juliaprozorova/Library/Jupyter/nbextensions/ruler/edit.js\n",
      "\u001b[32m[I 17:52:45 InstallContribNbextensionsApp]\u001b[m Copying: /Users/juliaprozorova/opt/anaconda3/lib/python3.9/site-packages/jupyter_contrib_nbextensions/nbextensions/ruler/ruler_editor.yaml -> /Users/juliaprozorova/Library/Jupyter/nbextensions/ruler/ruler_editor.yaml\n",
      "\u001b[32m[I 17:52:45 InstallContribNbextensionsApp]\u001b[m Copying: /Users/juliaprozorova/opt/anaconda3/lib/python3.9/site-packages/jupyter_contrib_nbextensions/nbextensions/ruler/readme.md -> /Users/juliaprozorova/Library/Jupyter/nbextensions/ruler/readme.md\n",
      "\u001b[32m[I 17:52:45 InstallContribNbextensionsApp]\u001b[m Copying: /Users/juliaprozorova/opt/anaconda3/lib/python3.9/site-packages/jupyter_contrib_nbextensions/nbextensions/ruler/main.js -> /Users/juliaprozorova/Library/Jupyter/nbextensions/ruler/main.js\n",
      "\u001b[32m[I 17:52:45 InstallContribNbextensionsApp]\u001b[m Copying: /Users/juliaprozorova/opt/anaconda3/lib/python3.9/site-packages/jupyter_contrib_nbextensions/nbextensions/ruler/ruler.yaml -> /Users/juliaprozorova/Library/Jupyter/nbextensions/ruler/ruler.yaml\n",
      "\u001b[32m[I 17:52:45 InstallContribNbextensionsApp]\u001b[m - Validating: \u001b[32mOK\u001b[0m\n",
      "\u001b[32m[I 17:52:45 InstallContribNbextensionsApp]\u001b[m Installing /Users/juliaprozorova/opt/anaconda3/lib/python3.9/site-packages/jupyter_contrib_nbextensions/nbextensions/ruler -> ruler\n",
      "\u001b[32m[I 17:52:45 InstallContribNbextensionsApp]\u001b[m Up to date: /Users/juliaprozorova/Library/Jupyter/nbextensions/ruler/icon.png\n",
      "\u001b[32m[I 17:52:45 InstallContribNbextensionsApp]\u001b[m Up to date: /Users/juliaprozorova/Library/Jupyter/nbextensions/ruler/edit.js\n",
      "\u001b[32m[I 17:52:45 InstallContribNbextensionsApp]\u001b[m Up to date: /Users/juliaprozorova/Library/Jupyter/nbextensions/ruler/ruler_editor.yaml\n",
      "\u001b[32m[I 17:52:45 InstallContribNbextensionsApp]\u001b[m Up to date: /Users/juliaprozorova/Library/Jupyter/nbextensions/ruler/readme.md\n",
      "\u001b[32m[I 17:52:45 InstallContribNbextensionsApp]\u001b[m Up to date: /Users/juliaprozorova/Library/Jupyter/nbextensions/ruler/main.js\n",
      "\u001b[32m[I 17:52:45 InstallContribNbextensionsApp]\u001b[m Up to date: /Users/juliaprozorova/Library/Jupyter/nbextensions/ruler/ruler.yaml\n",
      "\u001b[32m[I 17:52:45 InstallContribNbextensionsApp]\u001b[m - Validating: \u001b[32mOK\u001b[0m\n",
      "\u001b[32m[I 17:52:45 InstallContribNbextensionsApp]\u001b[m Installing /Users/juliaprozorova/opt/anaconda3/lib/python3.9/site-packages/jupyter_contrib_nbextensions/nbextensions/contrib_nbextensions_help_item -> contrib_nbextensions_help_item\n",
      "\u001b[32m[I 17:52:45 InstallContribNbextensionsApp]\u001b[m Making directory: /Users/juliaprozorova/Library/Jupyter/nbextensions/contrib_nbextensions_help_item/\n",
      "\u001b[32m[I 17:52:45 InstallContribNbextensionsApp]\u001b[m Copying: /Users/juliaprozorova/opt/anaconda3/lib/python3.9/site-packages/jupyter_contrib_nbextensions/nbextensions/contrib_nbextensions_help_item/README.md -> /Users/juliaprozorova/Library/Jupyter/nbextensions/contrib_nbextensions_help_item/README.md\n",
      "\u001b[32m[I 17:52:45 InstallContribNbextensionsApp]\u001b[m Copying: /Users/juliaprozorova/opt/anaconda3/lib/python3.9/site-packages/jupyter_contrib_nbextensions/nbextensions/contrib_nbextensions_help_item/main.js -> /Users/juliaprozorova/Library/Jupyter/nbextensions/contrib_nbextensions_help_item/main.js\n",
      "\u001b[32m[I 17:52:45 InstallContribNbextensionsApp]\u001b[m Copying: /Users/juliaprozorova/opt/anaconda3/lib/python3.9/site-packages/jupyter_contrib_nbextensions/nbextensions/contrib_nbextensions_help_item/contrib_nbextensions_help_item.yaml -> /Users/juliaprozorova/Library/Jupyter/nbextensions/contrib_nbextensions_help_item/contrib_nbextensions_help_item.yaml\n"
     ]
    },
    {
     "name": "stdout",
     "output_type": "stream",
     "text": [
      "\u001b[32m[I 17:52:45 InstallContribNbextensionsApp]\u001b[m - Validating: \u001b[32mOK\u001b[0m\r\n",
      "\u001b[32m[I 17:52:45 InstallContribNbextensionsApp]\u001b[m Installing /Users/juliaprozorova/opt/anaconda3/lib/python3.9/site-packages/jupyter_contrib_nbextensions/nbextensions/datestamper -> datestamper\r\n",
      "\u001b[32m[I 17:52:45 InstallContribNbextensionsApp]\u001b[m Making directory: /Users/juliaprozorova/Library/Jupyter/nbextensions/datestamper/\r\n",
      "\u001b[32m[I 17:52:45 InstallContribNbextensionsApp]\u001b[m Copying: /Users/juliaprozorova/opt/anaconda3/lib/python3.9/site-packages/jupyter_contrib_nbextensions/nbextensions/datestamper/icon.png -> /Users/juliaprozorova/Library/Jupyter/nbextensions/datestamper/icon.png\r\n",
      "\u001b[32m[I 17:52:45 InstallContribNbextensionsApp]\u001b[m Copying: /Users/juliaprozorova/opt/anaconda3/lib/python3.9/site-packages/jupyter_contrib_nbextensions/nbextensions/datestamper/main.yaml -> /Users/juliaprozorova/Library/Jupyter/nbextensions/datestamper/main.yaml\r\n",
      "\u001b[32m[I 17:52:45 InstallContribNbextensionsApp]\u001b[m Copying: /Users/juliaprozorova/opt/anaconda3/lib/python3.9/site-packages/jupyter_contrib_nbextensions/nbextensions/datestamper/readme.md -> /Users/juliaprozorova/Library/Jupyter/nbextensions/datestamper/readme.md\r\n",
      "\u001b[32m[I 17:52:45 InstallContribNbextensionsApp]\u001b[m Copying: /Users/juliaprozorova/opt/anaconda3/lib/python3.9/site-packages/jupyter_contrib_nbextensions/nbextensions/datestamper/main.js -> /Users/juliaprozorova/Library/Jupyter/nbextensions/datestamper/main.js\r\n",
      "\u001b[32m[I 17:52:45 InstallContribNbextensionsApp]\u001b[m - Validating: \u001b[32mOK\u001b[0m\r\n",
      "\u001b[32m[I 17:52:45 InstallContribNbextensionsApp]\u001b[m Installing /Users/juliaprozorova/opt/anaconda3/lib/python3.9/site-packages/jupyter_contrib_nbextensions/nbextensions/init_cell -> init_cell\r\n",
      "\u001b[32m[I 17:52:45 InstallContribNbextensionsApp]\u001b[m Making directory: /Users/juliaprozorova/Library/Jupyter/nbextensions/init_cell/\r\n",
      "\u001b[32m[I 17:52:45 InstallContribNbextensionsApp]\u001b[m Copying: /Users/juliaprozorova/opt/anaconda3/lib/python3.9/site-packages/jupyter_contrib_nbextensions/nbextensions/init_cell/init_cell.yaml -> /Users/juliaprozorova/Library/Jupyter/nbextensions/init_cell/init_cell.yaml\r\n",
      "\u001b[32m[I 17:52:45 InstallContribNbextensionsApp]\u001b[m Copying: /Users/juliaprozorova/opt/anaconda3/lib/python3.9/site-packages/jupyter_contrib_nbextensions/nbextensions/init_cell/icon.png -> /Users/juliaprozorova/Library/Jupyter/nbextensions/init_cell/icon.png\r\n",
      "\u001b[32m[I 17:52:45 InstallContribNbextensionsApp]\u001b[m Copying: /Users/juliaprozorova/opt/anaconda3/lib/python3.9/site-packages/jupyter_contrib_nbextensions/nbextensions/init_cell/README.md -> /Users/juliaprozorova/Library/Jupyter/nbextensions/init_cell/README.md\r\n",
      "\u001b[32m[I 17:52:45 InstallContribNbextensionsApp]\u001b[m Copying: /Users/juliaprozorova/opt/anaconda3/lib/python3.9/site-packages/jupyter_contrib_nbextensions/nbextensions/init_cell/main.js -> /Users/juliaprozorova/Library/Jupyter/nbextensions/init_cell/main.js\r\n",
      "\u001b[32m[I 17:52:45 InstallContribNbextensionsApp]\u001b[m Copying: /Users/juliaprozorova/opt/anaconda3/lib/python3.9/site-packages/jupyter_contrib_nbextensions/nbextensions/init_cell/cell_toolbar_menu.png -> /Users/juliaprozorova/Library/Jupyter/nbextensions/init_cell/cell_toolbar_menu.png\r\n",
      "\u001b[32m[I 17:52:45 InstallContribNbextensionsApp]\u001b[m - Validating: \u001b[32mOK\u001b[0m\r\n",
      "\u001b[32m[I 17:52:45 InstallContribNbextensionsApp]\u001b[m Installing /Users/juliaprozorova/opt/anaconda3/lib/python3.9/site-packages/jupyter_contrib_nbextensions/nbextensions/limit_output -> limit_output\r\n",
      "\u001b[32m[I 17:52:45 InstallContribNbextensionsApp]\u001b[m Making directory: /Users/juliaprozorova/Library/Jupyter/nbextensions/limit_output/\r\n",
      "\u001b[32m[I 17:52:45 InstallContribNbextensionsApp]\u001b[m Copying: /Users/juliaprozorova/opt/anaconda3/lib/python3.9/site-packages/jupyter_contrib_nbextensions/nbextensions/limit_output/icon.png -> /Users/juliaprozorova/Library/Jupyter/nbextensions/limit_output/icon.png\r\n",
      "\u001b[32m[I 17:52:45 InstallContribNbextensionsApp]\u001b[m Copying: /Users/juliaprozorova/opt/anaconda3/lib/python3.9/site-packages/jupyter_contrib_nbextensions/nbextensions/limit_output/readme.md -> /Users/juliaprozorova/Library/Jupyter/nbextensions/limit_output/readme.md\r\n",
      "\u001b[32m[I 17:52:45 InstallContribNbextensionsApp]\u001b[m Copying: /Users/juliaprozorova/opt/anaconda3/lib/python3.9/site-packages/jupyter_contrib_nbextensions/nbextensions/limit_output/main.js -> /Users/juliaprozorova/Library/Jupyter/nbextensions/limit_output/main.js\r\n",
      "\u001b[32m[I 17:52:45 InstallContribNbextensionsApp]\u001b[m Copying: /Users/juliaprozorova/opt/anaconda3/lib/python3.9/site-packages/jupyter_contrib_nbextensions/nbextensions/limit_output/limit-output.yaml -> /Users/juliaprozorova/Library/Jupyter/nbextensions/limit_output/limit-output.yaml\r\n",
      "\u001b[32m[I 17:52:45 InstallContribNbextensionsApp]\u001b[m - Validating: \u001b[32mOK\u001b[0m\r\n",
      "\u001b[32m[I 17:52:45 InstallContribNbextensionsApp]\u001b[m Installing /Users/juliaprozorova/opt/anaconda3/lib/python3.9/site-packages/jupyter_contrib_nbextensions/nbextensions/qtconsole -> qtconsole\r\n",
      "\u001b[32m[I 17:52:45 InstallContribNbextensionsApp]\u001b[m Making directory: /Users/juliaprozorova/Library/Jupyter/nbextensions/qtconsole/\r\n",
      "\u001b[32m[I 17:52:45 InstallContribNbextensionsApp]\u001b[m Copying: /Users/juliaprozorova/opt/anaconda3/lib/python3.9/site-packages/jupyter_contrib_nbextensions/nbextensions/qtconsole/qtconsole.js -> /Users/juliaprozorova/Library/Jupyter/nbextensions/qtconsole/qtconsole.js\r\n",
      "\u001b[32m[I 17:52:45 InstallContribNbextensionsApp]\u001b[m Copying: /Users/juliaprozorova/opt/anaconda3/lib/python3.9/site-packages/jupyter_contrib_nbextensions/nbextensions/qtconsole/qtconsole.yaml -> /Users/juliaprozorova/Library/Jupyter/nbextensions/qtconsole/qtconsole.yaml\r\n",
      "\u001b[32m[I 17:52:45 InstallContribNbextensionsApp]\u001b[m Copying: /Users/juliaprozorova/opt/anaconda3/lib/python3.9/site-packages/jupyter_contrib_nbextensions/nbextensions/qtconsole/README.md -> /Users/juliaprozorova/Library/Jupyter/nbextensions/qtconsole/README.md\r\n",
      "\u001b[32m[I 17:52:45 InstallContribNbextensionsApp]\u001b[m - Validating: \u001b[32mOK\u001b[0m\r\n",
      "\u001b[32m[I 17:52:45 InstallContribNbextensionsApp]\u001b[m Installing /Users/juliaprozorova/opt/anaconda3/lib/python3.9/site-packages/jupyter_contrib_nbextensions/nbextensions/addbefore -> addbefore\r\n",
      "\u001b[32m[I 17:52:45 InstallContribNbextensionsApp]\u001b[m Making directory: /Users/juliaprozorova/Library/Jupyter/nbextensions/addbefore/\r\n",
      "\u001b[32m[I 17:52:45 InstallContribNbextensionsApp]\u001b[m Copying: /Users/juliaprozorova/opt/anaconda3/lib/python3.9/site-packages/jupyter_contrib_nbextensions/nbextensions/addbefore/icon.png -> /Users/juliaprozorova/Library/Jupyter/nbextensions/addbefore/icon.png\r\n",
      "\u001b[32m[I 17:52:45 InstallContribNbextensionsApp]\u001b[m Copying: /Users/juliaprozorova/opt/anaconda3/lib/python3.9/site-packages/jupyter_contrib_nbextensions/nbextensions/addbefore/readme.md -> /Users/juliaprozorova/Library/Jupyter/nbextensions/addbefore/readme.md\r\n",
      "\u001b[32m[I 17:52:45 InstallContribNbextensionsApp]\u001b[m Copying: /Users/juliaprozorova/opt/anaconda3/lib/python3.9/site-packages/jupyter_contrib_nbextensions/nbextensions/addbefore/main.js -> /Users/juliaprozorova/Library/Jupyter/nbextensions/addbefore/main.js\r\n",
      "\u001b[32m[I 17:52:45 InstallContribNbextensionsApp]\u001b[m Copying: /Users/juliaprozorova/opt/anaconda3/lib/python3.9/site-packages/jupyter_contrib_nbextensions/nbextensions/addbefore/addbefore.yaml -> /Users/juliaprozorova/Library/Jupyter/nbextensions/addbefore/addbefore.yaml\r\n",
      "\u001b[32m[I 17:52:45 InstallContribNbextensionsApp]\u001b[m - Validating: \u001b[32mOK\u001b[0m\r\n",
      "\u001b[32m[I 17:52:45 InstallContribNbextensionsApp]\u001b[m Installing /Users/juliaprozorova/opt/anaconda3/lib/python3.9/site-packages/jupyter_contrib_nbextensions/nbextensions/highlighter -> highlighter\r\n",
      "\u001b[32m[I 17:52:45 InstallContribNbextensionsApp]\u001b[m Making directory: /Users/juliaprozorova/Library/Jupyter/nbextensions/highlighter/\r\n",
      "\u001b[32m[I 17:52:45 InstallContribNbextensionsApp]\u001b[m Copying: /Users/juliaprozorova/opt/anaconda3/lib/python3.9/site-packages/jupyter_contrib_nbextensions/nbextensions/highlighter/icon.png -> /Users/juliaprozorova/Library/Jupyter/nbextensions/highlighter/icon.png\r\n",
      "\u001b[32m[I 17:52:45 InstallContribNbextensionsApp]\u001b[m Copying: /Users/juliaprozorova/opt/anaconda3/lib/python3.9/site-packages/jupyter_contrib_nbextensions/nbextensions/highlighter/export_highlights.pdf -> /Users/juliaprozorova/Library/Jupyter/nbextensions/highlighter/export_highlights.pdf\r\n",
      "\u001b[32m[I 17:52:45 InstallContribNbextensionsApp]\u001b[m Copying: /Users/juliaprozorova/opt/anaconda3/lib/python3.9/site-packages/jupyter_contrib_nbextensions/nbextensions/highlighter/demo_highlighter.html -> /Users/juliaprozorova/Library/Jupyter/nbextensions/highlighter/demo_highlighter.html\r\n",
      "\u001b[32m[I 17:52:45 InstallContribNbextensionsApp]\u001b[m Copying: /Users/juliaprozorova/opt/anaconda3/lib/python3.9/site-packages/jupyter_contrib_nbextensions/nbextensions/highlighter/demo_highlighter.ipynb -> /Users/juliaprozorova/Library/Jupyter/nbextensions/highlighter/demo_highlighter.ipynb\r\n",
      "\u001b[32m[I 17:52:45 InstallContribNbextensionsApp]\u001b[m Copying: /Users/juliaprozorova/opt/anaconda3/lib/python3.9/site-packages/jupyter_contrib_nbextensions/nbextensions/highlighter/tst_highlights.ipynb -> /Users/juliaprozorova/Library/Jupyter/nbextensions/highlighter/tst_highlights.ipynb\r\n",
      "\u001b[32m[I 17:52:45 InstallContribNbextensionsApp]\u001b[m Copying: /Users/juliaprozorova/opt/anaconda3/lib/python3.9/site-packages/jupyter_contrib_nbextensions/nbextensions/highlighter/export_highlights.ipynb -> /Users/juliaprozorova/Library/Jupyter/nbextensions/highlighter/export_highlights.ipynb\r\n",
      "\u001b[32m[I 17:52:45 InstallContribNbextensionsApp]\u001b[m Copying: /Users/juliaprozorova/opt/anaconda3/lib/python3.9/site-packages/jupyter_contrib_nbextensions/nbextensions/highlighter/tst_highlights.html -> /Users/juliaprozorova/Library/Jupyter/nbextensions/highlighter/tst_highlights.html\r\n",
      "\u001b[32m[I 17:52:45 InstallContribNbextensionsApp]\u001b[m Copying: /Users/juliaprozorova/opt/anaconda3/lib/python3.9/site-packages/jupyter_contrib_nbextensions/nbextensions/highlighter/export_highlights.tex -> /Users/juliaprozorova/Library/Jupyter/nbextensions/highlighter/export_highlights.tex\r\n",
      "\u001b[32m[I 17:52:45 InstallContribNbextensionsApp]\u001b[m Copying: /Users/juliaprozorova/opt/anaconda3/lib/python3.9/site-packages/jupyter_contrib_nbextensions/nbextensions/highlighter/image.gif -> /Users/juliaprozorova/Library/Jupyter/nbextensions/highlighter/image.gif\r\n"
     ]
    },
    {
     "name": "stdout",
     "output_type": "stream",
     "text": [
      "\u001b[32m[I 17:52:45 InstallContribNbextensionsApp]\u001b[m Copying: /Users/juliaprozorova/opt/anaconda3/lib/python3.9/site-packages/jupyter_contrib_nbextensions/nbextensions/highlighter/readme.md -> /Users/juliaprozorova/Library/Jupyter/nbextensions/highlighter/readme.md\n",
      "\u001b[32m[I 17:52:45 InstallContribNbextensionsApp]\u001b[m Copying: /Users/juliaprozorova/opt/anaconda3/lib/python3.9/site-packages/jupyter_contrib_nbextensions/nbextensions/highlighter/highlighter.css -> /Users/juliaprozorova/Library/Jupyter/nbextensions/highlighter/highlighter.css\n",
      "\u001b[32m[I 17:52:45 InstallContribNbextensionsApp]\u001b[m Copying: /Users/juliaprozorova/opt/anaconda3/lib/python3.9/site-packages/jupyter_contrib_nbextensions/nbextensions/highlighter/tst_highlights.pdf -> /Users/juliaprozorova/Library/Jupyter/nbextensions/highlighter/tst_highlights.pdf\n",
      "\u001b[32m[I 17:52:45 InstallContribNbextensionsApp]\u001b[m Copying: /Users/juliaprozorova/opt/anaconda3/lib/python3.9/site-packages/jupyter_contrib_nbextensions/nbextensions/highlighter/export_highlights.html -> /Users/juliaprozorova/Library/Jupyter/nbextensions/highlighter/export_highlights.html\n",
      "\u001b[32m[I 17:52:45 InstallContribNbextensionsApp]\u001b[m Copying: /Users/juliaprozorova/opt/anaconda3/lib/python3.9/site-packages/jupyter_contrib_nbextensions/nbextensions/highlighter/tst_highlights.tex -> /Users/juliaprozorova/Library/Jupyter/nbextensions/highlighter/tst_highlights.tex\n",
      "\u001b[32m[I 17:52:45 InstallContribNbextensionsApp]\u001b[m Copying: /Users/juliaprozorova/opt/anaconda3/lib/python3.9/site-packages/jupyter_contrib_nbextensions/nbextensions/highlighter/highlighter.yaml -> /Users/juliaprozorova/Library/Jupyter/nbextensions/highlighter/highlighter.yaml\n",
      "\u001b[32m[I 17:52:45 InstallContribNbextensionsApp]\u001b[m Copying: /Users/juliaprozorova/opt/anaconda3/lib/python3.9/site-packages/jupyter_contrib_nbextensions/nbextensions/highlighter/highlighter.js -> /Users/juliaprozorova/Library/Jupyter/nbextensions/highlighter/highlighter.js\n",
      "\u001b[32m[I 17:52:45 InstallContribNbextensionsApp]\u001b[m - Validating: \u001b[32mOK\u001b[0m\n",
      "\u001b[32m[I 17:52:45 InstallContribNbextensionsApp]\u001b[m Installing /Users/juliaprozorova/opt/anaconda3/lib/python3.9/site-packages/jupyter_contrib_nbextensions/nbextensions/comment-uncomment -> comment-uncomment\n",
      "\u001b[32m[I 17:52:45 InstallContribNbextensionsApp]\u001b[m Making directory: /Users/juliaprozorova/Library/Jupyter/nbextensions/comment-uncomment/\n",
      "\u001b[32m[I 17:52:45 InstallContribNbextensionsApp]\u001b[m Copying: /Users/juliaprozorova/opt/anaconda3/lib/python3.9/site-packages/jupyter_contrib_nbextensions/nbextensions/comment-uncomment/icon.png -> /Users/juliaprozorova/Library/Jupyter/nbextensions/comment-uncomment/icon.png\n",
      "\u001b[32m[I 17:52:45 InstallContribNbextensionsApp]\u001b[m Copying: /Users/juliaprozorova/opt/anaconda3/lib/python3.9/site-packages/jupyter_contrib_nbextensions/nbextensions/comment-uncomment/readme.md -> /Users/juliaprozorova/Library/Jupyter/nbextensions/comment-uncomment/readme.md\n",
      "\u001b[32m[I 17:52:45 InstallContribNbextensionsApp]\u001b[m Copying: /Users/juliaprozorova/opt/anaconda3/lib/python3.9/site-packages/jupyter_contrib_nbextensions/nbextensions/comment-uncomment/main.js -> /Users/juliaprozorova/Library/Jupyter/nbextensions/comment-uncomment/main.js\n",
      "\u001b[32m[I 17:52:45 InstallContribNbextensionsApp]\u001b[m Copying: /Users/juliaprozorova/opt/anaconda3/lib/python3.9/site-packages/jupyter_contrib_nbextensions/nbextensions/comment-uncomment/comment-uncomment.yaml -> /Users/juliaprozorova/Library/Jupyter/nbextensions/comment-uncomment/comment-uncomment.yaml\n",
      "\u001b[32m[I 17:52:45 InstallContribNbextensionsApp]\u001b[m - Validating: \u001b[32mOK\u001b[0m\n",
      "\u001b[32m[I 17:52:45 InstallContribNbextensionsApp]\u001b[m Installing /Users/juliaprozorova/opt/anaconda3/lib/python3.9/site-packages/jupyter_contrib_nbextensions/nbextensions/code_font_size -> code_font_size\n",
      "\u001b[32m[I 17:52:45 InstallContribNbextensionsApp]\u001b[m Making directory: /Users/juliaprozorova/Library/Jupyter/nbextensions/code_font_size/\n",
      "\u001b[32m[I 17:52:45 InstallContribNbextensionsApp]\u001b[m Copying: /Users/juliaprozorova/opt/anaconda3/lib/python3.9/site-packages/jupyter_contrib_nbextensions/nbextensions/code_font_size/code_font_size.yaml -> /Users/juliaprozorova/Library/Jupyter/nbextensions/code_font_size/code_font_size.yaml\n",
      "\u001b[32m[I 17:52:45 InstallContribNbextensionsApp]\u001b[m Copying: /Users/juliaprozorova/opt/anaconda3/lib/python3.9/site-packages/jupyter_contrib_nbextensions/nbextensions/code_font_size/code_font_size.js -> /Users/juliaprozorova/Library/Jupyter/nbextensions/code_font_size/code_font_size.js\n",
      "\u001b[32m[I 17:52:45 InstallContribNbextensionsApp]\u001b[m Copying: /Users/juliaprozorova/opt/anaconda3/lib/python3.9/site-packages/jupyter_contrib_nbextensions/nbextensions/code_font_size/README.md -> /Users/juliaprozorova/Library/Jupyter/nbextensions/code_font_size/README.md\n",
      "\u001b[32m[I 17:52:45 InstallContribNbextensionsApp]\u001b[m - Validating: \u001b[32mOK\u001b[0m\n",
      "\u001b[32m[I 17:52:45 InstallContribNbextensionsApp]\u001b[m Installing /Users/juliaprozorova/opt/anaconda3/lib/python3.9/site-packages/jupyter_contrib_nbextensions/nbextensions/varInspector -> varInspector\n",
      "\u001b[32m[I 17:52:45 InstallContribNbextensionsApp]\u001b[m Making directory: /Users/juliaprozorova/Library/Jupyter/nbextensions/varInspector/\n",
      "\u001b[32m[I 17:52:45 InstallContribNbextensionsApp]\u001b[m Copying: /Users/juliaprozorova/opt/anaconda3/lib/python3.9/site-packages/jupyter_contrib_nbextensions/nbextensions/varInspector/icon.png -> /Users/juliaprozorova/Library/Jupyter/nbextensions/varInspector/icon.png\n",
      "\u001b[32m[I 17:52:45 InstallContribNbextensionsApp]\u001b[m Copying: /Users/juliaprozorova/opt/anaconda3/lib/python3.9/site-packages/jupyter_contrib_nbextensions/nbextensions/varInspector/jquery.tablesorter.min.js -> /Users/juliaprozorova/Library/Jupyter/nbextensions/varInspector/jquery.tablesorter.min.js\n",
      "\u001b[32m[I 17:52:45 InstallContribNbextensionsApp]\u001b[m Copying: /Users/juliaprozorova/opt/anaconda3/lib/python3.9/site-packages/jupyter_contrib_nbextensions/nbextensions/varInspector/varInspector.yaml -> /Users/juliaprozorova/Library/Jupyter/nbextensions/varInspector/varInspector.yaml\n",
      "\u001b[32m[I 17:52:45 InstallContribNbextensionsApp]\u001b[m Copying: /Users/juliaprozorova/opt/anaconda3/lib/python3.9/site-packages/jupyter_contrib_nbextensions/nbextensions/varInspector/main.css -> /Users/juliaprozorova/Library/Jupyter/nbextensions/varInspector/main.css\n",
      "\u001b[32m[I 17:52:45 InstallContribNbextensionsApp]\u001b[m Copying: /Users/juliaprozorova/opt/anaconda3/lib/python3.9/site-packages/jupyter_contrib_nbextensions/nbextensions/varInspector/var_list.py -> /Users/juliaprozorova/Library/Jupyter/nbextensions/varInspector/var_list.py\n",
      "\u001b[32m[I 17:52:45 InstallContribNbextensionsApp]\u001b[m Copying: /Users/juliaprozorova/opt/anaconda3/lib/python3.9/site-packages/jupyter_contrib_nbextensions/nbextensions/varInspector/README.md -> /Users/juliaprozorova/Library/Jupyter/nbextensions/varInspector/README.md\n",
      "\u001b[32m[I 17:52:45 InstallContribNbextensionsApp]\u001b[m Copying: /Users/juliaprozorova/opt/anaconda3/lib/python3.9/site-packages/jupyter_contrib_nbextensions/nbextensions/varInspector/main.js -> /Users/juliaprozorova/Library/Jupyter/nbextensions/varInspector/main.js\n",
      "\u001b[32m[I 17:52:45 InstallContribNbextensionsApp]\u001b[m Copying: /Users/juliaprozorova/opt/anaconda3/lib/python3.9/site-packages/jupyter_contrib_nbextensions/nbextensions/varInspector/var_list.r -> /Users/juliaprozorova/Library/Jupyter/nbextensions/varInspector/var_list.r\n",
      "\u001b[32m[I 17:52:45 InstallContribNbextensionsApp]\u001b[m Copying: /Users/juliaprozorova/opt/anaconda3/lib/python3.9/site-packages/jupyter_contrib_nbextensions/nbextensions/varInspector/tablesorter_LICENSE.txt -> /Users/juliaprozorova/Library/Jupyter/nbextensions/varInspector/tablesorter_LICENSE.txt\n",
      "\u001b[32m[I 17:52:45 InstallContribNbextensionsApp]\u001b[m Copying: /Users/juliaprozorova/opt/anaconda3/lib/python3.9/site-packages/jupyter_contrib_nbextensions/nbextensions/varInspector/demo.gif -> /Users/juliaprozorova/Library/Jupyter/nbextensions/varInspector/demo.gif\n",
      "\u001b[32m[I 17:52:45 InstallContribNbextensionsApp]\u001b[m Making directory: /Users/juliaprozorova/Library/Jupyter/nbextensions/varInspector/__pycache__\n",
      "\u001b[32m[I 17:52:45 InstallContribNbextensionsApp]\u001b[m Copying: /Users/juliaprozorova/opt/anaconda3/lib/python3.9/site-packages/jupyter_contrib_nbextensions/nbextensions/varInspector/__pycache__/var_list.cpython-39.pyc -> /Users/juliaprozorova/Library/Jupyter/nbextensions/varInspector/__pycache__/var_list.cpython-39.pyc\n",
      "\u001b[32m[I 17:52:45 InstallContribNbextensionsApp]\u001b[m - Validating: \u001b[32mOK\u001b[0m\n",
      "\u001b[32m[I 17:52:45 InstallContribNbextensionsApp]\u001b[m Installing /Users/juliaprozorova/opt/anaconda3/lib/python3.9/site-packages/jupyter_contrib_nbextensions/nbextensions/execute_time -> execute_time\n",
      "\u001b[32m[I 17:52:45 InstallContribNbextensionsApp]\u001b[m Making directory: /Users/juliaprozorova/Library/Jupyter/nbextensions/execute_time/\n",
      "\u001b[32m[I 17:52:45 InstallContribNbextensionsApp]\u001b[m Copying: /Users/juliaprozorova/opt/anaconda3/lib/python3.9/site-packages/jupyter_contrib_nbextensions/nbextensions/execute_time/ExecuteTime.js -> /Users/juliaprozorova/Library/Jupyter/nbextensions/execute_time/ExecuteTime.js\n",
      "\u001b[32m[I 17:52:45 InstallContribNbextensionsApp]\u001b[m Copying: /Users/juliaprozorova/opt/anaconda3/lib/python3.9/site-packages/jupyter_contrib_nbextensions/nbextensions/execute_time/icon.png -> /Users/juliaprozorova/Library/Jupyter/nbextensions/execute_time/icon.png\n",
      "\u001b[32m[I 17:52:45 InstallContribNbextensionsApp]\u001b[m Copying: /Users/juliaprozorova/opt/anaconda3/lib/python3.9/site-packages/jupyter_contrib_nbextensions/nbextensions/execute_time/execution-timings-box.png -> /Users/juliaprozorova/Library/Jupyter/nbextensions/execute_time/execution-timings-box.png\n",
      "\u001b[32m[I 17:52:45 InstallContribNbextensionsApp]\u001b[m Copying: /Users/juliaprozorova/opt/anaconda3/lib/python3.9/site-packages/jupyter_contrib_nbextensions/nbextensions/execute_time/ExecuteTime.css -> /Users/juliaprozorova/Library/Jupyter/nbextensions/execute_time/ExecuteTime.css\n",
      "\u001b[32m[I 17:52:45 InstallContribNbextensionsApp]\u001b[m Copying: /Users/juliaprozorova/opt/anaconda3/lib/python3.9/site-packages/jupyter_contrib_nbextensions/nbextensions/execute_time/ExecuteTime.yaml -> /Users/juliaprozorova/Library/Jupyter/nbextensions/execute_time/ExecuteTime.yaml\n",
      "\u001b[32m[I 17:52:45 InstallContribNbextensionsApp]\u001b[m Copying: /Users/juliaprozorova/opt/anaconda3/lib/python3.9/site-packages/jupyter_contrib_nbextensions/nbextensions/execute_time/execution-timings-menu.png -> /Users/juliaprozorova/Library/Jupyter/nbextensions/execute_time/execution-timings-menu.png\n",
      "\u001b[32m[I 17:52:45 InstallContribNbextensionsApp]\u001b[m Copying: /Users/juliaprozorova/opt/anaconda3/lib/python3.9/site-packages/jupyter_contrib_nbextensions/nbextensions/execute_time/readme.md -> /Users/juliaprozorova/Library/Jupyter/nbextensions/execute_time/readme.md\n",
      "\u001b[32m[I 17:52:45 InstallContribNbextensionsApp]\u001b[m - Validating: \u001b[32mOK\u001b[0m\n",
      "\u001b[32m[I 17:52:45 InstallContribNbextensionsApp]\u001b[m Installing /Users/juliaprozorova/opt/anaconda3/lib/python3.9/site-packages/jupyter_contrib_nbextensions/nbextensions/spellchecker -> spellchecker\n",
      "\u001b[32m[I 17:52:45 InstallContribNbextensionsApp]\u001b[m Making directory: /Users/juliaprozorova/Library/Jupyter/nbextensions/spellchecker/\n",
      "\u001b[32m[I 17:52:45 InstallContribNbextensionsApp]\u001b[m Copying: /Users/juliaprozorova/opt/anaconda3/lib/python3.9/site-packages/jupyter_contrib_nbextensions/nbextensions/spellchecker/download_new_dict.py -> /Users/juliaprozorova/Library/Jupyter/nbextensions/spellchecker/download_new_dict.py\n",
      "\u001b[32m[I 17:52:45 InstallContribNbextensionsApp]\u001b[m Copying: /Users/juliaprozorova/opt/anaconda3/lib/python3.9/site-packages/jupyter_contrib_nbextensions/nbextensions/spellchecker/screenshot.png -> /Users/juliaprozorova/Library/Jupyter/nbextensions/spellchecker/screenshot.png\n",
      "\u001b[32m[I 17:52:45 InstallContribNbextensionsApp]\u001b[m Copying: /Users/juliaprozorova/opt/anaconda3/lib/python3.9/site-packages/jupyter_contrib_nbextensions/nbextensions/spellchecker/config.yaml -> /Users/juliaprozorova/Library/Jupyter/nbextensions/spellchecker/config.yaml\n",
      "\u001b[32m[I 17:52:45 InstallContribNbextensionsApp]\u001b[m Copying: /Users/juliaprozorova/opt/anaconda3/lib/python3.9/site-packages/jupyter_contrib_nbextensions/nbextensions/spellchecker/main.css -> /Users/juliaprozorova/Library/Jupyter/nbextensions/spellchecker/main.css\n",
      "\u001b[32m[I 17:52:45 InstallContribNbextensionsApp]\u001b[m Copying: /Users/juliaprozorova/opt/anaconda3/lib/python3.9/site-packages/jupyter_contrib_nbextensions/nbextensions/spellchecker/README.md -> /Users/juliaprozorova/Library/Jupyter/nbextensions/spellchecker/README.md\n",
      "\u001b[32m[I 17:52:45 InstallContribNbextensionsApp]\u001b[m Copying: /Users/juliaprozorova/opt/anaconda3/lib/python3.9/site-packages/jupyter_contrib_nbextensions/nbextensions/spellchecker/main.js -> /Users/juliaprozorova/Library/Jupyter/nbextensions/spellchecker/main.js\n",
      "\u001b[32m[I 17:52:45 InstallContribNbextensionsApp]\u001b[m Making directory: /Users/juliaprozorova/Library/Jupyter/nbextensions/spellchecker/typo\n",
      "\u001b[32m[I 17:52:45 InstallContribNbextensionsApp]\u001b[m Copying: /Users/juliaprozorova/opt/anaconda3/lib/python3.9/site-packages/jupyter_contrib_nbextensions/nbextensions/spellchecker/typo/typo.js -> /Users/juliaprozorova/Library/Jupyter/nbextensions/spellchecker/typo/typo.js\n",
      "\u001b[32m[I 17:52:45 InstallContribNbextensionsApp]\u001b[m Copying: /Users/juliaprozorova/opt/anaconda3/lib/python3.9/site-packages/jupyter_contrib_nbextensions/nbextensions/spellchecker/typo/LICENSE.txt -> /Users/juliaprozorova/Library/Jupyter/nbextensions/spellchecker/typo/LICENSE.txt\n",
      "\u001b[32m[I 17:52:45 InstallContribNbextensionsApp]\u001b[m Making directory: /Users/juliaprozorova/Library/Jupyter/nbextensions/spellchecker/__pycache__\n",
      "\u001b[32m[I 17:52:45 InstallContribNbextensionsApp]\u001b[m Copying: /Users/juliaprozorova/opt/anaconda3/lib/python3.9/site-packages/jupyter_contrib_nbextensions/nbextensions/spellchecker/__pycache__/download_new_dict.cpython-39.pyc -> /Users/juliaprozorova/Library/Jupyter/nbextensions/spellchecker/__pycache__/download_new_dict.cpython-39.pyc\n",
      "\u001b[32m[I 17:52:45 InstallContribNbextensionsApp]\u001b[m - Validating: \u001b[32mOK\u001b[0m\n",
      "\u001b[32m[I 17:52:45 InstallContribNbextensionsApp]\u001b[m Installing /Users/juliaprozorova/opt/anaconda3/lib/python3.9/site-packages/jupyter_contrib_nbextensions/nbextensions/code_prettify -> code_prettify\n",
      "\u001b[32m[I 17:52:45 InstallContribNbextensionsApp]\u001b[m Making directory: /Users/juliaprozorova/Library/Jupyter/nbextensions/code_prettify/\n",
      "\u001b[32m[I 17:52:45 InstallContribNbextensionsApp]\u001b[m Copying: /Users/juliaprozorova/opt/anaconda3/lib/python3.9/site-packages/jupyter_contrib_nbextensions/nbextensions/code_prettify/demo-py.gif -> /Users/juliaprozorova/Library/Jupyter/nbextensions/code_prettify/demo-py.gif\n"
     ]
    },
    {
     "name": "stdout",
     "output_type": "stream",
     "text": [
      "\u001b[32m[I 17:52:45 InstallContribNbextensionsApp]\u001b[m Copying: /Users/juliaprozorova/opt/anaconda3/lib/python3.9/site-packages/jupyter_contrib_nbextensions/nbextensions/code_prettify/kernel_exec_on_cell.js -> /Users/juliaprozorova/Library/Jupyter/nbextensions/code_prettify/kernel_exec_on_cell.js\n",
      "\u001b[32m[I 17:52:45 InstallContribNbextensionsApp]\u001b[m Copying: /Users/juliaprozorova/opt/anaconda3/lib/python3.9/site-packages/jupyter_contrib_nbextensions/nbextensions/code_prettify/demo-jv.gif -> /Users/juliaprozorova/Library/Jupyter/nbextensions/code_prettify/demo-jv.gif\n",
      "\u001b[32m[I 17:52:45 InstallContribNbextensionsApp]\u001b[m Copying: /Users/juliaprozorova/opt/anaconda3/lib/python3.9/site-packages/jupyter_contrib_nbextensions/nbextensions/code_prettify/README_2to3.md -> /Users/juliaprozorova/Library/Jupyter/nbextensions/code_prettify/README_2to3.md\n",
      "\u001b[32m[I 17:52:45 InstallContribNbextensionsApp]\u001b[m Copying: /Users/juliaprozorova/opt/anaconda3/lib/python3.9/site-packages/jupyter_contrib_nbextensions/nbextensions/code_prettify/2to3.yaml -> /Users/juliaprozorova/Library/Jupyter/nbextensions/code_prettify/2to3.yaml\n",
      "\u001b[32m[I 17:52:45 InstallContribNbextensionsApp]\u001b[m Copying: /Users/juliaprozorova/opt/anaconda3/lib/python3.9/site-packages/jupyter_contrib_nbextensions/nbextensions/code_prettify/README_autopep8.md -> /Users/juliaprozorova/Library/Jupyter/nbextensions/code_prettify/README_autopep8.md\n",
      "\u001b[32m[I 17:52:45 InstallContribNbextensionsApp]\u001b[m Copying: /Users/juliaprozorova/opt/anaconda3/lib/python3.9/site-packages/jupyter_contrib_nbextensions/nbextensions/code_prettify/demo_2to3.gif -> /Users/juliaprozorova/Library/Jupyter/nbextensions/code_prettify/demo_2to3.gif\n",
      "\u001b[32m[I 17:52:45 InstallContribNbextensionsApp]\u001b[m Copying: /Users/juliaprozorova/opt/anaconda3/lib/python3.9/site-packages/jupyter_contrib_nbextensions/nbextensions/code_prettify/README_isort.md -> /Users/juliaprozorova/Library/Jupyter/nbextensions/code_prettify/README_isort.md\n",
      "\u001b[32m[I 17:52:45 InstallContribNbextensionsApp]\u001b[m Copying: /Users/juliaprozorova/opt/anaconda3/lib/python3.9/site-packages/jupyter_contrib_nbextensions/nbextensions/code_prettify/README_code_prettify.md -> /Users/juliaprozorova/Library/Jupyter/nbextensions/code_prettify/README_code_prettify.md\n",
      "\u001b[32m[I 17:52:45 InstallContribNbextensionsApp]\u001b[m Copying: /Users/juliaprozorova/opt/anaconda3/lib/python3.9/site-packages/jupyter_contrib_nbextensions/nbextensions/code_prettify/README.md -> /Users/juliaprozorova/Library/Jupyter/nbextensions/code_prettify/README.md\n",
      "\u001b[32m[I 17:52:45 InstallContribNbextensionsApp]\u001b[m Copying: /Users/juliaprozorova/opt/anaconda3/lib/python3.9/site-packages/jupyter_contrib_nbextensions/nbextensions/code_prettify/code_prettify.js -> /Users/juliaprozorova/Library/Jupyter/nbextensions/code_prettify/code_prettify.js\n",
      "\u001b[32m[I 17:52:45 InstallContribNbextensionsApp]\u001b[m Copying: /Users/juliaprozorova/opt/anaconda3/lib/python3.9/site-packages/jupyter_contrib_nbextensions/nbextensions/code_prettify/autopep8.js -> /Users/juliaprozorova/Library/Jupyter/nbextensions/code_prettify/autopep8.js\n",
      "\u001b[32m[I 17:52:45 InstallContribNbextensionsApp]\u001b[m Copying: /Users/juliaprozorova/opt/anaconda3/lib/python3.9/site-packages/jupyter_contrib_nbextensions/nbextensions/code_prettify/demo-R.gif -> /Users/juliaprozorova/Library/Jupyter/nbextensions/code_prettify/demo-R.gif\n",
      "\u001b[32m[I 17:52:45 InstallContribNbextensionsApp]\u001b[m Copying: /Users/juliaprozorova/opt/anaconda3/lib/python3.9/site-packages/jupyter_contrib_nbextensions/nbextensions/code_prettify/isort.js -> /Users/juliaprozorova/Library/Jupyter/nbextensions/code_prettify/isort.js\n",
      "\u001b[32m[I 17:52:45 InstallContribNbextensionsApp]\u001b[m Copying: /Users/juliaprozorova/opt/anaconda3/lib/python3.9/site-packages/jupyter_contrib_nbextensions/nbextensions/code_prettify/code_prettify.yaml -> /Users/juliaprozorova/Library/Jupyter/nbextensions/code_prettify/code_prettify.yaml\n",
      "\u001b[32m[I 17:52:45 InstallContribNbextensionsApp]\u001b[m Copying: /Users/juliaprozorova/opt/anaconda3/lib/python3.9/site-packages/jupyter_contrib_nbextensions/nbextensions/code_prettify/2to3.js -> /Users/juliaprozorova/Library/Jupyter/nbextensions/code_prettify/2to3.js\n",
      "\u001b[32m[I 17:52:45 InstallContribNbextensionsApp]\u001b[m Copying: /Users/juliaprozorova/opt/anaconda3/lib/python3.9/site-packages/jupyter_contrib_nbextensions/nbextensions/code_prettify/autopep8.yaml -> /Users/juliaprozorova/Library/Jupyter/nbextensions/code_prettify/autopep8.yaml\n",
      "\u001b[32m[I 17:52:45 InstallContribNbextensionsApp]\u001b[m Copying: /Users/juliaprozorova/opt/anaconda3/lib/python3.9/site-packages/jupyter_contrib_nbextensions/nbextensions/code_prettify/isort.yaml -> /Users/juliaprozorova/Library/Jupyter/nbextensions/code_prettify/isort.yaml\n",
      "\u001b[32m[I 17:52:45 InstallContribNbextensionsApp]\u001b[m - Validating: \u001b[32mOK\u001b[0m\n",
      "\u001b[32m[I 17:52:45 InstallContribNbextensionsApp]\u001b[m Installing /Users/juliaprozorova/opt/anaconda3/lib/python3.9/site-packages/jupyter_contrib_nbextensions/nbextensions/code_prettify -> code_prettify\n",
      "\u001b[32m[I 17:52:45 InstallContribNbextensionsApp]\u001b[m Up to date: /Users/juliaprozorova/Library/Jupyter/nbextensions/code_prettify/demo-py.gif\n",
      "\u001b[32m[I 17:52:45 InstallContribNbextensionsApp]\u001b[m Up to date: /Users/juliaprozorova/Library/Jupyter/nbextensions/code_prettify/kernel_exec_on_cell.js\n",
      "\u001b[32m[I 17:52:45 InstallContribNbextensionsApp]\u001b[m Up to date: /Users/juliaprozorova/Library/Jupyter/nbextensions/code_prettify/demo-jv.gif\n",
      "\u001b[32m[I 17:52:45 InstallContribNbextensionsApp]\u001b[m Up to date: /Users/juliaprozorova/Library/Jupyter/nbextensions/code_prettify/README_2to3.md\n",
      "\u001b[32m[I 17:52:45 InstallContribNbextensionsApp]\u001b[m Up to date: /Users/juliaprozorova/Library/Jupyter/nbextensions/code_prettify/2to3.yaml\n",
      "\u001b[32m[I 17:52:45 InstallContribNbextensionsApp]\u001b[m Up to date: /Users/juliaprozorova/Library/Jupyter/nbextensions/code_prettify/README_autopep8.md\n",
      "\u001b[32m[I 17:52:45 InstallContribNbextensionsApp]\u001b[m Up to date: /Users/juliaprozorova/Library/Jupyter/nbextensions/code_prettify/demo_2to3.gif\n",
      "\u001b[32m[I 17:52:45 InstallContribNbextensionsApp]\u001b[m Up to date: /Users/juliaprozorova/Library/Jupyter/nbextensions/code_prettify/README_isort.md\n",
      "\u001b[32m[I 17:52:45 InstallContribNbextensionsApp]\u001b[m Up to date: /Users/juliaprozorova/Library/Jupyter/nbextensions/code_prettify/README_code_prettify.md\n",
      "\u001b[32m[I 17:52:45 InstallContribNbextensionsApp]\u001b[m Up to date: /Users/juliaprozorova/Library/Jupyter/nbextensions/code_prettify/README.md\n",
      "\u001b[32m[I 17:52:45 InstallContribNbextensionsApp]\u001b[m Up to date: /Users/juliaprozorova/Library/Jupyter/nbextensions/code_prettify/code_prettify.js\n",
      "\u001b[32m[I 17:52:45 InstallContribNbextensionsApp]\u001b[m Up to date: /Users/juliaprozorova/Library/Jupyter/nbextensions/code_prettify/autopep8.js\n",
      "\u001b[32m[I 17:52:45 InstallContribNbextensionsApp]\u001b[m Up to date: /Users/juliaprozorova/Library/Jupyter/nbextensions/code_prettify/demo-R.gif\n",
      "\u001b[32m[I 17:52:45 InstallContribNbextensionsApp]\u001b[m Up to date: /Users/juliaprozorova/Library/Jupyter/nbextensions/code_prettify/isort.js\n",
      "\u001b[32m[I 17:52:45 InstallContribNbextensionsApp]\u001b[m Up to date: /Users/juliaprozorova/Library/Jupyter/nbextensions/code_prettify/code_prettify.yaml\n",
      "\u001b[32m[I 17:52:45 InstallContribNbextensionsApp]\u001b[m Up to date: /Users/juliaprozorova/Library/Jupyter/nbextensions/code_prettify/2to3.js\n",
      "\u001b[32m[I 17:52:45 InstallContribNbextensionsApp]\u001b[m Up to date: /Users/juliaprozorova/Library/Jupyter/nbextensions/code_prettify/autopep8.yaml\n",
      "\u001b[32m[I 17:52:45 InstallContribNbextensionsApp]\u001b[m Up to date: /Users/juliaprozorova/Library/Jupyter/nbextensions/code_prettify/isort.yaml\n",
      "\u001b[32m[I 17:52:45 InstallContribNbextensionsApp]\u001b[m - Validating: \u001b[32mOK\u001b[0m\n",
      "\u001b[32m[I 17:52:45 InstallContribNbextensionsApp]\u001b[m Installing /Users/juliaprozorova/opt/anaconda3/lib/python3.9/site-packages/jupyter_contrib_nbextensions/nbextensions/code_prettify -> code_prettify\n",
      "\u001b[32m[I 17:52:45 InstallContribNbextensionsApp]\u001b[m Up to date: /Users/juliaprozorova/Library/Jupyter/nbextensions/code_prettify/demo-py.gif\n",
      "\u001b[32m[I 17:52:45 InstallContribNbextensionsApp]\u001b[m Up to date: /Users/juliaprozorova/Library/Jupyter/nbextensions/code_prettify/kernel_exec_on_cell.js\n",
      "\u001b[32m[I 17:52:45 InstallContribNbextensionsApp]\u001b[m Up to date: /Users/juliaprozorova/Library/Jupyter/nbextensions/code_prettify/demo-jv.gif\n",
      "\u001b[32m[I 17:52:45 InstallContribNbextensionsApp]\u001b[m Up to date: /Users/juliaprozorova/Library/Jupyter/nbextensions/code_prettify/README_2to3.md\n",
      "\u001b[32m[I 17:52:45 InstallContribNbextensionsApp]\u001b[m Up to date: /Users/juliaprozorova/Library/Jupyter/nbextensions/code_prettify/2to3.yaml\n",
      "\u001b[32m[I 17:52:45 InstallContribNbextensionsApp]\u001b[m Up to date: /Users/juliaprozorova/Library/Jupyter/nbextensions/code_prettify/README_autopep8.md\n",
      "\u001b[32m[I 17:52:45 InstallContribNbextensionsApp]\u001b[m Up to date: /Users/juliaprozorova/Library/Jupyter/nbextensions/code_prettify/demo_2to3.gif\n",
      "\u001b[32m[I 17:52:45 InstallContribNbextensionsApp]\u001b[m Up to date: /Users/juliaprozorova/Library/Jupyter/nbextensions/code_prettify/README_isort.md\n",
      "\u001b[32m[I 17:52:45 InstallContribNbextensionsApp]\u001b[m Up to date: /Users/juliaprozorova/Library/Jupyter/nbextensions/code_prettify/README_code_prettify.md\n",
      "\u001b[32m[I 17:52:45 InstallContribNbextensionsApp]\u001b[m Up to date: /Users/juliaprozorova/Library/Jupyter/nbextensions/code_prettify/README.md\n",
      "\u001b[32m[I 17:52:45 InstallContribNbextensionsApp]\u001b[m Up to date: /Users/juliaprozorova/Library/Jupyter/nbextensions/code_prettify/code_prettify.js\n",
      "\u001b[32m[I 17:52:45 InstallContribNbextensionsApp]\u001b[m Up to date: /Users/juliaprozorova/Library/Jupyter/nbextensions/code_prettify/autopep8.js\n",
      "\u001b[32m[I 17:52:45 InstallContribNbextensionsApp]\u001b[m Up to date: /Users/juliaprozorova/Library/Jupyter/nbextensions/code_prettify/demo-R.gif\n",
      "\u001b[32m[I 17:52:45 InstallContribNbextensionsApp]\u001b[m Up to date: /Users/juliaprozorova/Library/Jupyter/nbextensions/code_prettify/isort.js\n",
      "\u001b[32m[I 17:52:45 InstallContribNbextensionsApp]\u001b[m Up to date: /Users/juliaprozorova/Library/Jupyter/nbextensions/code_prettify/code_prettify.yaml\n",
      "\u001b[32m[I 17:52:45 InstallContribNbextensionsApp]\u001b[m Up to date: /Users/juliaprozorova/Library/Jupyter/nbextensions/code_prettify/2to3.js\n",
      "\u001b[32m[I 17:52:45 InstallContribNbextensionsApp]\u001b[m Up to date: /Users/juliaprozorova/Library/Jupyter/nbextensions/code_prettify/autopep8.yaml\n",
      "\u001b[32m[I 17:52:45 InstallContribNbextensionsApp]\u001b[m Up to date: /Users/juliaprozorova/Library/Jupyter/nbextensions/code_prettify/isort.yaml\n",
      "\u001b[32m[I 17:52:45 InstallContribNbextensionsApp]\u001b[m - Validating: \u001b[32mOK\u001b[0m\n",
      "\u001b[32m[I 17:52:45 InstallContribNbextensionsApp]\u001b[m Installing /Users/juliaprozorova/opt/anaconda3/lib/python3.9/site-packages/jupyter_contrib_nbextensions/nbextensions/code_prettify -> code_prettify\n",
      "\u001b[32m[I 17:52:45 InstallContribNbextensionsApp]\u001b[m Up to date: /Users/juliaprozorova/Library/Jupyter/nbextensions/code_prettify/demo-py.gif\n",
      "\u001b[32m[I 17:52:45 InstallContribNbextensionsApp]\u001b[m Up to date: /Users/juliaprozorova/Library/Jupyter/nbextensions/code_prettify/kernel_exec_on_cell.js\n",
      "\u001b[32m[I 17:52:45 InstallContribNbextensionsApp]\u001b[m Up to date: /Users/juliaprozorova/Library/Jupyter/nbextensions/code_prettify/demo-jv.gif\n"
     ]
    },
    {
     "name": "stdout",
     "output_type": "stream",
     "text": [
      "\u001b[32m[I 17:52:45 InstallContribNbextensionsApp]\u001b[m Up to date: /Users/juliaprozorova/Library/Jupyter/nbextensions/code_prettify/README_2to3.md\n",
      "\u001b[32m[I 17:52:45 InstallContribNbextensionsApp]\u001b[m Up to date: /Users/juliaprozorova/Library/Jupyter/nbextensions/code_prettify/2to3.yaml\n",
      "\u001b[32m[I 17:52:45 InstallContribNbextensionsApp]\u001b[m Up to date: /Users/juliaprozorova/Library/Jupyter/nbextensions/code_prettify/README_autopep8.md\n",
      "\u001b[32m[I 17:52:45 InstallContribNbextensionsApp]\u001b[m Up to date: /Users/juliaprozorova/Library/Jupyter/nbextensions/code_prettify/demo_2to3.gif\n",
      "\u001b[32m[I 17:52:45 InstallContribNbextensionsApp]\u001b[m Up to date: /Users/juliaprozorova/Library/Jupyter/nbextensions/code_prettify/README_isort.md\n",
      "\u001b[32m[I 17:52:45 InstallContribNbextensionsApp]\u001b[m Up to date: /Users/juliaprozorova/Library/Jupyter/nbextensions/code_prettify/README_code_prettify.md\n",
      "\u001b[32m[I 17:52:45 InstallContribNbextensionsApp]\u001b[m Up to date: /Users/juliaprozorova/Library/Jupyter/nbextensions/code_prettify/README.md\n",
      "\u001b[32m[I 17:52:45 InstallContribNbextensionsApp]\u001b[m Up to date: /Users/juliaprozorova/Library/Jupyter/nbextensions/code_prettify/code_prettify.js\n",
      "\u001b[32m[I 17:52:45 InstallContribNbextensionsApp]\u001b[m Up to date: /Users/juliaprozorova/Library/Jupyter/nbextensions/code_prettify/autopep8.js\n",
      "\u001b[32m[I 17:52:45 InstallContribNbextensionsApp]\u001b[m Up to date: /Users/juliaprozorova/Library/Jupyter/nbextensions/code_prettify/demo-R.gif\n",
      "\u001b[32m[I 17:52:45 InstallContribNbextensionsApp]\u001b[m Up to date: /Users/juliaprozorova/Library/Jupyter/nbextensions/code_prettify/isort.js\n",
      "\u001b[32m[I 17:52:45 InstallContribNbextensionsApp]\u001b[m Up to date: /Users/juliaprozorova/Library/Jupyter/nbextensions/code_prettify/code_prettify.yaml\n",
      "\u001b[32m[I 17:52:45 InstallContribNbextensionsApp]\u001b[m Up to date: /Users/juliaprozorova/Library/Jupyter/nbextensions/code_prettify/2to3.js\n",
      "\u001b[32m[I 17:52:45 InstallContribNbextensionsApp]\u001b[m Up to date: /Users/juliaprozorova/Library/Jupyter/nbextensions/code_prettify/autopep8.yaml\n",
      "\u001b[32m[I 17:52:45 InstallContribNbextensionsApp]\u001b[m Up to date: /Users/juliaprozorova/Library/Jupyter/nbextensions/code_prettify/isort.yaml\n",
      "\u001b[32m[I 17:52:45 InstallContribNbextensionsApp]\u001b[m - Validating: \u001b[32mOK\u001b[0m\n",
      "\u001b[32m[I 17:52:45 InstallContribNbextensionsApp]\u001b[m Installing /Users/juliaprozorova/opt/anaconda3/lib/python3.9/site-packages/jupyter_contrib_nbextensions/nbextensions/load_tex_macros -> load_tex_macros\n",
      "\u001b[32m[I 17:52:45 InstallContribNbextensionsApp]\u001b[m Making directory: /Users/juliaprozorova/Library/Jupyter/nbextensions/load_tex_macros/\n",
      "\u001b[32m[I 17:52:45 InstallContribNbextensionsApp]\u001b[m Copying: /Users/juliaprozorova/opt/anaconda3/lib/python3.9/site-packages/jupyter_contrib_nbextensions/nbextensions/load_tex_macros/load_tex_macros.yaml -> /Users/juliaprozorova/Library/Jupyter/nbextensions/load_tex_macros/load_tex_macros.yaml\n",
      "\u001b[32m[I 17:52:45 InstallContribNbextensionsApp]\u001b[m Copying: /Users/juliaprozorova/opt/anaconda3/lib/python3.9/site-packages/jupyter_contrib_nbextensions/nbextensions/load_tex_macros/icon.png -> /Users/juliaprozorova/Library/Jupyter/nbextensions/load_tex_macros/icon.png\n",
      "\u001b[32m[I 17:52:45 InstallContribNbextensionsApp]\u001b[m Copying: /Users/juliaprozorova/opt/anaconda3/lib/python3.9/site-packages/jupyter_contrib_nbextensions/nbextensions/load_tex_macros/readme.md -> /Users/juliaprozorova/Library/Jupyter/nbextensions/load_tex_macros/readme.md\n",
      "\u001b[32m[I 17:52:45 InstallContribNbextensionsApp]\u001b[m Copying: /Users/juliaprozorova/opt/anaconda3/lib/python3.9/site-packages/jupyter_contrib_nbextensions/nbextensions/load_tex_macros/main.js -> /Users/juliaprozorova/Library/Jupyter/nbextensions/load_tex_macros/main.js\n",
      "\u001b[32m[I 17:52:45 InstallContribNbextensionsApp]\u001b[m - Validating: \u001b[32mOK\u001b[0m\n",
      "\u001b[32m[I 17:52:45 InstallContribNbextensionsApp]\u001b[m Installing /Users/juliaprozorova/opt/anaconda3/lib/python3.9/site-packages/jupyter_contrib_nbextensions/nbextensions/hide_header -> hide_header\n",
      "\u001b[32m[I 17:52:45 InstallContribNbextensionsApp]\u001b[m Making directory: /Users/juliaprozorova/Library/Jupyter/nbextensions/hide_header/\n",
      "\u001b[32m[I 17:52:45 InstallContribNbextensionsApp]\u001b[m Copying: /Users/juliaprozorova/opt/anaconda3/lib/python3.9/site-packages/jupyter_contrib_nbextensions/nbextensions/hide_header/hide_header.yaml -> /Users/juliaprozorova/Library/Jupyter/nbextensions/hide_header/hide_header.yaml\n",
      "\u001b[32m[I 17:52:45 InstallContribNbextensionsApp]\u001b[m Copying: /Users/juliaprozorova/opt/anaconda3/lib/python3.9/site-packages/jupyter_contrib_nbextensions/nbextensions/hide_header/README.md -> /Users/juliaprozorova/Library/Jupyter/nbextensions/hide_header/README.md\n",
      "\u001b[32m[I 17:52:45 InstallContribNbextensionsApp]\u001b[m Copying: /Users/juliaprozorova/opt/anaconda3/lib/python3.9/site-packages/jupyter_contrib_nbextensions/nbextensions/hide_header/main.js -> /Users/juliaprozorova/Library/Jupyter/nbextensions/hide_header/main.js\n",
      "\u001b[32m[I 17:52:45 InstallContribNbextensionsApp]\u001b[m - Validating: \u001b[32mOK\u001b[0m\n",
      "\u001b[32m[I 17:52:45 InstallContribNbextensionsApp]\u001b[m Installing /Users/juliaprozorova/opt/anaconda3/lib/python3.9/site-packages/jupyter_highlight_selected_word/static/highlight_selected_word -> highlight_selected_word\n",
      "\u001b[32m[I 17:52:45 InstallContribNbextensionsApp]\u001b[m Making directory: /Users/juliaprozorova/Library/Jupyter/nbextensions/highlight_selected_word/\n",
      "\u001b[32m[I 17:52:45 InstallContribNbextensionsApp]\u001b[m Copying: /Users/juliaprozorova/opt/anaconda3/lib/python3.9/site-packages/jupyter_highlight_selected_word/static/highlight_selected_word/configurator.yaml -> /Users/juliaprozorova/Library/Jupyter/nbextensions/highlight_selected_word/configurator.yaml\n",
      "\u001b[32m[I 17:52:45 InstallContribNbextensionsApp]\u001b[m Copying: /Users/juliaprozorova/opt/anaconda3/lib/python3.9/site-packages/jupyter_highlight_selected_word/static/highlight_selected_word/README.md -> /Users/juliaprozorova/Library/Jupyter/nbextensions/highlight_selected_word/README.md\n",
      "\u001b[32m[I 17:52:45 InstallContribNbextensionsApp]\u001b[m Copying: /Users/juliaprozorova/opt/anaconda3/lib/python3.9/site-packages/jupyter_highlight_selected_word/static/highlight_selected_word/main.js -> /Users/juliaprozorova/Library/Jupyter/nbextensions/highlight_selected_word/main.js\n",
      "\u001b[32m[I 17:52:45 InstallContribNbextensionsApp]\u001b[m - Validating: \u001b[32mOK\u001b[0m\n",
      "\u001b[32m[I 17:52:45 InstallContribNbextensionsApp]\u001b[m Installing /Users/juliaprozorova/opt/anaconda3/lib/python3.9/site-packages/latex_envs/static -> latex_envs\n",
      "\u001b[32m[I 17:52:45 InstallContribNbextensionsApp]\u001b[m Making directory: /Users/juliaprozorova/Library/Jupyter/nbextensions/latex_envs/\n",
      "\u001b[32m[I 17:52:45 InstallContribNbextensionsApp]\u001b[m Copying: /Users/juliaprozorova/opt/anaconda3/lib/python3.9/site-packages/latex_envs/static/icon.png -> /Users/juliaprozorova/Library/Jupyter/nbextensions/latex_envs/icon.png\n",
      "\u001b[32m[I 17:52:45 InstallContribNbextensionsApp]\u001b[m Copying: /Users/juliaprozorova/opt/anaconda3/lib/python3.9/site-packages/latex_envs/static/latex_envs.yaml -> /Users/juliaprozorova/Library/Jupyter/nbextensions/latex_envs/latex_envs.yaml\n",
      "\u001b[32m[I 17:52:45 InstallContribNbextensionsApp]\u001b[m Copying: /Users/juliaprozorova/opt/anaconda3/lib/python3.9/site-packages/latex_envs/static/configuration_toolbar.png -> /Users/juliaprozorova/Library/Jupyter/nbextensions/latex_envs/configuration_toolbar.png\n",
      "\u001b[32m[I 17:52:45 InstallContribNbextensionsApp]\u001b[m Copying: /Users/juliaprozorova/opt/anaconda3/lib/python3.9/site-packages/latex_envs/static/bibInNb4.js -> /Users/juliaprozorova/Library/Jupyter/nbextensions/latex_envs/bibInNb4.js\n",
      "\u001b[32m[I 17:52:45 InstallContribNbextensionsApp]\u001b[m Copying: /Users/juliaprozorova/opt/anaconda3/lib/python3.9/site-packages/latex_envs/static/example_user_envs.json -> /Users/juliaprozorova/Library/Jupyter/nbextensions/latex_envs/example_user_envs.json\n",
      "\u001b[32m[I 17:52:45 InstallContribNbextensionsApp]\u001b[m Copying: /Users/juliaprozorova/opt/anaconda3/lib/python3.9/site-packages/latex_envs/static/envsLatex.js -> /Users/juliaprozorova/Library/Jupyter/nbextensions/latex_envs/envsLatex.js\n",
      "\u001b[32m[I 17:52:45 InstallContribNbextensionsApp]\u001b[m Copying: /Users/juliaprozorova/opt/anaconda3/lib/python3.9/site-packages/latex_envs/static/main_toolbar.png -> /Users/juliaprozorova/Library/Jupyter/nbextensions/latex_envs/main_toolbar.png\n",
      "\u001b[32m[I 17:52:45 InstallContribNbextensionsApp]\u001b[m Copying: /Users/juliaprozorova/opt/anaconda3/lib/python3.9/site-packages/latex_envs/static/envsLatex.json -> /Users/juliaprozorova/Library/Jupyter/nbextensions/latex_envs/envsLatex.json\n",
      "\u001b[32m[I 17:52:45 InstallContribNbextensionsApp]\u001b[m Copying: /Users/juliaprozorova/opt/anaconda3/lib/python3.9/site-packages/latex_envs/static/README.md -> /Users/juliaprozorova/Library/Jupyter/nbextensions/latex_envs/README.md\n",
      "\u001b[32m[I 17:52:45 InstallContribNbextensionsApp]\u001b[m Copying: /Users/juliaprozorova/opt/anaconda3/lib/python3.9/site-packages/latex_envs/static/thmsInNb4.js -> /Users/juliaprozorova/Library/Jupyter/nbextensions/latex_envs/thmsInNb4.js\n",
      "\u001b[32m[I 17:52:45 InstallContribNbextensionsApp]\u001b[m Copying: /Users/juliaprozorova/opt/anaconda3/lib/python3.9/site-packages/latex_envs/static/initNb.js -> /Users/juliaprozorova/Library/Jupyter/nbextensions/latex_envs/initNb.js\n",
      "\u001b[32m[I 17:52:45 InstallContribNbextensionsApp]\u001b[m Copying: /Users/juliaprozorova/opt/anaconda3/lib/python3.9/site-packages/latex_envs/static/latex_envs.css -> /Users/juliaprozorova/Library/Jupyter/nbextensions/latex_envs/latex_envs.css\n",
      "\u001b[32m[I 17:52:45 InstallContribNbextensionsApp]\u001b[m Copying: /Users/juliaprozorova/opt/anaconda3/lib/python3.9/site-packages/latex_envs/static/latex_envs.js -> /Users/juliaprozorova/Library/Jupyter/nbextensions/latex_envs/latex_envs.js\n",
      "\u001b[32m[I 17:52:45 InstallContribNbextensionsApp]\u001b[m Copying: /Users/juliaprozorova/opt/anaconda3/lib/python3.9/site-packages/latex_envs/static/bibtex2.js -> /Users/juliaprozorova/Library/Jupyter/nbextensions/latex_envs/bibtex2.js\n",
      "\u001b[32m[I 17:52:45 InstallContribNbextensionsApp]\u001b[m Copying: /Users/juliaprozorova/opt/anaconda3/lib/python3.9/site-packages/latex_envs/static/example.png -> /Users/juliaprozorova/Library/Jupyter/nbextensions/latex_envs/example.png\n",
      "\u001b[32m[I 17:52:45 InstallContribNbextensionsApp]\u001b[m Making directory: /Users/juliaprozorova/Library/Jupyter/nbextensions/latex_envs/doc\n"
     ]
    },
    {
     "name": "stdout",
     "output_type": "stream",
     "text": [
      "\u001b[32m[I 17:52:45 InstallContribNbextensionsApp]\u001b[m Copying: /Users/juliaprozorova/opt/anaconda3/lib/python3.9/site-packages/latex_envs/static/doc/IEEEtran.bst -> /Users/juliaprozorova/Library/Jupyter/nbextensions/latex_envs/doc/IEEEtran.bst\n",
      "\u001b[32m[I 17:52:45 InstallContribNbextensionsApp]\u001b[m Copying: /Users/juliaprozorova/opt/anaconda3/lib/python3.9/site-packages/latex_envs/static/doc/documentation.pdf -> /Users/juliaprozorova/Library/Jupyter/nbextensions/latex_envs/doc/documentation.pdf\n",
      "\u001b[32m[I 17:52:45 InstallContribNbextensionsApp]\u001b[m Copying: /Users/juliaprozorova/opt/anaconda3/lib/python3.9/site-packages/latex_envs/static/doc/configuration_toolbar.png -> /Users/juliaprozorova/Library/Jupyter/nbextensions/latex_envs/doc/configuration_toolbar.png\n",
      "\u001b[32m[I 17:52:45 InstallContribNbextensionsApp]\u001b[m Copying: /Users/juliaprozorova/opt/anaconda3/lib/python3.9/site-packages/latex_envs/static/doc/biblio_ipython.bib -> /Users/juliaprozorova/Library/Jupyter/nbextensions/latex_envs/doc/biblio_ipython.bib\n",
      "\u001b[32m[I 17:52:45 InstallContribNbextensionsApp]\u001b[m Copying: /Users/juliaprozorova/opt/anaconda3/lib/python3.9/site-packages/latex_envs/static/doc/config_toolbar.png -> /Users/juliaprozorova/Library/Jupyter/nbextensions/latex_envs/doc/config_toolbar.png\n",
      "\u001b[32m[I 17:52:45 InstallContribNbextensionsApp]\u001b[m Copying: /Users/juliaprozorova/opt/anaconda3/lib/python3.9/site-packages/latex_envs/static/doc/documentation.tex -> /Users/juliaprozorova/Library/Jupyter/nbextensions/latex_envs/doc/documentation.tex\n",
      "\u001b[32m[I 17:52:45 InstallContribNbextensionsApp]\u001b[m Copying: /Users/juliaprozorova/opt/anaconda3/lib/python3.9/site-packages/latex_envs/static/doc/main_toolbar.png -> /Users/juliaprozorova/Library/Jupyter/nbextensions/latex_envs/doc/main_toolbar.png\n",
      "\u001b[32m[I 17:52:45 InstallContribNbextensionsApp]\u001b[m Copying: /Users/juliaprozorova/opt/anaconda3/lib/python3.9/site-packages/latex_envs/static/doc/README.md -> /Users/juliaprozorova/Library/Jupyter/nbextensions/latex_envs/doc/README.md\n",
      "\u001b[32m[I 17:52:45 InstallContribNbextensionsApp]\u001b[m Copying: /Users/juliaprozorova/opt/anaconda3/lib/python3.9/site-packages/latex_envs/static/doc/latex_env_doc.ipynb -> /Users/juliaprozorova/Library/Jupyter/nbextensions/latex_envs/doc/latex_env_doc.ipynb\n",
      "\u001b[32m[I 17:52:45 InstallContribNbextensionsApp]\u001b[m Copying: /Users/juliaprozorova/opt/anaconda3/lib/python3.9/site-packages/latex_envs/static/doc/LaTeX_envs_menu.png -> /Users/juliaprozorova/Library/Jupyter/nbextensions/latex_envs/doc/LaTeX_envs_menu.png\n",
      "\u001b[32m[I 17:52:45 InstallContribNbextensionsApp]\u001b[m Copying: /Users/juliaprozorova/opt/anaconda3/lib/python3.9/site-packages/latex_envs/static/doc/latex_env_doc.tex -> /Users/juliaprozorova/Library/Jupyter/nbextensions/latex_envs/doc/latex_env_doc.tex\n",
      "\u001b[32m[I 17:52:45 InstallContribNbextensionsApp]\u001b[m Copying: /Users/juliaprozorova/opt/anaconda3/lib/python3.9/site-packages/latex_envs/static/doc/header.tex -> /Users/juliaprozorova/Library/Jupyter/nbextensions/latex_envs/doc/header.tex\n",
      "\u001b[32m[I 17:52:45 InstallContribNbextensionsApp]\u001b[m Copying: /Users/juliaprozorova/opt/anaconda3/lib/python3.9/site-packages/latex_envs/static/doc/Toggles.png -> /Users/juliaprozorova/Library/Jupyter/nbextensions/latex_envs/doc/Toggles.png\n",
      "\u001b[32m[I 17:52:45 InstallContribNbextensionsApp]\u001b[m Copying: /Users/juliaprozorova/opt/anaconda3/lib/python3.9/site-packages/latex_envs/static/doc/latex_env_doc.html -> /Users/juliaprozorova/Library/Jupyter/nbextensions/latex_envs/doc/latex_env_doc.html\n",
      "\u001b[32m[I 17:52:45 InstallContribNbextensionsApp]\u001b[m Copying: /Users/juliaprozorova/opt/anaconda3/lib/python3.9/site-packages/latex_envs/static/doc/example.png -> /Users/juliaprozorova/Library/Jupyter/nbextensions/latex_envs/doc/example.png\n",
      "\u001b[32m[I 17:52:45 InstallContribNbextensionsApp]\u001b[m Making directory: /Users/juliaprozorova/Library/Jupyter/nbextensions/latex_envs/doc/.ipynb_checkpoints\n",
      "\u001b[32m[I 17:52:45 InstallContribNbextensionsApp]\u001b[m Copying: /Users/juliaprozorova/opt/anaconda3/lib/python3.9/site-packages/latex_envs/static/doc/.ipynb_checkpoints/latex_env_doc-checkpoint.ipynb -> /Users/juliaprozorova/Library/Jupyter/nbextensions/latex_envs/doc/.ipynb_checkpoints/latex_env_doc-checkpoint.ipynb\n",
      "\u001b[32m[I 17:52:45 InstallContribNbextensionsApp]\u001b[m Making directory: /Users/juliaprozorova/Library/Jupyter/nbextensions/latex_envs/doc/latex_env_doc_files\n",
      "\u001b[32m[I 17:52:45 InstallContribNbextensionsApp]\u001b[m Copying: /Users/juliaprozorova/opt/anaconda3/lib/python3.9/site-packages/latex_envs/static/doc/latex_env_doc_files/latex_env_doc_51_0.png -> /Users/juliaprozorova/Library/Jupyter/nbextensions/latex_envs/doc/latex_env_doc_files/latex_env_doc_51_0.png\n",
      "\u001b[32m[I 17:52:45 InstallContribNbextensionsApp]\u001b[m Copying: /Users/juliaprozorova/opt/anaconda3/lib/python3.9/site-packages/latex_envs/static/doc/latex_env_doc_files/latex_env_doc_48_0.png -> /Users/juliaprozorova/Library/Jupyter/nbextensions/latex_envs/doc/latex_env_doc_files/latex_env_doc_48_0.png\n",
      "\u001b[32m[I 17:52:45 InstallContribNbextensionsApp]\u001b[m Copying: /Users/juliaprozorova/opt/anaconda3/lib/python3.9/site-packages/latex_envs/static/doc/latex_env_doc_files/latex_env_doc_50_0.png -> /Users/juliaprozorova/Library/Jupyter/nbextensions/latex_envs/doc/latex_env_doc_files/latex_env_doc_50_0.png\n",
      "\u001b[32m[I 17:52:45 InstallContribNbextensionsApp]\u001b[m Copying: /Users/juliaprozorova/opt/anaconda3/lib/python3.9/site-packages/latex_envs/static/doc/latex_env_doc_files/latex_env_doc_49_0.png -> /Users/juliaprozorova/Library/Jupyter/nbextensions/latex_envs/doc/latex_env_doc_files/latex_env_doc_49_0.png\n",
      "\u001b[32m[I 17:52:45 InstallContribNbextensionsApp]\u001b[m Copying: /Users/juliaprozorova/opt/anaconda3/lib/python3.9/site-packages/latex_envs/static/doc/latex_env_doc_files/latex_env_doc_52_0.png -> /Users/juliaprozorova/Library/Jupyter/nbextensions/latex_envs/doc/latex_env_doc_files/latex_env_doc_52_0.png\n",
      "\u001b[32m[I 17:52:45 InstallContribNbextensionsApp]\u001b[m Copying: /Users/juliaprozorova/opt/anaconda3/lib/python3.9/site-packages/latex_envs/static/doc/latex_env_doc_files/latex_env_doc_41_0.png -> /Users/juliaprozorova/Library/Jupyter/nbextensions/latex_envs/doc/latex_env_doc_files/latex_env_doc_41_0.png\n",
      "\u001b[32m[I 17:52:45 InstallContribNbextensionsApp]\u001b[m Copying: /Users/juliaprozorova/opt/anaconda3/lib/python3.9/site-packages/latex_envs/static/doc/latex_env_doc_files/latex_env_doc_43_0.png -> /Users/juliaprozorova/Library/Jupyter/nbextensions/latex_envs/doc/latex_env_doc_files/latex_env_doc_43_0.png\n",
      "\u001b[32m[I 17:52:45 InstallContribNbextensionsApp]\u001b[m Copying: /Users/juliaprozorova/opt/anaconda3/lib/python3.9/site-packages/latex_envs/static/doc/latex_env_doc_files/latex_env_doc_24_2.png -> /Users/juliaprozorova/Library/Jupyter/nbextensions/latex_envs/doc/latex_env_doc_files/latex_env_doc_24_2.png\n",
      "\u001b[32m[I 17:52:45 InstallContribNbextensionsApp]\u001b[m Copying: /Users/juliaprozorova/opt/anaconda3/lib/python3.9/site-packages/latex_envs/static/doc/latex_env_doc_files/latex_env_doc_47_0.png -> /Users/juliaprozorova/Library/Jupyter/nbextensions/latex_envs/doc/latex_env_doc_files/latex_env_doc_47_0.png\n",
      "\u001b[32m[I 17:52:45 InstallContribNbextensionsApp]\u001b[m Copying: /Users/juliaprozorova/opt/anaconda3/lib/python3.9/site-packages/latex_envs/static/doc/latex_env_doc_files/latex_env_doc_45_0.png -> /Users/juliaprozorova/Library/Jupyter/nbextensions/latex_envs/doc/latex_env_doc_files/latex_env_doc_45_0.png\n",
      "\u001b[32m[I 17:52:45 InstallContribNbextensionsApp]\u001b[m Copying: /Users/juliaprozorova/opt/anaconda3/lib/python3.9/site-packages/latex_envs/static/doc/latex_env_doc_files/latex_env_doc_26_2.png -> /Users/juliaprozorova/Library/Jupyter/nbextensions/latex_envs/doc/latex_env_doc_files/latex_env_doc_26_2.png\n",
      "\u001b[32m[I 17:52:45 InstallContribNbextensionsApp]\u001b[m Copying: /Users/juliaprozorova/opt/anaconda3/lib/python3.9/site-packages/latex_envs/static/doc/latex_env_doc_files/latex_env_doc_42_0.png -> /Users/juliaprozorova/Library/Jupyter/nbextensions/latex_envs/doc/latex_env_doc_files/latex_env_doc_42_0.png\n",
      "\u001b[32m[I 17:52:45 InstallContribNbextensionsApp]\u001b[m Copying: /Users/juliaprozorova/opt/anaconda3/lib/python3.9/site-packages/latex_envs/static/doc/latex_env_doc_files/latex_env_doc_23_2.png -> /Users/juliaprozorova/Library/Jupyter/nbextensions/latex_envs/doc/latex_env_doc_files/latex_env_doc_23_2.png\n",
      "\u001b[32m[I 17:52:45 InstallContribNbextensionsApp]\u001b[m Copying: /Users/juliaprozorova/opt/anaconda3/lib/python3.9/site-packages/latex_envs/static/doc/latex_env_doc_files/latex_env_doc_44_0.png -> /Users/juliaprozorova/Library/Jupyter/nbextensions/latex_envs/doc/latex_env_doc_files/latex_env_doc_44_0.png\n",
      "\u001b[32m[I 17:52:45 InstallContribNbextensionsApp]\u001b[m Copying: /Users/juliaprozorova/opt/anaconda3/lib/python3.9/site-packages/latex_envs/static/doc/latex_env_doc_files/latex_env_doc_27_2.png -> /Users/juliaprozorova/Library/Jupyter/nbextensions/latex_envs/doc/latex_env_doc_files/latex_env_doc_27_2.png\n",
      "\u001b[32m[I 17:52:45 InstallContribNbextensionsApp]\u001b[m Copying: /Users/juliaprozorova/opt/anaconda3/lib/python3.9/site-packages/latex_envs/static/doc/latex_env_doc_files/latex_env_doc_46_0.png -> /Users/juliaprozorova/Library/Jupyter/nbextensions/latex_envs/doc/latex_env_doc_files/latex_env_doc_46_0.png\n"
     ]
    },
    {
     "name": "stdout",
     "output_type": "stream",
     "text": [
      "\u001b[32m[I 17:52:45 InstallContribNbextensionsApp]\u001b[m - Validating: \u001b[32mOK\u001b[0m\n",
      "\u001b[32m[I 17:52:45 InstallContribNbextensionsApp]\u001b[m Installing jupyter_contrib_nbextensions items to config in /Users/juliaprozorova/.jupyter\n",
      "Enabling: jupyter_nbextensions_configurator\n",
      "- Writing config: /Users/juliaprozorova/.jupyter\n",
      "    - Validating...\n",
      "      jupyter_nbextensions_configurator 0.4.1 \u001b[32mOK\u001b[0m\n",
      "Enabling notebook nbextension nbextensions_configurator/config_menu/main...\n",
      "Enabling tree nbextension nbextensions_configurator/tree_tab/main...\n",
      "\u001b[32m[I 17:52:45 InstallContribNbextensionsApp]\u001b[m Enabling notebook extension contrib_nbextensions_help_item/main...\n",
      "\u001b[32m[I 17:52:45 InstallContribNbextensionsApp]\u001b[m       - Validating: \u001b[32mOK\u001b[0m\n",
      "\u001b[32m[I 17:52:45 InstallContribNbextensionsApp]\u001b[m - Editing config: /Users/juliaprozorova/.jupyter/jupyter_nbconvert_config.json\n",
      "\u001b[32m[I 17:52:45 InstallContribNbextensionsApp]\u001b[m --  Configuring nbconvert template path\n",
      "\u001b[32m[I 17:52:45 InstallContribNbextensionsApp]\u001b[m --  Configuring nbconvert preprocessors\n",
      "\u001b[32m[I 17:52:45 InstallContribNbextensionsApp]\u001b[m - Writing config: /Users/juliaprozorova/.jupyter/jupyter_nbconvert_config.json\n",
      "\u001b[32m[I 17:52:45 InstallContribNbextensionsApp]\u001b[m --  Writing updated config file /Users/juliaprozorova/.jupyter/jupyter_nbconvert_config.json\n"
     ]
    }
   ],
   "source": [
    "# get timestamps for execution time\n",
    "\n",
    "!pip install jupyter_contrib_nbextensions\n",
    "!jupyter contrib nbextension install --user"
   ]
  },
  {
   "cell_type": "code",
   "execution_count": 2,
   "id": "3ec043a0",
   "metadata": {
    "ExecuteTime": {
     "end_time": "2022-03-19T11:39:52.580181Z",
     "start_time": "2022-03-19T11:39:51.525006Z"
    }
   },
   "outputs": [
    {
     "name": "stdout",
     "output_type": "stream",
     "text": [
      "Enabling notebook extension execute_time/ExecuteTime...\r\n",
      "      - Validating: \u001b[32mOK\u001b[0m\r\n"
     ]
    }
   ],
   "source": [
    "!jupyter nbextension enable execute_time/ExecuteTime"
   ]
  },
  {
   "cell_type": "code",
   "execution_count": 3,
   "id": "c9652bc6",
   "metadata": {
    "ExecuteTime": {
     "end_time": "2022-03-19T11:52:43.270577Z",
     "start_time": "2022-03-19T11:52:43.262578Z"
    }
   },
   "outputs": [],
   "source": [
    "# Import \n",
    "\n",
    "import numpy as np\n",
    "import matplotlib.pyplot as plt\n",
    "import numpy.matlib\n",
    "import pandas as pd\n",
    "from degree_freedom_queen import *\n",
    "from degree_freedom_king1 import *\n",
    "from degree_freedom_king2 import *\n",
    "from generate_game import *\n",
    "from Chess_env import *\n",
    "import random\n",
    "\n",
    "\n",
    "size_board = 4\n",
    "## INITIALISE THE ENVIRONMENT\n",
    "\n",
    "env=Chess_Env(size_board)"
   ]
  },
  {
   "cell_type": "markdown",
   "id": "0bceca7c",
   "metadata": {},
   "source": [
    "## The Environment\n",
    "\n",
    "You can find the environment in the file Chess_env, which contains the class Chess_env. To define an object, you need to provide the board size considered as input. In our example, size_board=4. \n",
    "Chess_env is composed by the following methods:\n",
    "\n",
    "1. Initialise_game. The method initialises an episode by placing the three pieces considered (Agent's king and queen, enemy's king) in the chess board. The outputs of the method are described below in order.\n",
    "\n",
    "     S $\\;$ A matrix representing the board locations filled with 4 numbers: 0, no piece in that position; 1, location of the \n",
    "     agent's king; 2 location of the queen; 3 location of the enemy king.\n",
    "     \n",
    "     X $\\;$ The features, that is the input to the neural network. See the assignment for more information regarding the            definition of the features adopted. To personalise this, go into the Features method of the class Chess_env() and change        accordingly.\n",
    "     \n",
    "     allowed_a $\\;$ The allowed actions that the agent can make. The agent is moving a king, with a total number of 8                possible actions, and a queen, with a total number of $(board_{size}-1)\\times 8$ actions. The total number of possible actions correspond      to the sum of the two, but not all actions are allowed in a given position (movements to locations outside the borders or      against chess rules). Thus, the variable allowed_a is a vector that is one (zero) for an action that the agent can (can't)      make. Be careful, apply the policy considered on the actions that are allowed only.\n",
    "     \n",
    "\n",
    "2. OneStep. The method performs a one step update of the system. Given as input the action selected by the agent, it updates the chess board by performing that action and the response of the enemy king (which is a random allowed action in the settings considered). The first three outputs are the same as for the Initialise_game method, but the variables are computed for the position reached after the update of the system. The fourth and fifth outputs are:\n",
    "\n",
    "     R $\\;$ The reward. To change this, look at the OneStep method of the class where the rewards are set.\n",
    "     \n",
    "     Done $\\;$ A variable that is 1 if the episode has ended (checkmate or draw).\n",
    "     \n",
    "     \n",
    "3. Features. Given the chessboard position, the method computes the features.\n",
    "\n",
    "This information and a quick analysis of the class should be all you need to get going. The other functions that the class exploits are uncommented and constitute an example on how not to write a python code. You can take a look at them if you want, but it is not necessary.\n",
    "\n",
    "\n",
    "\n",
    "\n"
   ]
  },
  {
   "cell_type": "code",
   "execution_count": 7,
   "id": "086dc258",
   "metadata": {
    "ExecuteTime": {
     "end_time": "2022-03-19T11:52:51.986884Z",
     "start_time": "2022-03-19T11:52:51.965888Z"
    }
   },
   "outputs": [],
   "source": [
    "##  Define functions\n",
    "\n",
    "def EpsilonGreedy_Policy(Qvalues, epsilon, allowed_a):\n",
    "    \n",
    "    N_a=np.shape(Qvalues)[0]\n",
    "    a = list(range(0, N_a))\n",
    "    a = [i for idx, i in enumerate(a) if allowed_a[idx]]\n",
    "    Qvalues = [i for idx, i in enumerate(Qvalues) if allowed_a[idx]]\n",
    "\n",
    "    rand_value=np.random.uniform(0,1)\n",
    " ## epsilon is probability that we go random\n",
    "    rand_a=rand_value<epsilon\n",
    "\n",
    "    if rand_a==True:\n",
    "        \n",
    "        a = random.choice(a)\n",
    "\n",
    "    else:\n",
    "        idx=np.argmax(Qvalues)\n",
    "     \n",
    "        a = a[idx]\n",
    "            \n",
    "    return a\n",
    "\n",
    "\n",
    "def ComputeQvalues(W1, W2, bias_W1, bias_W2, X, hiddenactivfunction , outeractivfunction):\n",
    "    ## Qvalues=np.matmul(W2, np.matmul(W1,X)) ## this is direct computation of hidden layer and then output layer, without applying any non linear activation function\n",
    "    ## below is a better solution:\n",
    "    # Neural activation: input layer -> hidden layer\n",
    "    H1 = np.matmul(W1,X)+bias_W1 ## make sure that bias_W1 does not need to be transposed\n",
    "    # if hidden activ function is given:\n",
    "    if (hiddenactivfunction == 1):\n",
    "        H1 = np.round(1/(1+np.exp(-H1)), 5)\n",
    "        \n",
    "    Qvalues = np.matmul(W2,H1) + bias_W2\n",
    "    \n",
    "    #if outer activ function is given\n",
    "    if (outeractivfunction == 1):\n",
    "        Qvalues = np.round(1/(1+np.exp(- Qvalues)), 5)\n",
    "\n",
    "    return Qvalues\n"
   ]
  },
  {
   "cell_type": "code",
   "execution_count": 6,
   "id": "ece20429",
   "metadata": {
    "ExecuteTime": {
     "end_time": "2022-03-19T11:52:52.018884Z",
     "start_time": "2022-03-19T11:52:51.990885Z"
    }
   },
   "outputs": [],
   "source": [
    "# INITIALISE THE PARAMETERS OF YOUR NEURAL NETWORK AND...\n",
    "# PLEASE CONSIDER TO USE A MASK OF ONE FOR THE ACTION MADE AND ZERO OTHERWISE IF YOU ARE NOT USING VANILLA GRADIENT DESCENT...\n",
    "# WE SUGGEST A NETWORK WITH ONE HIDDEN LAYER WITH SIZE 200. \n",
    "\n",
    "S,X,allowed_a=env.Initialise_game()\n",
    "\n",
    "N_a=np.shape(allowed_a)[0]   # TOTAL NUMBER OF POSSIBLE ACTIONS\n",
    "N_in=np.shape(X)[0]          ## INPUT SIZE\n",
    "N_h=200                      ## NUMBER OF HIDDEN NODES\n",
    "\n",
    "## INITALISE YOUR NEURAL NETWORK... Here weights from input to hidden layer and from the hidden layer to output layer are initialized\n",
    "W1=np.random.uniform(0, 1,(N_h,N_in))/(N_h*N_in)\n",
    "W2=np.random.uniform(0, 1,(N_a,N_h))/(N_a*N_h)\n",
    "\n",
    "#W1 = np.divide(W1,np.matlib.repmat(np.sum(W1,1)[:,None],1,N_in))\n",
    "#W2 = np.divide(W2,np.matlib.repmat(np.sum(W2,1)[:,None],1,N_h))\n",
    "\n",
    "bias_W1 = np.zeros((N_h,))\n",
    "bias_W2 = np.zeros((N_a,))\n",
    "\n",
    "# HYPERPARAMETERS SUGGESTED (FOR A GRID SIZE OF 4)\n",
    "\n",
    "epsilon_0 = 0.2     # STARTING VALUE OF EPSILON FOR THE EPSILON-GREEDY POLICY 0.2\n",
    "beta = 0.00005      # THE PARAMETER SETS HOW QUICKLY THE VALUE OF EPSILON IS DECAYING (SEE epsilon_f BELOW) 0.00005\n",
    "gamma = 0.85        # THE DISCOUNT FACTOR 0.85\n",
    "eta = 0.0035        # THE LEARNING RATE 0.0035\n",
    "\n",
    "# REWARD SCHEME DEFAULT\n",
    "# Reward if episode is not ended: 0\n",
    "# Reward if checkmate: 1\n",
    "# Reward if draw: 0\n",
    "\n",
    "N_episodes = 500 # THE NUMBER OF GAMES TO BE PLAYED 100000\n",
    "\n",
    "hiddenactivfunction = 1\n",
    "outeractivfunction = 0\n",
    "\n",
    "# SAVING VARIABLES\n",
    "R_save = np.zeros([N_episodes, 1])\n",
    "N_moves_save = np.zeros([N_episodes, 1])\n",
    "Delta_save = np.zeros([N_episodes, 1])\n"
   ]
  },
  {
   "cell_type": "markdown",
   "id": "67c039b4",
   "metadata": {},
   "source": [
    "## Backpropagation Derivation for Sigmoid as the Activation Function\n",
    "\n",
    "f: sigmoid activation function\n",
    "\n",
    "E = 0.5(R-Q)^(2)\n",
    "\n",
    "Q = f(Y), where Y = W2H + B2\n",
    "\n",
    "H = f(Z), where Z = W1X + B1\n",
    "\n",
    "dE/dW2 = dEDQ * dQdY*dYdW2 = -(R-Q)*(Q)(1-Q)*H\n",
    "\n",
    "dE/dB2 = dEDQ * dQdY*dYdB2 = -(R-Q)*(Q)(1-Q)\n",
    "\n",
    "dE/dW1 = dEDQ * dQdY*dYdH * dHdZ * dZdW1 = -(R-Q)*(Q)(1-Q)*W2*(H)(1-H)* X\n",
    "\n",
    "dE/dB1 = dEDQ * dQdY*dYdH * dHdZ * dZdB1= -(R-Q)*(Q)(1-Q)*W2*(H)(1-H)"
   ]
  },
  {
   "cell_type": "markdown",
   "id": "daab4159",
   "metadata": {},
   "source": [
    "## SARSA"
   ]
  },
  {
   "cell_type": "code",
   "execution_count": 7,
   "id": "e6ba1f84",
   "metadata": {
    "ExecuteTime": {
     "end_time": "2022-03-19T14:13:07.250260Z",
     "start_time": "2022-03-19T11:52:52.022884Z"
    },
    "scrolled": false
   },
   "outputs": [],
   "source": [
    "for n in range(N_episodes):\n",
    "    S,X,allowed_a=env.Initialise_game()\n",
    "   \n",
    "    epsilon_f = epsilon_0 / (1 + beta * n)   ## DECAYING EPSILON\n",
    "    Done=0                                   ## SET DONE TO ZERO (BEGINNING OF THE EPISODE)\n",
    "    i = 1                                    ## COUNTER FOR NUMBER OF ACTIONS\n",
    "                               \n",
    "    Qvalues = ComputeQvalues(W1, W2, bias_W1, bias_W2, X, hiddenactivfunction , outeractivfunction)\n",
    "\n",
    "    a=EpsilonGreedy_Policy(Qvalues,epsilon_f, allowed_a)\n",
    "    \n",
    "    while (Done==0 and i<50):                           ## START THE EPISODE\n",
    "       \n",
    "        Qvalues = ComputeQvalues(W1, W2, bias_W1, bias_W2, X, hiddenactivfunction , outeractivfunction)\n",
    "       \n",
    "        S_next, X_next,allowed_a_next,R,Done=env.OneStep(a)\n",
    "       \n",
    "        \n",
    "        ## THE EPISODE HAS ENDED, UPDATE...BE CAREFUL, THIS IS THE LAST STEP OF THE EPISODE\n",
    "        if Done==1:\n",
    "            \n",
    "            R_save[n,]=np.copy(R)\n",
    "            N_moves_save[n,]=i\n",
    "            \n",
    "            dEdQ=R-Qvalues[a]\n",
    "           \n",
    "            Delta_save[n,] = 0.5*(dEdQ)*(dEdQ)\n",
    "            \n",
    "            ## update W2 and B2   \n",
    "            dQdY = 1  \n",
    "            if outeractivfunction == 1:\n",
    "                    dYdQ = Qvalues[a]*(1-Qvalues[a])\n",
    "                    \n",
    "          \n",
    "            H = np.matmul(W1,X) + bias_W1\n",
    "            if hiddenactivfunction == 1:\n",
    "                     H = np.round(1/(1+np.exp(-H)), 5)\n",
    "            dYdW = H\n",
    "    \n",
    "        \n",
    "            W2[a,:]=W2[a,:]+eta*dEdQ*dQdY*dYdW\n",
    "            bias_W2[a]=bias_W2[a]+eta*dEdQ*dQdY\n",
    "            \n",
    "            ## update W1 and B1 after W2 and B2 were updated\n",
    "        \n",
    "            if hiddenactivfunction == 1:\n",
    "                dYdZ =  (W2[a,:].reshape(1, 200) * H*(1-H).reshape(1, 200)).reshape(200,1)\n",
    "            else:\n",
    "                dYdZ =  W2[a,:].reshape(200, 1)\n",
    "        \n",
    "            dZDW = X.reshape(1, 58)        \n",
    "            W1[:,:]=W1[:,:]+ eta*dEdQ*dQdY*dYdZ*dZDW \n",
    "            bias_W1=bias_W1+ eta*dEdQ*dQdY*dYdZ.reshape(200,) \n",
    "            \n",
    "            break\n",
    "        \n",
    "        \n",
    "        # IF THE EPISODE IS NOT OVER...\n",
    "        else:\n",
    "            \n",
    "            Qvalues1=ComputeQvalues(W1, W2, bias_W1, bias_W2, X_next, hiddenactivfunction , outeractivfunction)\n",
    "\n",
    "            a1=EpsilonGreedy_Policy(Qvalues1,epsilon_f, allowed_a_next)\n",
    "\n",
    "            # Compute the delta\n",
    "            dEdQ=R+gamma*Qvalues1[a1]- Qvalues[a]\n",
    "         \n",
    "                  \n",
    "            ## update W2 and B2   \n",
    "            dQdY = 1  \n",
    "            if outeractivfunction == 1:\n",
    "                    dYdQ = Qvalues[a]*(1-Qvalues[a])\n",
    "                    \n",
    "          \n",
    "            H = np.matmul(W1,X) + bias_W1\n",
    "            if hiddenactivfunction == 1:\n",
    "                     H = np.round(1/(1+np.exp(-H)), 5)\n",
    "            dYdW = H\n",
    "          \n",
    "            W2[a,:]=   W2[a,:]+   eta*dEdQ*dQdY*dYdW\n",
    "            bias_W2[a]=bias_W2[a]+eta*dEdQ*dQdY\n",
    "            \n",
    "            ## update W1 and B1 after W2 and B2 were updated\n",
    "        \n",
    "            if hiddenactivfunction == 1:\n",
    "                dYdZ =  (W2[a,:].reshape(1, 200) * H*(1-H).reshape(1, 200)).reshape(200,1)\n",
    "            else:\n",
    "                dYdZ =  W2[a,:].reshape(200, 1)\n",
    "        \n",
    "            dZDW = X.reshape(1, 58)   \n",
    "            \n",
    "            W1[:,:]=W1[:,:]+ eta*dEdQ*dQdY*dYdZ*dZDW \n",
    "            bias_W1=bias_W1+ eta*dEdQ*dQdY*dYdZ.reshape(200,) \n",
    "           \n",
    "            \n",
    "        # NEXT STATE AND CO. BECOME ACTUAL STATE...     \n",
    "        S=np.copy(S_next)\n",
    "        X=np.copy(X_next)\n",
    "        a = np.copy(a1)\n",
    "\n",
    "        i += 1  # UPDATE COUNTER FOR NUMBER OF ACTIONS"
   ]
  },
  {
   "cell_type": "code",
   "execution_count": 8,
   "id": "2df4673f",
   "metadata": {
    "ExecuteTime": {
     "end_time": "2022-03-19T14:13:09.912029Z",
     "start_time": "2022-03-19T14:13:07.250260Z"
    }
   },
   "outputs": [
    {
     "data": {
      "image/png": "[encoded data removed]",
      "text/plain": [
       "<Figure size 432x288 with 1 Axes>"
      ]
     },
     "metadata": {
      "needs_background": "light"
     },
     "output_type": "display_data"
    },
    {
     "data": {
      "image/png": "[encoded data removed]",
      "text/plain": [
       "<Figure size 432x288 with 1 Axes>"
      ]
     },
     "metadata": {
      "needs_background": "light"
     },
     "output_type": "display_data"
    },
    {
     "data": {
      "image/png": "[encoded data removed]",
      "text/plain": [
       "<Figure size 432x288 with 1 Axes>"
      ]
     },
     "metadata": {
      "needs_background": "light"
     },
     "output_type": "display_data"
    }
   ],
   "source": [
    "# Plot the performance\n",
    "N_moves_save = pd.DataFrame(N_moves_save, columns = ['N_moves'])\n",
    "N_moves_save.to_csv('N_moves_SARSA.csv')\n",
    "N_moves_save['N_moves'] = N_moves_save['N_moves'].ewm(span=100, adjust=False).mean()\n",
    "\n",
    "plt.plot(N_moves_save['N_moves'])\n",
    "plt.xlabel('Episodes')\n",
    "plt.ylabel('Number of Steps until \"Done\"')\n",
    "plt.title('Average Number of Steps until \"Done\" per Episode')\n",
    "plt.show()\n",
    "\n",
    "\n",
    "R_save = pd.DataFrame(R_save, columns = ['R_save'])\n",
    "R_save.to_csv('R_save_SARSA.csv')\n",
    "R_save['R_save'] = R_save['R_save'].ewm(span=100, adjust=False).mean()\n",
    "\n",
    "\n",
    "plt.plot(R_save)\n",
    "plt.xlabel('Episodes')\n",
    "plt.ylabel('Reward')\n",
    "plt.title('Average Rewards per Episode')\n",
    "plt.show()\n",
    "\n",
    "\n",
    "Delta_save = pd.DataFrame(Delta_save, columns = ['Delta_save'])\n",
    "Delta_save.to_csv('Delta_save_SARSA.csv')\n",
    "Delta_save['Delta_save'] = Delta_save['Delta_save'].ewm(span=100, adjust=False).mean()\n",
    "\n",
    "\n",
    "plt.plot(Delta_save)\n",
    "plt.xlabel('Episodes')\n",
    "plt.ylabel('Error')\n",
    "plt.title('Average Loss')\n",
    "plt.show()"
   ]
  },
  {
   "cell_type": "markdown",
   "id": "5a38949e",
   "metadata": {},
   "source": [
    "This plot was generated with the following parameters:\n",
    "- epsilon_0 = 0.2     \n",
    "- beta = 0.00005      \n",
    "- gamma = 0.85        \n",
    "- eta = 0.0035\n",
    "\n",
    "Reward scheme:\n",
    "- Staying in the game: +1\n",
    "- Checkmate: +10\n",
    "- Draw: 0"
   ]
  },
  {
   "cell_type": "markdown",
   "id": "71c4b0c7",
   "metadata": {},
   "source": [
    "## Q-Learning"
   ]
  },
  {
   "cell_type": "code",
   "execution_count": 9,
   "id": "9f651780",
   "metadata": {
    "ExecuteTime": {
     "end_time": "2022-03-19T14:13:09.943281Z",
     "start_time": "2022-03-19T14:13:09.912029Z"
    }
   },
   "outputs": [],
   "source": [
    "size_board = 4\n",
    "env=Chess_Env(size_board)\n",
    "\n",
    "# INITIALISE THE PARAMETERS OF YOUR NEURAL NETWORK AND...\n",
    "# PLEASE CONSIDER TO USE A MASK OF ONE FOR THE ACTION MADE AND ZERO OTHERWISE IF YOU ARE NOT USING VANILLA GRADIENT DESCENT...\n",
    "# WE SUGGEST A NETWORK WITH ONE HIDDEN LAYER WITH SIZE 200. \n",
    "\n",
    "S,X,allowed_a=env.Initialise_game()\n",
    "\n",
    "N_a=np.shape(allowed_a)[0]   # TOTAL NUMBER OF POSSIBLE ACTIONS\n",
    "N_in=np.shape(X)[0]          ## INPUT SIZE\n",
    "N_h=200                      ## NUMBER OF HIDDEN NODES\n",
    "\n",
    "## INITALISE YOUR NEURAL NETWORK... Here weights from input to hidden layer and from the hidden layer to output layer are initialized\n",
    "W1=np.random.uniform(0, 1,(N_h,N_in))/(N_h*N_in)\n",
    "W2=np.random.uniform(0, 1,(N_a,N_h))/(N_a*N_h)\n",
    "\n",
    "#W1 = np.divide(W1,np.matlib.repmat(np.sum(W1,1)[:,None],1,N_in))\n",
    "#W2 = np.divide(W2,np.matlib.repmat(np.sum(W2,1)[:,None],1,N_h))\n",
    "\n",
    "bias_W1 = np.zeros((N_h,))\n",
    "bias_W2 = np.zeros((N_a,))\n",
    "\n",
    "# HYPERPARAMETERS SUGGESTED (FOR A GRID SIZE OF 4)\n",
    "\n",
    "epsilon_0 = 0.2     # STARTING VALUE OF EPSILON FOR THE EPSILON-GREEDY POLICY 0.2\n",
    "beta = 0.00005      # THE PARAMETER SETS HOW QUICKLY THE VALUE OF EPSILON IS DECAYING (SEE epsilon_f BELOW) 0.00005\n",
    "gamma = 0.85        # THE DISCOUNT FACTOR 0.85\n",
    "eta = 0.0035        # THE LEARNING RATE 0.0035\n",
    "\n",
    "# REWARD SCHEME DEFAULT\n",
    "# Reward if episode is not ended: 0\n",
    "# Reward if checkmate: 1\n",
    "# Reward if draw: 0\n",
    "\n",
    "N_episodes = 500 # THE NUMBER OF GAMES TO BE PLAYED 100000\n",
    "\n",
    "hiddenactivfunction = 1\n",
    "outeractivfunction = 0\n",
    "\n",
    "# SAVING VARIABLES\n",
    "R_save = np.zeros([N_episodes, 1])\n",
    "N_moves_save = np.zeros([N_episodes, 1])\n",
    "Delta_save = np.zeros([N_episodes, 1])"
   ]
  },
  {
   "cell_type": "code",
   "execution_count": 10,
   "id": "e3262704",
   "metadata": {
    "ExecuteTime": {
     "end_time": "2022-03-19T15:38:37.765458Z",
     "start_time": "2022-03-19T14:13:09.943281Z"
    }
   },
   "outputs": [],
   "source": [
    "for n in range(N_episodes):\n",
    "    S,X,allowed_a=env.Initialise_game()\n",
    "    epsilon_f = epsilon_0 / (1 + beta * n)   ## DECAYING EPSILON\n",
    "    Done=0                                   ## SET DONE TO ZERO (BEGINNING OF THE EPISODE)\n",
    "    i = 1                                    ## COUNTER FOR NUMBER OF ACTIONS\n",
    "    \n",
    "  \n",
    "    while (Done==0 and i<50):                           ## START THE EPISODE\n",
    "       \n",
    "        Qvalues = ComputeQvalues(W1, W2, bias_W1, bias_W2, X, hiddenactivfunction , outeractivfunction)\n",
    "        a=EpsilonGreedy_Policy(Qvalues,epsilon_f, allowed_a)\n",
    "        S_next, X_next,allowed_a_next,R,Done=env.OneStep(a)\n",
    "        \n",
    "        ## THE EPISODE HAS ENDED, UPDATE...BE CAREFUL, THIS IS THE LAST STEP OF THE EPISODE\n",
    "        if Done==1:\n",
    "            \n",
    "            R_save[n,]=np.copy(R)\n",
    "            N_moves_save[n,]=i\n",
    "            \n",
    "            \n",
    "            dEdQ=R-Qvalues[a]\n",
    "           \n",
    "            Delta_save[n,] = 0.5*(dEdQ)*(dEdQ)\n",
    "            \n",
    "            ## update W2 and B2   \n",
    "            dQdY = 1  \n",
    "            if outeractivfunction == 1:\n",
    "                    dYdQ = Qvalues[a]*(1-Qvalues[a])\n",
    "                    \n",
    "          \n",
    "            H = np.matmul(W1,X) + bias_W1\n",
    "            if hiddenactivfunction == 1:\n",
    "                     H = np.round(1/(1+np.exp(-H)), 5)\n",
    "            dYdW = H\n",
    "    \n",
    "        \n",
    "            W2[a,:]=W2[a,:]+eta*dEdQ*dQdY*dYdW\n",
    "            bias_W2[a]=bias_W2[a]+eta*dEdQ*dQdY\n",
    "            \n",
    "            \n",
    "             ## update W1 and B1 after W2 and B2 were updated\n",
    "        \n",
    "            if hiddenactivfunction == 1:\n",
    "                dYdZ =  (W2[a,:].reshape(1, 200) * H*(1-H).reshape(1, 200)).reshape(200,1)\n",
    "            else:\n",
    "                dYdZ =  W2[a,:].reshape(200, 1)\n",
    "        \n",
    "            dZDW = X.reshape(1, 58)        \n",
    "            W1[:,:]=W1[:,:]+ eta*dEdQ*dQdY*dYdZ*dZDW \n",
    "            bias_W1=bias_W1+ eta*dEdQ*dQdY*dYdZ.reshape(200,) \n",
    "            \n",
    "            break\n",
    "        \n",
    "        # IF THE EPISODE IS NOT OVER...\n",
    "        else:\n",
    "            \n",
    "            Qvalues1=ComputeQvalues(W1, W2, bias_W1, bias_W2, X_next, hiddenactivfunction , outeractivfunction)\n",
    "            a1=EpsilonGreedy_Policy(Qvalues1,0, allowed_a_next)\n",
    "\n",
    "            # Compute the delta\n",
    "            dEdQ=R+gamma*Qvalues1[a1]- Qvalues[a]\n",
    "         \n",
    "                  \n",
    "            ## update W2 and B2   \n",
    "            dQdY = 1  \n",
    "            if outeractivfunction == 1:\n",
    "                    dYdQ = Qvalues[a]*(1-Qvalues[a])\n",
    "                    \n",
    "          \n",
    "            H = np.matmul(W1,X) + bias_W1\n",
    "            if hiddenactivfunction == 1:\n",
    "                     H = np.round(1/(1+np.exp(-H)), 5)\n",
    "            dYdW = H\n",
    "\n",
    "            W2[a,:]=   W2[a,:]+   eta*dEdQ*dQdY*dYdW\n",
    "            bias_W2[a]=bias_W2[a]+eta*dEdQ*dQdY\n",
    "            \n",
    "            \n",
    "             ## update W1 and B1 after W2 and B2 were updated\n",
    "        \n",
    "            if hiddenactivfunction == 1:\n",
    "                dYdZ =  (W2[a,:].reshape(1, 200) * H*(1-H).reshape(1, 200)).reshape(200,1)\n",
    "            else:\n",
    "                dYdZ =  W2[a,:].reshape(200, 1)\n",
    "        \n",
    "            dZDW = X.reshape(1, 58)   \n",
    "            \n",
    "            W1[:,:]=W1[:,:]+ eta*dEdQ*dQdY*dYdZ*dZDW \n",
    "            bias_W1=bias_W1+ eta*dEdQ*dQdY*dYdZ.reshape(200,) \n",
    "            \n",
    "        # NEXT STATE AND CO. BECOME ACTUAL STATE...     \n",
    "        S=np.copy(S_next)\n",
    "        X=np.copy(X_next)\n",
    "        allowed_a = np.copy(allowed_a_next)\n",
    "       \n",
    "\n",
    "        i += 1  # UPDATE COUNTER FOR NUMBER OF ACTIONS\n",
    "\n"
   ]
  },
  {
   "cell_type": "code",
   "execution_count": 11,
   "id": "c2797cf8",
   "metadata": {
    "ExecuteTime": {
     "end_time": "2022-03-19T15:38:39.557690Z",
     "start_time": "2022-03-19T15:38:37.765458Z"
    }
   },
   "outputs": [
    {
     "data": {
      "image/png": "[encoded data removed]",
      "text/plain": [
       "<Figure size 432x288 with 1 Axes>"
      ]
     },
     "metadata": {
      "needs_background": "light"
     },
     "output_type": "display_data"
    },
    {
     "data": {
      "image/png": "[encoded data removed]",
      "text/plain": [
       "<Figure size 432x288 with 1 Axes>"
      ]
     },
     "metadata": {
      "needs_background": "light"
     },
     "output_type": "display_data"
    },
    {
     "data": {
      "image/png": "[encoded data removed]",
      "text/plain": [
       "<Figure size 432x288 with 1 Axes>"
      ]
     },
     "metadata": {
      "needs_background": "light"
     },
     "output_type": "display_data"
    }
   ],
   "source": [
    "# Plot the performance\n",
    "N_moves_save = pd.DataFrame(N_moves_save, columns = ['N_moves'])\n",
    "N_moves_save.to_csv('N_moves_QLearning.csv')\n",
    "N_moves_save['N_moves'] = N_moves_save['N_moves'].ewm(span=100, adjust=False).mean()\n",
    "\n",
    "\n",
    "plt.plot(N_moves_save['N_moves'])\n",
    "plt.xlabel('Episodes')\n",
    "plt.ylabel('Number of Steps until \"Done\"')\n",
    "plt.title('Average Number of Steps until \"Done\" per Episode')\n",
    "plt.show()\n",
    "\n",
    "R_save = pd.DataFrame(R_save, columns = ['R_save'])\n",
    "R_save.to_csv('R_save_QLearning.csv')\n",
    "R_save['R_save'] = R_save['R_save'].ewm(span=100, adjust=False).mean()\n",
    "\n",
    "plt.plot(R_save)\n",
    "plt.xlabel('Episodes')\n",
    "plt.ylabel('Reward')\n",
    "plt.title('Average Rewards per Episode')\n",
    "plt.show()\n",
    "\n",
    "\n",
    "Delta_save = pd.DataFrame(Delta_save, columns = ['Delta_save'])\n",
    "Delta_save.to_csv('Delta_save_QLearning.csv')\n",
    "Delta_save['Delta_save'] = Delta_save['Delta_save'].ewm(span=100, adjust=False).mean()\n",
    "\n",
    "plt.plot(Delta_save)\n",
    "plt.xlabel('Episodes')\n",
    "plt.ylabel('Error')\n",
    "plt.title('Average Loss')\n",
    "plt.show()"
   ]
  },
  {
   "cell_type": "markdown",
   "id": "5ef0b450",
   "metadata": {},
   "source": [
    "## Experience Replay (incremental)"
   ]
  },
  {
   "cell_type": "code",
   "execution_count": 12,
   "id": "f74972b8",
   "metadata": {
    "ExecuteTime": {
     "end_time": "2022-03-19T15:38:39.588948Z",
     "start_time": "2022-03-19T15:38:39.557690Z"
    }
   },
   "outputs": [],
   "source": [
    "size_board = 4\n",
    "env=Chess_Env(size_board)\n",
    "\n",
    "# INITIALISE THE PARAMETERS OF YOUR NEURAL NETWORK AND...\n",
    "# PLEASE CONSIDER TO USE A MASK OF ONE FOR THE ACTION MADE AND ZERO OTHERWISE IF YOU ARE NOT USING VANILLA GRADIENT DESCENT...\n",
    "# WE SUGGEST A NETWORK WITH ONE HIDDEN LAYER WITH SIZE 200. \n",
    "\n",
    "S,X,allowed_a=env.Initialise_game()\n",
    "\n",
    "N_a=np.shape(allowed_a)[0]   # TOTAL NUMBER OF POSSIBLE ACTIONS\n",
    "N_in=np.shape(X)[0]          ## INPUT SIZE\n",
    "N_h=200                      ## NUMBER OF HIDDEN NODES\n",
    "\n",
    "## INITALISE YOUR NEURAL NETWORK... Here weights from input to hidden layer and from the hidden layer to output layer are initialized\n",
    "W1=np.random.uniform(0, 1,(N_h,N_in))/(N_h*N_in)\n",
    "W2=np.random.uniform(0, 1,(N_a,N_h))/(N_a*N_h)\n",
    "\n",
    "#W1 = np.divide(W1,np.matlib.repmat(np.sum(W1,1)[:,None],1,N_in))\n",
    "#W2 = np.divide(W2,np.matlib.repmat(np.sum(W2,1)[:,None],1,N_h))\n",
    "\n",
    "bias_W1 = np.zeros((N_h,))\n",
    "bias_W2 = np.zeros((N_a,))\n",
    "\n",
    "# HYPERPARAMETERS SUGGESTED (FOR A GRID SIZE OF 4)\n",
    "\n",
    "epsilon_0 = 0.2     # STARTING VALUE OF EPSILON FOR THE EPSILON-GREEDY POLICY 0.2\n",
    "beta = 0.00005      # THE PARAMETER SETS HOW QUICKLY THE VALUE OF EPSILON IS DECAYING (SEE epsilon_f BELOW) 0.00005\n",
    "gamma = 0.85        # THE DISCOUNT FACTOR 0.85\n",
    "eta = 0.0035        # THE LEARNING RATE 0.0035\n",
    "\n",
    "# REWARD SCHEME DEFAULT\n",
    "# Reward if episode is not ended: 0\n",
    "# Reward if checkmate: 1\n",
    "# Reward if draw: 0\n",
    "\n",
    "N_episodes = 100000 # THE NUMBER OF GAMES TO BE PLAYED 100000\n",
    "\n",
    "hiddenactivfunction = 1\n",
    "outeractivfunction = 0\n",
    "\n",
    "# SAVING VARIABLES\n",
    "R_save = np.zeros([N_episodes, 1])\n",
    "N_moves_save = np.zeros([N_episodes, 1])\n",
    "Delta_save = np.zeros([N_episodes, 1])"
   ]
  },
  {
   "cell_type": "code",
   "execution_count": 13,
   "id": "82e0b54e",
   "metadata": {
    "ExecuteTime": {
     "end_time": "2022-03-19T17:11:28.807310Z",
     "start_time": "2022-03-19T15:38:39.588948Z"
    }
   },
   "outputs": [],
   "source": [
    "for n in range(N_episodes):\n",
    "    S,X,allowed_a=env.Initialise_game()\n",
    "    epsilon_f = epsilon_0 / (1 + beta * n)   ## DECAYING EPSILON\n",
    "    Done=0                                   ## SET DONE TO ZERO (BEGINNING OF THE EPISODE)\n",
    "    i = 1  ## COUNTER FOR NUMBER OF ACTIONS\n",
    "    d = {}\n",
    "    \n",
    "    \n",
    "    while (Done==0 and i<50):                           ## START THE EPISODE\n",
    "       \n",
    "        Qvalues = ComputeQvalues(W1, W2, bias_W1, bias_W2, X, hiddenactivfunction , outeractivfunction)\n",
    "        a=EpsilonGreedy_Policy(Qvalues,epsilon_f, allowed_a)\n",
    "        S_next, X_next,allowed_a_next,R,Done=env.OneStep(a)\n",
    "        dataToStore = (X,a,R,X_next,Done, allowed_a_next)\n",
    "        d[i] = dataToStore\n",
    "     \n",
    "        \n",
    "        if Done==1:\n",
    "\n",
    "            R_save[n,]=np.copy(R)\n",
    "            N_moves_save[n,]=i\n",
    "        \n",
    "            while i>0: \n",
    "                x = d[i][0]\n",
    "                a = d[i][1]\n",
    "                r = d[i][2] \n",
    "                next_x = d[i][3]\n",
    "                done = d[i][4]\n",
    "                allowed = d[i][5]\n",
    "                Qvalues=ComputeQvalues(W1, W2, bias_W1, bias_W2, x, hiddenactivfunction , outeractivfunction)\n",
    "            \n",
    "                if done:\n",
    "                    dEdQ=r-Qvalues[a]\n",
    "                else:\n",
    "                    Qvalues1=ComputeQvalues(W1, W2, bias_W1, bias_W2, next_x, hiddenactivfunction , outeractivfunction)\n",
    "                    a1=EpsilonGreedy_Policy(Qvalues1,0, allowed)\n",
    "                    dEdQ=R+gamma*Qvalues1[a1]- Qvalues[a]\n",
    "\n",
    "                Delta_save[n,]=0.5*(dEdQ)*(dEdQ)\n",
    "\n",
    "                ## update W2 and B2   \n",
    "                dQdY = 1  \n",
    "                if outeractivfunction == 1:\n",
    "                        dYdQ = Qvalues[a]*(1-Qvalues[a])\n",
    "\n",
    "\n",
    "                H = np.matmul(W1,x) + bias_W1\n",
    "                if hiddenactivfunction == 1:\n",
    "                         H = np.round(1/(1+np.exp(-H)), 5)\n",
    "                dYdW = H\n",
    "\n",
    "\n",
    "                W2[a,:]=W2[a,:]+eta*dEdQ*dQdY*dYdW\n",
    "                bias_W2[a]=bias_W2[a]+eta*dEdQ*dQdY\n",
    "\n",
    "\n",
    "                 ## update W1 and B1 after W2 and B2 were updated\n",
    "\n",
    "                if hiddenactivfunction == 1:\n",
    "                    dYdZ =  (W2[a,:].reshape(1, 200) * H*(1-H).reshape(1, 200)).reshape(200,1)\n",
    "                else:\n",
    "                    dYdZ =  W2[a,:].reshape(200, 1)\n",
    "\n",
    "                dZDW = x.reshape(1, 58)        \n",
    "                W1[:,:]=W1[:,:]+ eta*dEdQ*dQdY*dYdZ*dZDW \n",
    "                bias_W1=bias_W1+ eta*dEdQ*dQdY*dYdZ.reshape(200,)\n",
    "                i = i-1\n",
    "                break\n",
    "        \n",
    "        else:\n",
    "            \n",
    "            S=np.copy(S_next)\n",
    "            X=np.copy(X_next)\n",
    "            allowed_a = np.copy(allowed_a_next)\n",
    "            i = i+1\n",
    "\n",
    "        "
   ]
  },
  {
   "cell_type": "code",
   "execution_count": 14,
   "id": "b16afcb2",
   "metadata": {
    "ExecuteTime": {
     "end_time": "2022-03-19T17:11:30.713182Z",
     "start_time": "2022-03-19T17:11:28.815398Z"
    }
   },
   "outputs": [
    {
     "data": {
      "image/png": "[encoded data removed]",
      "text/plain": [
       "<Figure size 432x288 with 1 Axes>"
      ]
     },
     "metadata": {
      "needs_background": "light"
     },
     "output_type": "display_data"
    },
    {
     "data": {
      "image/png": "[encoded data removed]",
      "text/plain": [
       "<Figure size 432x288 with 1 Axes>"
      ]
     },
     "metadata": {
      "needs_background": "light"
     },
     "output_type": "display_data"
    },
    {
     "data": {
      "image/png": "[encoded data removed]",
      "text/plain": [
       "<Figure size 432x288 with 1 Axes>"
      ]
     },
     "metadata": {
      "needs_background": "light"
     },
     "output_type": "display_data"
    }
   ],
   "source": [
    "# Plot the performance\n",
    "N_moves_save = pd.DataFrame(N_moves_save, columns = ['N_moves'])\n",
    "N_moves_save.to_csv('N_moves_ER.csv')\n",
    "N_moves_save['N_moves'] = N_moves_save['N_moves'].ewm(span=100, adjust=False).mean()\n",
    "\n",
    "\n",
    "plt.plot(N_moves_save['N_moves'])\n",
    "plt.xlabel('Episodes')\n",
    "plt.ylabel('Number of Steps until \"Done\"')\n",
    "plt.title('Average Number of Steps until \"Done\" per Episode')\n",
    "plt.show()\n",
    "\n",
    "R_save = pd.DataFrame(R_save, columns = ['R_save'])\n",
    "R_save.to_csv('R_save_ER.csv')\n",
    "R_save['R_save'] = R_save['R_save'].ewm(span=100, adjust=False).mean()\n",
    "\n",
    "plt.plot(R_save)\n",
    "plt.xlabel('Episodes')\n",
    "plt.ylabel('Reward')\n",
    "plt.title('Average Rewards per Episode')\n",
    "plt.show()\n",
    "\n",
    "\n",
    "Delta_save = pd.DataFrame(Delta_save, columns = ['Delta_save'])\n",
    "Delta_save.to_csv('Delta_save_ER.csv')\n",
    "Delta_save['Delta_save'] = Delta_save['Delta_save'].ewm(span=100, adjust=False).mean()\n",
    "\n",
    "plt.plot(Delta_save)\n",
    "plt.xlabel('Episodes')\n",
    "plt.ylabel('Error')\n",
    "plt.title('Average Loss')\n",
    "plt.show()"
   ]
  },
  {
   "cell_type": "markdown",
   "id": "07ff8758",
   "metadata": {},
   "source": [
    "# Adagrad SARSA"
   ]
  },
  {
   "cell_type": "code",
   "execution_count": 63,
   "id": "e8a6ccc9",
   "metadata": {},
   "outputs": [],
   "source": [
    "# INITIALISE THE PARAMETERS OF YOUR NEURAL NETWORK AND...\n",
    "# PLEASE CONSIDER TO USE A MASK OF ONE FOR THE ACTION MADE AND ZERO OTHERWISE IF YOU ARE NOT USING VANILLA GRADIENT DESCENT...\n",
    "# WE SUGGEST A NETWORK WITH ONE HIDDEN LAYER WITH SIZE 200. \n",
    "\n",
    "S,X,allowed_a=env.Initialise_game()\n",
    "\n",
    "N_a=np.shape(allowed_a)[0]   # TOTAL NUMBER OF POSSIBLE ACTIONS\n",
    "N_in=np.shape(X)[0]          ## INPUT SIZE\n",
    "N_h=200                      ## NUMBER OF HIDDEN NODES\n",
    "\n",
    "## INITALISE YOUR NEURAL NETWORK... Here weights from input to hidden layer and from the hidden layer to output layer are initialized\n",
    "W1=np.random.uniform(0, 1,(N_h,N_in))/(N_h*N_in)\n",
    "W2=np.random.uniform(0, 1,(N_a,N_h))/(N_a*N_h)\n",
    "\n",
    "#W1 = np.divide(W1,np.matlib.repmat(np.sum(W1,1)[:,None],1,N_in))\n",
    "#W2 = np.divide(W2,np.matlib.repmat(np.sum(W2,1)[:,None],1,N_h))\n",
    "\n",
    "bias_W1 = np.zeros((N_h,))\n",
    "bias_W2 = np.zeros((N_a,))\n",
    "\n",
    "# HYPERPARAMETERS SUGGESTED (FOR A GRID SIZE OF 4)\n",
    "\n",
    "epsilon_0 = 0.2     # STARTING VALUE OF EPSILON FOR THE EPSILON-GREEDY POLICY 0.2\n",
    "beta = 0.00005      # THE PARAMETER SETS HOW QUICKLY THE VALUE OF EPSILON IS DECAYING (SEE epsilon_f BELOW) 0.00005\n",
    "gamma = 0.85        # THE DISCOUNT FACTOR 0.85\n",
    "eta = 0.0035        # THE LEARNING RATE 0.0035\n",
    "\n",
    "# REWARD SCHEME DEFAULT\n",
    "# Reward if episode is not ended: 0\n",
    "# Reward if checkmate: 1\n",
    "# Reward if draw: 0\n",
    "\n",
    "N_episodes = 500 # THE NUMBER OF GAMES TO BE PLAYED 100000\n",
    "\n",
    "hiddenactivfunction = 1\n",
    "outeractivfunction = 0\n",
    "\n",
    "# SAVING VARIABLES\n",
    "R_save = np.zeros([N_episodes, 1])\n",
    "N_moves_save = np.zeros([N_episodes, 1])\n",
    "Delta_save = np.zeros([N_episodes, 1])\n",
    "\n"
   ]
  },
  {
   "cell_type": "code",
   "execution_count": 64,
   "id": "f12897d6",
   "metadata": {},
   "outputs": [
    {
     "name": "stdout",
     "output_type": "stream",
     "text": [
      "0\n"
     ]
    },
    {
     "name": "stderr",
     "output_type": "stream",
     "text": [
      "/var/folders/sz/_h0l1zd56wl39cb0sdn2kw2w0000gn/T/ipykernel_18287/2668640504.py:106: RuntimeWarning: overflow encountered in matmul\n",
      "  GW2 =  GW2 + np.matmul(G, np.transpose(G))\n",
      "/var/folders/sz/_h0l1zd56wl39cb0sdn2kw2w0000gn/T/ipykernel_18287/2668640504.py:116: RuntimeWarning: invalid value encountered in multiply\n",
      "  dYdZ =  (W2[a,:].reshape(1, 200) * H*(1-H).reshape(1, 200)).reshape(200,1)\n"
     ]
    },
    {
     "ename": "KeyboardInterrupt",
     "evalue": "",
     "output_type": "error",
     "traceback": [
      "\u001b[0;31m---------------------------------------------------------------------------\u001b[0m",
      "\u001b[0;31mKeyboardInterrupt\u001b[0m                         Traceback (most recent call last)",
      "\u001b[0;32m/var/folders/sz/_h0l1zd56wl39cb0sdn2kw2w0000gn/T/ipykernel_18287/2668640504.py\u001b[0m in \u001b[0;36m<module>\u001b[0;34m\u001b[0m\n\u001b[1;32m    125\u001b[0m \u001b[0;34m\u001b[0m\u001b[0m\n\u001b[1;32m    126\u001b[0m \u001b[0;34m\u001b[0m\u001b[0m\n\u001b[0;32m--> 127\u001b[0;31m             \u001b[0mGW1\u001b[0m \u001b[0;34m=\u001b[0m \u001b[0mGW1\u001b[0m \u001b[0;34m+\u001b[0m \u001b[0mnp\u001b[0m\u001b[0;34m.\u001b[0m\u001b[0mmatmul\u001b[0m\u001b[0;34m(\u001b[0m\u001b[0mG\u001b[0m\u001b[0;34m,\u001b[0m \u001b[0mnp\u001b[0m\u001b[0;34m.\u001b[0m\u001b[0mtranspose\u001b[0m\u001b[0;34m(\u001b[0m\u001b[0mG\u001b[0m\u001b[0;34m)\u001b[0m\u001b[0;34m)\u001b[0m\u001b[0;34m\u001b[0m\u001b[0;34m\u001b[0m\u001b[0m\n\u001b[0m\u001b[1;32m    128\u001b[0m             \u001b[0mdiagonal\u001b[0m \u001b[0;34m=\u001b[0m \u001b[0mnp\u001b[0m\u001b[0;34m.\u001b[0m\u001b[0mdiag\u001b[0m\u001b[0;34m(\u001b[0m\u001b[0mGW1\u001b[0m\u001b[0;34m)\u001b[0m\u001b[0;34m**\u001b[0m\u001b[0;34m(\u001b[0m\u001b[0;36m1\u001b[0m\u001b[0;34m/\u001b[0m\u001b[0;36m2\u001b[0m\u001b[0;34m)\u001b[0m\u001b[0;34m\u001b[0m\u001b[0;34m\u001b[0m\u001b[0m\n\u001b[1;32m    129\u001b[0m             \u001b[0mdiagonal\u001b[0m \u001b[0;34m=\u001b[0m \u001b[0mdiagonal\u001b[0m\u001b[0;34m.\u001b[0m\u001b[0mreshape\u001b[0m\u001b[0;34m(\u001b[0m\u001b[0;36m200\u001b[0m\u001b[0;34m,\u001b[0m \u001b[0;34m-\u001b[0m\u001b[0;36m1\u001b[0m\u001b[0;34m)\u001b[0m\u001b[0;34m\u001b[0m\u001b[0;34m\u001b[0m\u001b[0m\n",
      "\u001b[0;31mKeyboardInterrupt\u001b[0m: "
     ]
    }
   ],
   "source": [
    "np.set_printoptions(precision=5)\n",
    "for n in range(N_episodes):\n",
    "    \n",
    "    S,X,allowed_a=env.Initialise_game()\n",
    "   \n",
    "    epsilon_f = epsilon_0 / (1 + beta * n)   ## DECAYING EPSILON\n",
    "    Done=0                                   ## SET DONE TO ZERO (BEGINNING OF THE EPISODE)\n",
    "    i =  1                                        ## COUNTER FOR NUMBER OF ACTIONS\n",
    "    if (n%1 == 0):\n",
    "\n",
    "        GW1 = np.zeros([N_in*N_h + N_h , N_in*N_h+ N_h])\n",
    "        GW2 = np.zeros([N_h+1, N_h+1])\n",
    "                               \n",
    "    Qvalues = ComputeQvalues(W1, W2, bias_W1, bias_W2, X, hiddenactivfunction , outeractivfunction)\n",
    "\n",
    "    a=EpsilonGreedy_Policy(Qvalues,epsilon_f, allowed_a)\n",
    "    \n",
    "    while (Done==0 and i<50):                           ## START THE EPISODE\n",
    "       \n",
    "        Qvalues = ComputeQvalues(W1, W2, bias_W1, bias_W2, X, hiddenactivfunction , outeractivfunction)\n",
    "       \n",
    "        S_next, X_next,allowed_a_next,R,Done=env.OneStep(a)\n",
    "       \n",
    "        \n",
    "        ## THE EPISODE HAS ENDED, UPDATE...BE CAREFUL, THIS IS THE LAST STEP OF THE EPISODE\n",
    "        if Done==1:\n",
    "            \n",
    "            R_save[n,]=np.copy(R)\n",
    "            N_moves_save[n,]=i\n",
    "            \n",
    "            dEdQ=R-Qvalues[a]\n",
    "           \n",
    "            Delta_save[n,] = 0.5*(dEdQ)*(dEdQ)\n",
    "            \n",
    "            ## update W2 and B2   \n",
    "            dQdY = 1  \n",
    "            if outeractivfunction == 1:\n",
    "                    dYdQ = Qvalues[a]*(1-Qvalues[a])\n",
    "                    \n",
    "          \n",
    "            H = np.matmul(W1,X) + bias_W1\n",
    "            if hiddenactivfunction == 1:\n",
    "                     H = np.round(1/(1+np.exp(-H)), 5)\n",
    "            dYdW = H\n",
    "            \n",
    "            gradient2 =dEdQ*dQdY*dYdW\n",
    "            grandientBias2 = dEdQ*dQdY\n",
    "            G = np.round(np.append(gradient2, grandientBias2), 4)\n",
    "            GW2 =  GW2 + np.matmul(G, np.transpose(G))\n",
    "\n",
    "            diagonal = np.diag(GW2)**(1/2)\n",
    "    \n",
    "            W2[a,:]=W2[a,:]+eta*diagonal[0:-1]*gradient2\n",
    "            bias_W2[a]=bias_W2[a]+eta*diagonal[-1]*grandientBias2\n",
    "            \n",
    "            ## update W1 and B1 after W2 and B2 were updated\n",
    "        \n",
    "            if hiddenactivfunction == 1:\n",
    "                dYdZ =  (W2[a,:].reshape(1, 200) * H*(1-H).reshape(1, 200)).reshape(200,1)\n",
    "            else:\n",
    "                dYdZ =  W2[a,:].reshape(200, 1)\n",
    "        \n",
    "            dZDW = X.reshape(1, 58) \n",
    "            \n",
    "            gradient1 =dEdQ*dQdY*dYdZ*dZDW\n",
    "            grandientBias1 = dEdQ*dQdY*dYdZ.reshape(200,1) \n",
    "            G = np.ravel(np.concatenate((gradient1, grandientBias1), axis=1))\n",
    "\n",
    "            \n",
    "            GW1 = GW1 + np.matmul(G, np.transpose(G))\n",
    "            diagonal = np.diag(GW1)**(1/2)\n",
    "            diagonal = diagonal.reshape(200, -1)\n",
    "        \n",
    "            \n",
    "            W1[:,:]=W1[:,:]+ eta*diagonal[:, 0:-1]*gradient1\n",
    "            bias_W1=bias_W1+ eta*diagonal[:, -1]*grandientBias1.reshape(200,)\n",
    "            \n",
    "            break\n",
    "        \n",
    "        \n",
    "        # IF THE EPISODE IS NOT OVER...\n",
    "        else:\n",
    "            \n",
    "            Qvalues1=ComputeQvalues(W1, W2, bias_W1, bias_W2, X_next, hiddenactivfunction , outeractivfunction)\n",
    "\n",
    "            a1=EpsilonGreedy_Policy(Qvalues1,epsilon_f, allowed_a_next)\n",
    "\n",
    "            # Compute the delta\n",
    "            dEdQ=R+gamma*Qvalues1[a1]- Qvalues[a]\n",
    "         \n",
    "                  \n",
    "            ## update W2 and B2   \n",
    "            dQdY = 1  \n",
    "            if outeractivfunction == 1:\n",
    "                    dYdQ = Qvalues[a]*(1-Qvalues[a])\n",
    "                    \n",
    "          \n",
    "            H = np.matmul(W1,X) + bias_W1\n",
    "            if hiddenactivfunction == 1:\n",
    "                     H = np.round(1/(1+np.exp(-H)), 5)\n",
    "            dYdW = H\n",
    "          \n",
    "            gradient2 =dEdQ*dQdY*dYdW\n",
    "            grandientBias2 = dEdQ*dQdY\n",
    "            G = np.round(np.append(gradient2, grandientBias2), 4)\n",
    "            GW2 =  GW2 + np.matmul(G, np.transpose(G))\n",
    "\n",
    "            diagonal = np.diag(GW2)**(1/2)\n",
    "    \n",
    "            W2[a,:]=W2[a,:]+eta*diagonal[0:-1]*gradient2\n",
    "            bias_W2[a]=bias_W2[a]+eta*diagonal[-1]*grandientBias2\n",
    "            \n",
    "            ## update W1 and B1 after W2 and B2 were updated\n",
    "        \n",
    "            if hiddenactivfunction == 1:\n",
    "                dYdZ =  (W2[a,:].reshape(1, 200) * H*(1-H).reshape(1, 200)).reshape(200,1)\n",
    "            else:\n",
    "                dYdZ =  W2[a,:].reshape(200, 1)\n",
    "        \n",
    "            dZDW = X.reshape(1, 58)   \n",
    "            \n",
    "            gradient1 =dEdQ*dQdY*dYdZ*dZDW\n",
    "            grandientBias1 = dEdQ*dQdY*dYdZ.reshape(200,1) \n",
    "            G = np.ravel(np.concatenate((gradient1, grandientBias1), axis=1))\n",
    "\n",
    "            \n",
    "            GW1 = GW1 + np.matmul(G, np.transpose(G))\n",
    "            diagonal = np.diag(GW1)**(1/2)\n",
    "            diagonal = diagonal.reshape(200, -1)\n",
    "            \n",
    "            \n",
    "            W1[:,:]=W1[:,:]+ eta*diagonal[:, 0:-1]*gradient1\n",
    "            bias_W1=bias_W1+ eta*diagonal[:, -1]*grandientBias1.reshape(200,)\n",
    "           \n",
    "            \n",
    "        # NEXT STATE AND CO. BECOME ACTUAL STATE...     \n",
    "        S=np.copy(S_next)\n",
    "        X=np.copy(X_next)\n",
    "        a = np.copy(a1)\n",
    "\n",
    "        i += 1  # UPDATE COUNTER FOR NUMBER OF ACTIONS\n",
    "        if (n%10 ==0):\n",
    "            print(n)\n",
    "    "
   ]
  },
  {
   "cell_type": "code",
   "execution_count": 65,
   "id": "89d9ecac",
   "metadata": {},
   "outputs": [
    {
     "data": {
      "text/plain": [
       "16"
      ]
     },
     "execution_count": 65,
     "metadata": {},
     "output_type": "execute_result"
    }
   ],
   "source": [
    "n"
   ]
  },
  {
   "cell_type": "code",
   "execution_count": null,
   "id": "c15d0b77",
   "metadata": {},
   "outputs": [],
   "source": [
    "# Plot the performance\n",
    "N_moves_save = pd.DataFrame(N_moves_save, columns = ['N_moves'])\n",
    "#N_moves_save.to_csv('N_moves_ER.csv')\n",
    "N_moves_save['N_moves'] = N_moves_save['N_moves'].ewm(span=100, adjust=False).mean()\n",
    "\n",
    "\n",
    "plt.plot(N_moves_save['N_moves'])\n",
    "plt.xlabel('Episodes')\n",
    "plt.ylabel('Number of Steps until \"Done\"')\n",
    "plt.title('Average Number of Steps until \"Done\" per Episode')\n",
    "plt.show()\n",
    "\n",
    "R_save = pd.DataFrame(R_save, columns = ['R_save'])\n",
    "#R_save.to_csv('R_save_ER.csv')\n",
    "R_save['R_save'] = R_save['R_save'].ewm(span=100, adjust=False).mean()\n",
    "\n",
    "plt.plot(R_save)\n",
    "plt.xlabel('Episodes')\n",
    "plt.ylabel('Reward')\n",
    "plt.title('Average Rewards per Episode')\n",
    "plt.show()\n",
    "\n",
    "\n",
    "Delta_save = pd.DataFrame(Delta_save, columns = ['Delta_save'])\n",
    "#Delta_save.to_csv('Delta_save_ER.csv')\n",
    "Delta_save['Delta_save'] = Delta_save['Delta_save'].ewm(span=100, adjust=False).mean()\n",
    "\n",
    "plt.plot(Delta_save)\n",
    "plt.xlabel('Episodes')\n",
    "plt.ylabel('Error')\n",
    "plt.title('Average Loss')\n",
    "plt.show()"
   ]
  },
  {
   "cell_type": "markdown",
   "id": "adcf8c3d",
   "metadata": {},
   "source": [
    "## Testing"
   ]
  },
  {
   "cell_type": "code",
   "execution_count": 15,
   "id": "83b4b998",
   "metadata": {
    "ExecuteTime": {
     "end_time": "2022-03-19T17:11:30.741904Z",
     "start_time": "2022-03-19T17:11:30.722280Z"
    }
   },
   "outputs": [],
   "source": [
    "W1=np.random.randn(2,3)\n",
    "W2=np.random.randn(3,2)\n",
    "bias_W1 = np.random.randn(2,)\n",
    "bias_W2 = np.random.randn(3,)\n",
    "S,X,allowed_a=env.Initialise_game()\n",
    "X = X[0:3,]\n",
    "hiddenactivfunction = 1\n",
    "outeractivfunction = 0"
   ]
  },
  {
   "cell_type": "code",
   "execution_count": 16,
   "id": "6c129eb2",
   "metadata": {
    "ExecuteTime": {
     "end_time": "2022-03-19T17:11:30.762506Z",
     "start_time": "2022-03-19T17:11:30.746440Z"
    }
   },
   "outputs": [
    {
     "data": {
      "text/plain": [
       "array([-0.3502636 ,  0.47663557])"
      ]
     },
     "execution_count": 16,
     "metadata": {},
     "output_type": "execute_result"
    }
   ],
   "source": [
    "bias_W1"
   ]
  },
  {
   "cell_type": "code",
   "execution_count": 17,
   "id": "9e1f7ac3",
   "metadata": {
    "ExecuteTime": {
     "end_time": "2022-03-19T17:11:30.777503Z",
     "start_time": "2022-03-19T17:11:30.767508Z"
    }
   },
   "outputs": [
    {
     "data": {
      "text/plain": [
       "array([[-0.7481324 ,  1.26562588,  0.56653909],\n",
       "       [ 0.28357543,  1.52026526, -1.16694402]])"
      ]
     },
     "execution_count": 17,
     "metadata": {},
     "output_type": "execute_result"
    }
   ],
   "source": [
    "W1"
   ]
  },
  {
   "cell_type": "code",
   "execution_count": 18,
   "id": "b2905719",
   "metadata": {
    "ExecuteTime": {
     "end_time": "2022-03-19T17:11:30.793798Z",
     "start_time": "2022-03-19T17:11:30.782526Z"
    }
   },
   "outputs": [
    {
     "data": {
      "text/plain": [
       "array([[-0.91068453,  0.5762942 ],\n",
       "       [ 0.52934804, -0.36915206],\n",
       "       [ 2.01240921,  0.52455777]])"
      ]
     },
     "execution_count": 18,
     "metadata": {},
     "output_type": "execute_result"
    }
   ],
   "source": [
    "W2"
   ]
  },
  {
   "cell_type": "code",
   "execution_count": 19,
   "id": "d372e2d9",
   "metadata": {
    "ExecuteTime": {
     "end_time": "2022-03-19T17:11:30.805068Z",
     "start_time": "2022-03-19T17:11:30.800069Z"
    }
   },
   "outputs": [],
   "source": [
    "Qvalues = ComputeQvalues(W1, W2, bias_W1, bias_W2, X, hiddenactivfunction , outeractivfunction)   "
   ]
  },
  {
   "cell_type": "code",
   "execution_count": 20,
   "id": "a0a459b5",
   "metadata": {
    "ExecuteTime": {
     "end_time": "2022-03-19T17:11:30.815070Z",
     "start_time": "2022-03-19T17:11:30.809069Z"
    }
   },
   "outputs": [],
   "source": [
    "R = 1"
   ]
  },
  {
   "cell_type": "code",
   "execution_count": 21,
   "id": "0af3d9a0",
   "metadata": {
    "ExecuteTime": {
     "end_time": "2022-03-19T17:11:30.828077Z",
     "start_time": "2022-03-19T17:11:30.820086Z"
    }
   },
   "outputs": [],
   "source": [
    "dEdQ=R-Qvalues[0]"
   ]
  },
  {
   "cell_type": "code",
   "execution_count": 22,
   "id": "952e1466",
   "metadata": {
    "ExecuteTime": {
     "end_time": "2022-03-19T17:11:30.842068Z",
     "start_time": "2022-03-19T17:11:30.832072Z"
    }
   },
   "outputs": [
    {
     "data": {
      "text/plain": [
       "array([-0.91068453,  0.5762942 ])"
      ]
     },
     "execution_count": 22,
     "metadata": {},
     "output_type": "execute_result"
    }
   ],
   "source": [
    "W2[0,:]"
   ]
  },
  {
   "cell_type": "code",
   "execution_count": 23,
   "id": "aab2ef78",
   "metadata": {
    "ExecuteTime": {
     "end_time": "2022-03-19T17:11:32.148995Z",
     "start_time": "2022-03-19T17:11:30.845069Z"
    }
   },
   "outputs": [
    {
     "ename": "ValueError",
     "evalue": "operands could not be broadcast together with shapes (2,) (200,) ",
     "output_type": "error",
     "traceback": [
      "\u001b[1;31m---------------------------------------------------------------------------\u001b[0m",
      "\u001b[1;31mValueError\u001b[0m                                Traceback (most recent call last)",
      "\u001b[1;32m~\\AppData\\Local\\Temp/ipykernel_84572/1427159185.py\u001b[0m in \u001b[0;36m<module>\u001b[1;34m\u001b[0m\n\u001b[1;32m----> 1\u001b[1;33m \u001b[0mW2\u001b[0m\u001b[1;33m[\u001b[0m\u001b[1;36m0\u001b[0m\u001b[1;33m,\u001b[0m\u001b[1;33m:\u001b[0m\u001b[1;33m]\u001b[0m\u001b[1;33m+\u001b[0m\u001b[0meta\u001b[0m\u001b[1;33m*\u001b[0m\u001b[0mdEdQ\u001b[0m\u001b[1;33m*\u001b[0m\u001b[0mdQdY\u001b[0m\u001b[1;33m*\u001b[0m\u001b[0mdYdW\u001b[0m\u001b[1;33m\u001b[0m\u001b[1;33m\u001b[0m\u001b[0m\n\u001b[0m",
      "\u001b[1;31mValueError\u001b[0m: operands could not be broadcast together with shapes (2,) (200,) "
     ]
    }
   ],
   "source": [
    "W2[0,:]+eta*dEdQ*dQdY*dYdW"
   ]
  },
  {
   "cell_type": "code",
   "execution_count": null,
   "id": "08893fe2",
   "metadata": {
    "ExecuteTime": {
     "end_time": "2022-03-19T17:11:32.153993Z",
     "start_time": "2022-03-19T17:11:32.153993Z"
    }
   },
   "outputs": [],
   "source": [
    "eta*dEdQ*dQdY*dYdW"
   ]
  },
  {
   "cell_type": "code",
   "execution_count": null,
   "id": "6740eb81",
   "metadata": {
    "ExecuteTime": {
     "end_time": "2022-03-19T17:11:32.156523Z",
     "start_time": "2022-03-19T17:11:32.156523Z"
    }
   },
   "outputs": [],
   "source": [
    "np.matmul(W1,X) + bias_W1"
   ]
  },
  {
   "cell_type": "code",
   "execution_count": null,
   "id": "a37c36b1",
   "metadata": {
    "ExecuteTime": {
     "end_time": "2022-03-19T17:11:32.160525Z",
     "start_time": "2022-03-19T17:11:32.160525Z"
    }
   },
   "outputs": [],
   "source": [
    "H = np.matmul(W1,X) + bias_W1\n",
    "if hiddenactivfunction == 1:\n",
    "    H = np.round(1/(1+np.exp(-H)), 5)\n",
    "dYdW = H"
   ]
  },
  {
   "cell_type": "code",
   "execution_count": null,
   "id": "a72d002d",
   "metadata": {
    "ExecuteTime": {
     "end_time": "2022-03-19T17:11:32.164524Z",
     "start_time": "2022-03-19T17:11:32.164524Z"
    }
   },
   "outputs": [],
   "source": [
    "W2[0,:].reshape(1, 2)"
   ]
  },
  {
   "cell_type": "code",
   "execution_count": null,
   "id": "24048d8e",
   "metadata": {
    "ExecuteTime": {
     "end_time": "2022-03-19T17:11:32.168038Z",
     "start_time": "2022-03-19T17:11:32.168038Z"
    }
   },
   "outputs": [],
   "source": [
    "(H*(1-H)).reshape(1, 2)"
   ]
  },
  {
   "cell_type": "code",
   "execution_count": null,
   "id": "baec0097",
   "metadata": {
    "ExecuteTime": {
     "end_time": "2022-03-19T17:11:32.175736Z",
     "start_time": "2022-03-19T17:11:32.175736Z"
    }
   },
   "outputs": [],
   "source": [
    "W2[0,:].reshape(1, 2)*(H*(1-H)).reshape(1, 2)"
   ]
  },
  {
   "cell_type": "code",
   "execution_count": null,
   "id": "42ec8b57",
   "metadata": {
    "ExecuteTime": {
     "end_time": "2022-03-19T17:11:32.178691Z",
     "start_time": "2022-03-19T17:11:32.177693Z"
    }
   },
   "outputs": [],
   "source": [
    "dYdZ =(W2[0,:].reshape(1, 2) * H*(1-H).reshape(1, 2)).reshape(2,1)\n",
    "dZdW = X.reshape(1, 3) "
   ]
  },
  {
   "cell_type": "code",
   "execution_count": null,
   "id": "e8c8c404",
   "metadata": {
    "ExecuteTime": {
     "end_time": "2022-03-19T17:11:32.179691Z",
     "start_time": "2022-03-19T17:11:32.179691Z"
    }
   },
   "outputs": [],
   "source": [
    "dYdZ"
   ]
  },
  {
   "cell_type": "code",
   "execution_count": null,
   "id": "a1cd0e18",
   "metadata": {
    "ExecuteTime": {
     "end_time": "2022-03-19T17:11:32.182695Z",
     "start_time": "2022-03-19T17:11:32.182695Z"
    }
   },
   "outputs": [],
   "source": [
    "dYdZ\n",
    "dZdW"
   ]
  },
  {
   "cell_type": "code",
   "execution_count": null,
   "id": "830d6e50",
   "metadata": {
    "ExecuteTime": {
     "end_time": "2022-03-19T17:11:32.186696Z",
     "start_time": "2022-03-19T17:11:32.186696Z"
    }
   },
   "outputs": [],
   "source": [
    "dYdZ*dZdW "
   ]
  },
  {
   "cell_type": "code",
   "execution_count": null,
   "id": "ca8dde6b",
   "metadata": {
    "ExecuteTime": {
     "end_time": "2022-03-19T17:11:32.189695Z",
     "start_time": "2022-03-19T17:11:32.189695Z"
    }
   },
   "outputs": [],
   "source": [
    "dEdQ=R-Qvalues[a]\n",
    "           \n",
    "          \n",
    "            ## update W2 and B2   \n",
    "            dQdY = 1  \n",
    "            if outeractivfunction == 1:\n",
    "                    dYdQ = Qvalues[a]*(1-Qvalues[a])\n",
    "                    \n",
    "          \n",
    "            H = np.matmul(W1,X) + bias_W1\n",
    "            if hiddenactivfunction == 1:\n",
    "                     H = np.round(1/(1+np.exp(-H)), 5)\n",
    "            dYdW = H\n",
    "    \n",
    "        \n",
    "            W2[a,:]=W2[a,:]+eta*dEdQ*dQdY*dYdW\n",
    "            bias_W2[a]=bias_W2[a]+eta*dEdQ*dQdY\n",
    "            \n",
    "            \n",
    "             ## update W1 and B1 after W2 and B2 were updated\n",
    "        \n",
    "            if hiddenactivfunction == 1:\n",
    "                dYdZ =  (W2[a,:].reshape(1, 200) * H*(1-H).reshape(1, 200)).reshape(200,1)\n",
    "            else:\n",
    "                dYdZ =  W2[a,:].reshape(200, 1)\n",
    "        \n",
    "            dZdW = X.reshape(1, 58)        \n",
    "            W1[:,:]=W1[:,:]+ eta*dEdQ*dQdY*dYdZ*dZdW \n",
    "            bias_W1=bias_W1+ eta*dEdQ*dQdY*dYdZ.reshape(200,) "
   ]
  }
 ],
 "metadata": {
  "kernelspec": {
   "display_name": "Python 3 (ipykernel)",
   "language": "python",
   "name": "python3"
  },
  "language_info": {
   "codemirror_mode": {
    "name": "ipython",
    "version": 3
   },
   "file_extension": ".py",
   "mimetype": "text/x-python",
   "name": "python",
   "nbconvert_exporter": "python",
   "pygments_lexer": "ipython3",
   "version": "3.9.7"
  }
 },
 "nbformat": 4,
 "nbformat_minor": 5
}
