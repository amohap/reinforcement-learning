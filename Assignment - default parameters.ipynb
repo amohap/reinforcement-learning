{
 "cells": [
  {
   "cell_type": "markdown",
   "id": "02944396",
   "metadata": {},
   "source": [
    "# Assignment"
   ]
  },
  {
   "cell_type": "code",
   "execution_count": 1,
   "id": "c9652bc6",
   "metadata": {
    "ExecuteTime": {
     "end_time": "2022-03-19T23:01:07.629749Z",
     "start_time": "2022-03-19T23:01:05.096040Z"
    }
   },
   "outputs": [],
   "source": [
    "# Import \n",
    "\n",
    "import numpy as np\n",
    "import matplotlib.pyplot as plt\n",
    "import numpy.matlib\n",
    "import pandas as pd\n",
    "from degree_freedom_queen import *\n",
    "from degree_freedom_king1 import *\n",
    "from degree_freedom_king2 import *\n",
    "from generate_game import *\n",
    "from Chess_env import *\n",
    "import random\n",
    "\n",
    "\n",
    "size_board = 4\n",
    "## INITIALISE THE ENVIRONMENT\n",
    "\n",
    "env=Chess_Env(size_board)\n",
    "\n",
    "# set seed\n",
    "np.random.seed(2022)"
   ]
  },
  {
   "cell_type": "markdown",
   "id": "0bceca7c",
   "metadata": {},
   "source": [
    "## The Environment\n",
    "\n",
    "You can find the environment in the file Chess_env, which contains the class Chess_env. To define an object, you need to provide the board size considered as input. In our example, size_board=4. \n",
    "Chess_env is composed by the following methods:\n",
    "\n",
    "1. Initialise_game. The method initialises an episode by placing the three pieces considered (Agent's king and queen, enemy's king) in the chess board. The outputs of the method are described below in order.\n",
    "\n",
    "     S $\\;$ A matrix representing the board locations filled with 4 numbers: 0, no piece in that position; 1, location of the \n",
    "     agent's king; 2 location of the queen; 3 location of the enemy king.\n",
    "     \n",
    "     X $\\;$ The features, that is the input to the neural network. See the assignment for more information regarding the            definition of the features adopted. To personalise this, go into the Features method of the class Chess_env() and change        accordingly.\n",
    "     \n",
    "     allowed_a $\\;$ The allowed actions that the agent can make. The agent is moving a king, with a total number of 8                possible actions, and a queen, with a total number of $(board_{size}-1)\\times 8$ actions. The total number of possible actions correspond      to the sum of the two, but not all actions are allowed in a given position (movements to locations outside the borders or      against chess rules). Thus, the variable allowed_a is a vector that is one (zero) for an action that the agent can (can't)      make. Be careful, apply the policy considered on the actions that are allowed only.\n",
    "     \n",
    "\n",
    "2. OneStep. The method performs a one step update of the system. Given as input the action selected by the agent, it updates the chess board by performing that action and the response of the enemy king (which is a random allowed action in the settings considered). The first three outputs are the same as for the Initialise_game method, but the variables are computed for the position reached after the update of the system. The fourth and fifth outputs are:\n",
    "\n",
    "     R $\\;$ The reward. To change this, look at the OneStep method of the class where the rewards are set.\n",
    "     \n",
    "     Done $\\;$ A variable that is 1 if the episode has ended (checkmate or draw).\n",
    "     \n",
    "     \n",
    "3. Features. Given the chessboard position, the method computes the features.\n",
    "\n",
    "This information and a quick analysis of the class should be all you need to get going. The other functions that the class exploits are uncommented and constitute an example on how not to write a python code. You can take a look at them if you want, but it is not necessary.\n",
    "\n",
    "\n",
    "\n",
    "\n"
   ]
  },
  {
   "cell_type": "code",
   "execution_count": 2,
   "id": "086dc258",
   "metadata": {
    "ExecuteTime": {
     "end_time": "2022-03-19T23:01:07.698905Z",
     "start_time": "2022-03-19T23:01:07.650853Z"
    }
   },
   "outputs": [],
   "source": [
    "##  Define functions\n",
    "\n",
    "def EpsilonGreedy_Policy(Qvalues, epsilon, allowed_a):\n",
    "    \n",
    "    N_a=np.shape(Qvalues)[0]\n",
    "    a = list(range(0, N_a))\n",
    "    a = [i for idx, i in enumerate(a) if allowed_a[idx]]\n",
    "    Qvalues = [i for idx, i in enumerate(Qvalues) if allowed_a[idx]]\n",
    "\n",
    "    rand_value=np.random.uniform(0,1)\n",
    " ## epsilon is probability that we go random\n",
    "    rand_a=rand_value<epsilon\n",
    "\n",
    "    if rand_a==True:\n",
    "        \n",
    "        a = random.choice(a)\n",
    "\n",
    "    else:\n",
    "        idx=np.argmax(Qvalues)\n",
    "     \n",
    "        a = a[idx]\n",
    "            \n",
    "    return a\n",
    "\n",
    "\n",
    "def ComputeQvalues(W1, W2, bias_W1, bias_W2, X, hiddenactivfunction , outeractivfunction):\n",
    "    ## Qvalues=np.matmul(W2, np.matmul(W1,X)) ## this is direct computation of hidden layer and then output layer, without applying any non linear activation function\n",
    "    ## below is a better solution:\n",
    "    # Neural activation: input layer -> hidden layer\n",
    "    H1 = np.matmul(W1,X)+bias_W1 ## make sure that bias_W1 does not need to be transposed\n",
    "    # if hidden activ function is given:\n",
    "    if (hiddenactivfunction == 1):\n",
    "        H1 = np.round(1/(1+np.exp(-H1)), 5)\n",
    "        \n",
    "    Qvalues = np.matmul(W2,H1) + bias_W2\n",
    "    \n",
    "    #if outer activ function is given\n",
    "    if (outeractivfunction == 1):\n",
    "        Qvalues = np.round(1/(1+np.exp(- Qvalues)), 5)\n",
    "\n",
    "    return Qvalues\n"
   ]
  },
  {
   "cell_type": "code",
   "execution_count": 3,
   "id": "ece20429",
   "metadata": {
    "ExecuteTime": {
     "end_time": "2022-03-19T23:01:07.745456Z",
     "start_time": "2022-03-19T23:01:07.713066Z"
    }
   },
   "outputs": [],
   "source": [
    "# INITIALISE THE PARAMETERS OF YOUR NEURAL NETWORK AND...\n",
    "# PLEASE CONSIDER TO USE A MASK OF ONE FOR THE ACTION MADE AND ZERO OTHERWISE IF YOU ARE NOT USING VANILLA GRADIENT DESCENT...\n",
    "# WE SUGGEST A NETWORK WITH ONE HIDDEN LAYER WITH SIZE 200. \n",
    "\n",
    "S,X,allowed_a=env.Initialise_game()\n",
    "\n",
    "N_a=np.shape(allowed_a)[0]   # TOTAL NUMBER OF POSSIBLE ACTIONS\n",
    "N_in=np.shape(X)[0]          ## INPUT SIZE\n",
    "N_h=200                      ## NUMBER OF HIDDEN NODES\n",
    "\n",
    "## INITALISE YOUR NEURAL NETWORK... Here weights from input to hidden layer and from the hidden layer to output layer are initialized\n",
    "W1=np.random.uniform(0, 1,(N_h,N_in))/(N_h*N_in)\n",
    "W2=np.random.uniform(0, 1,(N_a,N_h))/(N_a*N_h)\n",
    "\n",
    "#W1 = np.divide(W1,np.matlib.repmat(np.sum(W1,1)[:,None],1,N_in))\n",
    "#W2 = np.divide(W2,np.matlib.repmat(np.sum(W2,1)[:,None],1,N_h))\n",
    "\n",
    "bias_W1 = np.zeros((N_h,))\n",
    "bias_W2 = np.zeros((N_a,))\n",
    "\n",
    "# HYPERPARAMETERS SUGGESTED (FOR A GRID SIZE OF 4)\n",
    "\n",
    "epsilon_0 = 0.2     # STARTING VALUE OF EPSILON FOR THE EPSILON-GREEDY POLICY 0.2\n",
    "beta = 0.00005      # THE PARAMETER SETS HOW QUICKLY THE VALUE OF EPSILON IS DECAYING (SEE epsilon_f BELOW) 0.00005\n",
    "gamma = 0.85        # THE DISCOUNT FACTOR 0.85\n",
    "eta = 0.0035        # THE LEARNING RATE 0.0035\n",
    "\n",
    "# REWARD SCHEME DEFAULT\n",
    "# Reward if episode is not ended: 0\n",
    "# Reward if checkmate: 1\n",
    "# Reward if draw: 0\n",
    "\n",
    "N_episodes = 100000 # THE NUMBER OF GAMES TO BE PLAYED 100000\n",
    "\n",
    "hiddenactivfunction = 1\n",
    "outeractivfunction = 0\n",
    "\n",
    "# SAVING VARIABLES\n",
    "R_save = np.zeros([N_episodes, 1])\n",
    "N_moves_save = np.zeros([N_episodes, 1])\n",
    "Delta_save = np.zeros([N_episodes, 1])\n"
   ]
  },
  {
   "cell_type": "markdown",
   "id": "67c039b4",
   "metadata": {},
   "source": [
    "## Backpropagation Derivation for Sigmoid as the Activation Function\n",
    "\n",
    "f: sigmoid activation function\n",
    "\n",
    "E = 0.5(R-Q)^(2)\n",
    "\n",
    "Q = f(Y), where Y = W2H + B2\n",
    "\n",
    "H = f(Z), where Z = W1X + B1\n",
    "\n",
    "dE/dW2 = dEDQ * dQdY*dYdW2 = -(R-Q)*(Q)(1-Q)*H\n",
    "\n",
    "dE/dB2 = dEDQ * dQdY*dYdB2 = -(R-Q)*(Q)(1-Q)\n",
    "\n",
    "dE/dW1 = dEDQ * dQdY*dYdH * dHdZ * dZdW1 = -(R-Q)*(Q)(1-Q)*W2*(H)(1-H)* X\n",
    "\n",
    "dE/dB1 = dEDQ * dQdY*dYdH * dHdZ * dZdB1= -(R-Q)*(Q)(1-Q)*W2*(H)(1-H)"
   ]
  },
  {
   "cell_type": "markdown",
   "id": "daab4159",
   "metadata": {},
   "source": [
    "## SARSA"
   ]
  },
  {
   "cell_type": "code",
   "execution_count": 4,
   "id": "e6ba1f84",
   "metadata": {
    "ExecuteTime": {
     "end_time": "2022-03-19T23:16:17.098203Z",
     "start_time": "2022-03-19T23:01:07.756160Z"
    },
    "scrolled": false
   },
   "outputs": [],
   "source": [
    "for n in range(N_episodes):\n",
    "    S,X,allowed_a=env.Initialise_game()\n",
    "   \n",
    "    epsilon_f = epsilon_0 / (1 + beta * n)   ## DECAYING EPSILON\n",
    "    Done=0                                   ## SET DONE TO ZERO (BEGINNING OF THE EPISODE)\n",
    "    i = 1                                    ## COUNTER FOR NUMBER OF ACTIONS\n",
    "                               \n",
    "    Qvalues = ComputeQvalues(W1, W2, bias_W1, bias_W2, X, hiddenactivfunction , outeractivfunction)\n",
    "\n",
    "    a=EpsilonGreedy_Policy(Qvalues,epsilon_f, allowed_a)\n",
    "    \n",
    "    while (Done==0 and i<50):                           ## START THE EPISODE\n",
    "       \n",
    "        Qvalues = ComputeQvalues(W1, W2, bias_W1, bias_W2, X, hiddenactivfunction , outeractivfunction)\n",
    "       \n",
    "        S_next, X_next,allowed_a_next,R,Done=env.OneStep(a)\n",
    "       \n",
    "        \n",
    "        ## THE EPISODE HAS ENDED, UPDATE...BE CAREFUL, THIS IS THE LAST STEP OF THE EPISODE\n",
    "        if Done==1:\n",
    "            \n",
    "            R_save[n,]=np.copy(R)\n",
    "            N_moves_save[n,]=i\n",
    "            \n",
    "            dEdQ=R-Qvalues[a]\n",
    "           \n",
    "            Delta_save[n,] = 0.5*(dEdQ)*(dEdQ)\n",
    "            \n",
    "            ## update W2 and B2   \n",
    "            dQdY = 1  \n",
    "            if outeractivfunction == 1:\n",
    "                    dYdQ = Qvalues[a]*(1-Qvalues[a])\n",
    "                    \n",
    "          \n",
    "            H = np.matmul(W1,X) + bias_W1\n",
    "            if hiddenactivfunction == 1:\n",
    "                     H = np.round(1/(1+np.exp(-H)), 5)\n",
    "            dYdW = H\n",
    "    \n",
    "        \n",
    "            W2[a,:]=W2[a,:]+eta*dEdQ*dQdY*dYdW\n",
    "            bias_W2[a]=bias_W2[a]+eta*dEdQ*dQdY\n",
    "            \n",
    "            ## update W1 and B1 after W2 and B2 were updated\n",
    "        \n",
    "            if hiddenactivfunction == 1:\n",
    "                dYdZ =  (W2[a,:].reshape(1, 200) * H*(1-H).reshape(1, 200)).reshape(200,1)\n",
    "            else:\n",
    "                dYdZ =  W2[a,:].reshape(200, 1)\n",
    "        \n",
    "            dZDW = X.reshape(1, 58)        \n",
    "            W1[:,:]=W1[:,:]+ eta*dEdQ*dQdY*dYdZ*dZDW \n",
    "            bias_W1=bias_W1+ eta*dEdQ*dQdY*dYdZ.reshape(200,) \n",
    "            \n",
    "            break\n",
    "        \n",
    "        \n",
    "        # IF THE EPISODE IS NOT OVER...\n",
    "        else:\n",
    "            \n",
    "            Qvalues1=ComputeQvalues(W1, W2, bias_W1, bias_W2, X_next, hiddenactivfunction , outeractivfunction)\n",
    "\n",
    "            a1=EpsilonGreedy_Policy(Qvalues1,epsilon_f, allowed_a_next)\n",
    "\n",
    "            # Compute the delta\n",
    "            dEdQ=R+gamma*Qvalues1[a1]- Qvalues[a]\n",
    "         \n",
    "                  \n",
    "            ## update W2 and B2   \n",
    "            dQdY = 1  \n",
    "            if outeractivfunction == 1:\n",
    "                    dYdQ = Qvalues[a]*(1-Qvalues[a])\n",
    "                    \n",
    "          \n",
    "            H = np.matmul(W1,X) + bias_W1\n",
    "            if hiddenactivfunction == 1:\n",
    "                     H = np.round(1/(1+np.exp(-H)), 5)\n",
    "            dYdW = H\n",
    "          \n",
    "            W2[a,:]=   W2[a,:]+   eta*dEdQ*dQdY*dYdW\n",
    "            bias_W2[a]=bias_W2[a]+eta*dEdQ*dQdY\n",
    "            \n",
    "            ## update W1 and B1 after W2 and B2 were updated\n",
    "        \n",
    "            if hiddenactivfunction == 1:\n",
    "                dYdZ =  (W2[a,:].reshape(1, 200) * H*(1-H).reshape(1, 200)).reshape(200,1)\n",
    "            else:\n",
    "                dYdZ =  W2[a,:].reshape(200, 1)\n",
    "        \n",
    "            dZDW = X.reshape(1, 58)   \n",
    "            \n",
    "            W1[:,:]=W1[:,:]+ eta*dEdQ*dQdY*dYdZ*dZDW \n",
    "            bias_W1=bias_W1+ eta*dEdQ*dQdY*dYdZ.reshape(200,) \n",
    "           \n",
    "            \n",
    "        # NEXT STATE AND CO. BECOME ACTUAL STATE...     \n",
    "        S=np.copy(S_next)\n",
    "        X=np.copy(X_next)\n",
    "        a = np.copy(a1)\n",
    "\n",
    "        i += 1  # UPDATE COUNTER FOR NUMBER OF ACTIONS"
   ]
  },
  {
   "cell_type": "code",
   "execution_count": 5,
   "id": "2df4673f",
   "metadata": {
    "ExecuteTime": {
     "end_time": "2022-03-19T23:16:18.600300Z",
     "start_time": "2022-03-19T23:16:17.103053Z"
    }
   },
   "outputs": [
    {
     "data": {
      "image/png": "[encoded data removed]",
      "text/plain": [
       "<Figure size 432x288 with 1 Axes>"
      ]
     },
     "metadata": {
      "needs_background": "light"
     },
     "output_type": "display_data"
    },
    {
     "data": {
      "image/png": "[encoded data removed]",
      "text/plain": [
       "<Figure size 432x288 with 1 Axes>"
      ]
     },
     "metadata": {
      "needs_background": "light"
     },
     "output_type": "display_data"
    },
    {
     "data": {
      "image/png": "[encoded data removed]",
      "text/plain": [
       "<Figure size 432x288 with 1 Axes>"
      ]
     },
     "metadata": {
      "needs_background": "light"
     },
     "output_type": "display_data"
    }
   ],
   "source": [
    "# Plot the performance\n",
    "N_moves_save = pd.DataFrame(N_moves_save, columns = ['N_moves'])\n",
    "N_moves_save.to_csv('N_moves_SARSA.csv')\n",
    "N_moves_save['N_moves'] = N_moves_save['N_moves'].ewm(span=100, adjust=False).mean()\n",
    "\n",
    "plt.plot(N_moves_save['N_moves'])\n",
    "plt.xlabel('Episodes')\n",
    "plt.ylabel('Number of Steps until \"Done\"')\n",
    "plt.title('Average Number of Steps until \"Done\" per Episode')\n",
    "plt.show()\n",
    "\n",
    "\n",
    "R_save = pd.DataFrame(R_save, columns = ['R_save'])\n",
    "R_save.to_csv('R_save_SARSA.csv')\n",
    "R_save['R_save'] = R_save['R_save'].ewm(span=100, adjust=False).mean()\n",
    "\n",
    "\n",
    "plt.plot(R_save)\n",
    "plt.xlabel('Episodes')\n",
    "plt.ylabel('Reward')\n",
    "plt.title('Average Rewards per Episode')\n",
    "plt.show()\n",
    "\n",
    "\n",
    "Delta_save = pd.DataFrame(Delta_save, columns = ['Delta_save'])\n",
    "Delta_save.to_csv('Delta_save_SARSA.csv')\n",
    "Delta_save['Delta_save'] = Delta_save['Delta_save'].ewm(span=100, adjust=False).mean()\n",
    "\n",
    "\n",
    "plt.plot(Delta_save)\n",
    "plt.xlabel('Episodes')\n",
    "plt.ylabel('Error')\n",
    "plt.title('Average Loss')\n",
    "plt.show()"
   ]
  },
  {
   "cell_type": "markdown",
   "id": "71c4b0c7",
   "metadata": {},
   "source": [
    "## Q-Learning"
   ]
  },
  {
   "cell_type": "code",
   "execution_count": 6,
   "id": "9f651780",
   "metadata": {
    "ExecuteTime": {
     "end_time": "2022-03-19T23:16:18.618650Z",
     "start_time": "2022-03-19T23:16:18.602410Z"
    }
   },
   "outputs": [],
   "source": [
    "size_board = 4\n",
    "env=Chess_Env(size_board)\n",
    "\n",
    "# INITIALISE THE PARAMETERS OF YOUR NEURAL NETWORK AND...\n",
    "# PLEASE CONSIDER TO USE A MASK OF ONE FOR THE ACTION MADE AND ZERO OTHERWISE IF YOU ARE NOT USING VANILLA GRADIENT DESCENT...\n",
    "# WE SUGGEST A NETWORK WITH ONE HIDDEN LAYER WITH SIZE 200. \n",
    "\n",
    "S,X,allowed_a=env.Initialise_game()\n",
    "\n",
    "N_a=np.shape(allowed_a)[0]   # TOTAL NUMBER OF POSSIBLE ACTIONS\n",
    "N_in=np.shape(X)[0]          ## INPUT SIZE\n",
    "N_h=200                      ## NUMBER OF HIDDEN NODES\n",
    "\n",
    "## INITALISE YOUR NEURAL NETWORK... Here weights from input to hidden layer and from the hidden layer to output layer are initialized\n",
    "W1=np.random.uniform(0, 1,(N_h,N_in))/(N_h*N_in)\n",
    "W2=np.random.uniform(0, 1,(N_a,N_h))/(N_a*N_h)\n",
    "\n",
    "#W1 = np.divide(W1,np.matlib.repmat(np.sum(W1,1)[:,None],1,N_in))\n",
    "#W2 = np.divide(W2,np.matlib.repmat(np.sum(W2,1)[:,None],1,N_h))\n",
    "\n",
    "bias_W1 = np.zeros((N_h,))\n",
    "bias_W2 = np.zeros((N_a,))\n",
    "\n",
    "# HYPERPARAMETERS SUGGESTED (FOR A GRID SIZE OF 4)\n",
    "\n",
    "epsilon_0 = 0.2     # STARTING VALUE OF EPSILON FOR THE EPSILON-GREEDY POLICY 0.2\n",
    "beta = 0.00005      # THE PARAMETER SETS HOW QUICKLY THE VALUE OF EPSILON IS DECAYING (SEE epsilon_f BELOW) 0.00005\n",
    "gamma = 0.85        # THE DISCOUNT FACTOR 0.85\n",
    "eta = 0.0035        # THE LEARNING RATE 0.0035\n",
    "\n",
    "# REWARD SCHEME DEFAULT\n",
    "# Reward if episode is not ended: 0\n",
    "# Reward if checkmate: 1\n",
    "# Reward if draw: 0\n",
    "\n",
    "N_episodes = 100000 # THE NUMBER OF GAMES TO BE PLAYED 100000\n",
    "\n",
    "hiddenactivfunction = 1\n",
    "outeractivfunction = 0\n",
    "\n",
    "# SAVING VARIABLES\n",
    "R_save = np.zeros([N_episodes, 1])\n",
    "N_moves_save = np.zeros([N_episodes, 1])\n",
    "Delta_save = np.zeros([N_episodes, 1])"
   ]
  },
  {
   "cell_type": "code",
   "execution_count": 7,
   "id": "e3262704",
   "metadata": {
    "ExecuteTime": {
     "end_time": "2022-03-19T23:31:41.702991Z",
     "start_time": "2022-03-19T23:16:18.620777Z"
    }
   },
   "outputs": [],
   "source": [
    "for n in range(N_episodes):\n",
    "    S,X,allowed_a=env.Initialise_game()\n",
    "    epsilon_f = epsilon_0 / (1 + beta * n)   ## DECAYING EPSILON\n",
    "    Done=0                                   ## SET DONE TO ZERO (BEGINNING OF THE EPISODE)\n",
    "    i = 1                                    ## COUNTER FOR NUMBER OF ACTIONS\n",
    "    \n",
    "  \n",
    "    while (Done==0 and i<50):                           ## START THE EPISODE\n",
    "       \n",
    "        Qvalues = ComputeQvalues(W1, W2, bias_W1, bias_W2, X, hiddenactivfunction , outeractivfunction)\n",
    "        a=EpsilonGreedy_Policy(Qvalues,epsilon_f, allowed_a)\n",
    "        S_next, X_next,allowed_a_next,R,Done=env.OneStep(a)\n",
    "        \n",
    "        ## THE EPISODE HAS ENDED, UPDATE...BE CAREFUL, THIS IS THE LAST STEP OF THE EPISODE\n",
    "        if Done==1:\n",
    "            \n",
    "            R_save[n,]=np.copy(R)\n",
    "            N_moves_save[n,]=i\n",
    "            \n",
    "            \n",
    "            dEdQ=R-Qvalues[a]\n",
    "           \n",
    "            Delta_save[n,] = 0.5*(dEdQ)*(dEdQ)\n",
    "            \n",
    "            ## update W2 and B2   \n",
    "            dQdY = 1  \n",
    "            if outeractivfunction == 1:\n",
    "                    dYdQ = Qvalues[a]*(1-Qvalues[a])\n",
    "                    \n",
    "          \n",
    "            H = np.matmul(W1,X) + bias_W1\n",
    "            if hiddenactivfunction == 1:\n",
    "                     H = np.round(1/(1+np.exp(-H)), 5)\n",
    "            dYdW = H\n",
    "    \n",
    "        \n",
    "            W2[a,:]=W2[a,:]+eta*dEdQ*dQdY*dYdW\n",
    "            bias_W2[a]=bias_W2[a]+eta*dEdQ*dQdY\n",
    "            \n",
    "            \n",
    "             ## update W1 and B1 after W2 and B2 were updated\n",
    "        \n",
    "            if hiddenactivfunction == 1:\n",
    "                dYdZ =  (W2[a,:].reshape(1, 200) * H*(1-H).reshape(1, 200)).reshape(200,1)\n",
    "            else:\n",
    "                dYdZ =  W2[a,:].reshape(200, 1)\n",
    "        \n",
    "            dZDW = X.reshape(1, 58)        \n",
    "            W1[:,:]=W1[:,:]+ eta*dEdQ*dQdY*dYdZ*dZDW \n",
    "            bias_W1=bias_W1+ eta*dEdQ*dQdY*dYdZ.reshape(200,) \n",
    "            \n",
    "            break\n",
    "        \n",
    "        # IF THE EPISODE IS NOT OVER...\n",
    "        else:\n",
    "            \n",
    "            Qvalues1=ComputeQvalues(W1, W2, bias_W1, bias_W2, X_next, hiddenactivfunction , outeractivfunction)\n",
    "            a1=EpsilonGreedy_Policy(Qvalues1,0, allowed_a_next)\n",
    "\n",
    "            # Compute the delta\n",
    "            dEdQ=R+gamma*Qvalues1[a1]- Qvalues[a]\n",
    "         \n",
    "                  \n",
    "            ## update W2 and B2   \n",
    "            dQdY = 1  \n",
    "            if outeractivfunction == 1:\n",
    "                    dYdQ = Qvalues[a]*(1-Qvalues[a])\n",
    "                    \n",
    "          \n",
    "            H = np.matmul(W1,X) + bias_W1\n",
    "            if hiddenactivfunction == 1:\n",
    "                     H = np.round(1/(1+np.exp(-H)), 5)\n",
    "            dYdW = H\n",
    "\n",
    "            W2[a,:]=   W2[a,:]+   eta*dEdQ*dQdY*dYdW\n",
    "            bias_W2[a]=bias_W2[a]+eta*dEdQ*dQdY\n",
    "            \n",
    "            \n",
    "             ## update W1 and B1 after W2 and B2 were updated\n",
    "        \n",
    "            if hiddenactivfunction == 1:\n",
    "                dYdZ =  (W2[a,:].reshape(1, 200) * H*(1-H).reshape(1, 200)).reshape(200,1)\n",
    "            else:\n",
    "                dYdZ =  W2[a,:].reshape(200, 1)\n",
    "        \n",
    "            dZDW = X.reshape(1, 58)   \n",
    "            \n",
    "            W1[:,:]=W1[:,:]+ eta*dEdQ*dQdY*dYdZ*dZDW \n",
    "            bias_W1=bias_W1+ eta*dEdQ*dQdY*dYdZ.reshape(200,) \n",
    "            \n",
    "        # NEXT STATE AND CO. BECOME ACTUAL STATE...     \n",
    "        S=np.copy(S_next)\n",
    "        X=np.copy(X_next)\n",
    "        allowed_a = np.copy(allowed_a_next)\n",
    "       \n",
    "\n",
    "        i += 1  # UPDATE COUNTER FOR NUMBER OF ACTIONS\n",
    "\n"
   ]
  },
  {
   "cell_type": "code",
   "execution_count": 8,
   "id": "c2797cf8",
   "metadata": {
    "ExecuteTime": {
     "end_time": "2022-03-19T23:31:43.061207Z",
     "start_time": "2022-03-19T23:31:41.705366Z"
    }
   },
   "outputs": [
    {
     "data": {
      "image/png": "[encoded data removed]",
      "text/plain": [
       "<Figure size 432x288 with 1 Axes>"
      ]
     },
     "metadata": {
      "needs_background": "light"
     },
     "output_type": "display_data"
    },
    {
     "data": {
      "image/png": "[encoded data removed]",
      "text/plain": [
       "<Figure size 432x288 with 1 Axes>"
      ]
     },
     "metadata": {
      "needs_background": "light"
     },
     "output_type": "display_data"
    },
    {
     "data": {
      "image/png": "[encoded data removed]",
      "text/plain": [
       "<Figure size 432x288 with 1 Axes>"
      ]
     },
     "metadata": {
      "needs_background": "light"
     },
     "output_type": "display_data"
    }
   ],
   "source": [
    "# Plot the performance\n",
    "N_moves_save = pd.DataFrame(N_moves_save, columns = ['N_moves'])\n",
    "N_moves_save.to_csv('N_moves_QLearning.csv')\n",
    "N_moves_save['N_moves'] = N_moves_save['N_moves'].ewm(span=100, adjust=False).mean()\n",
    "\n",
    "\n",
    "plt.plot(N_moves_save['N_moves'])\n",
    "plt.xlabel('Episodes')\n",
    "plt.ylabel('Number of Steps until \"Done\"')\n",
    "plt.title('Average Number of Steps until \"Done\" per Episode')\n",
    "plt.show()\n",
    "\n",
    "R_save = pd.DataFrame(R_save, columns = ['R_save'])\n",
    "R_save.to_csv('R_save_QLearning.csv')\n",
    "R_save['R_save'] = R_save['R_save'].ewm(span=100, adjust=False).mean()\n",
    "\n",
    "plt.plot(R_save)\n",
    "plt.xlabel('Episodes')\n",
    "plt.ylabel('Reward')\n",
    "plt.title('Average Rewards per Episode')\n",
    "plt.show()\n",
    "\n",
    "\n",
    "Delta_save = pd.DataFrame(Delta_save, columns = ['Delta_save'])\n",
    "Delta_save.to_csv('Delta_save_QLearning.csv')\n",
    "Delta_save['Delta_save'] = Delta_save['Delta_save'].ewm(span=100, adjust=False).mean()\n",
    "\n",
    "plt.plot(Delta_save)\n",
    "plt.xlabel('Episodes')\n",
    "plt.ylabel('Error')\n",
    "plt.title('Average Loss')\n",
    "plt.show()"
   ]
  },
  {
   "cell_type": "markdown",
   "id": "5ef0b450",
   "metadata": {},
   "source": [
    "## Experience Replay (incremental)"
   ]
  },
  {
   "cell_type": "code",
   "execution_count": 9,
   "id": "f74972b8",
   "metadata": {
    "ExecuteTime": {
     "end_time": "2022-03-19T23:31:43.081079Z",
     "start_time": "2022-03-19T23:31:43.065417Z"
    }
   },
   "outputs": [],
   "source": [
    "size_board = 4\n",
    "env=Chess_Env(size_board)\n",
    "\n",
    "# INITIALISE THE PARAMETERS OF YOUR NEURAL NETWORK AND...\n",
    "# PLEASE CONSIDER TO USE A MASK OF ONE FOR THE ACTION MADE AND ZERO OTHERWISE IF YOU ARE NOT USING VANILLA GRADIENT DESCENT...\n",
    "# WE SUGGEST A NETWORK WITH ONE HIDDEN LAYER WITH SIZE 200. \n",
    "\n",
    "S,X,allowed_a=env.Initialise_game()\n",
    "\n",
    "N_a=np.shape(allowed_a)[0]   # TOTAL NUMBER OF POSSIBLE ACTIONS\n",
    "N_in=np.shape(X)[0]          ## INPUT SIZE\n",
    "N_h=200                      ## NUMBER OF HIDDEN NODES\n",
    "\n",
    "## INITALISE YOUR NEURAL NETWORK... Here weights from input to hidden layer and from the hidden layer to output layer are initialized\n",
    "W1=np.random.uniform(0, 1,(N_h,N_in))/(N_h*N_in)\n",
    "W2=np.random.uniform(0, 1,(N_a,N_h))/(N_a*N_h)\n",
    "\n",
    "#W1 = np.divide(W1,np.matlib.repmat(np.sum(W1,1)[:,None],1,N_in))\n",
    "#W2 = np.divide(W2,np.matlib.repmat(np.sum(W2,1)[:,None],1,N_h))\n",
    "\n",
    "bias_W1 = np.zeros((N_h,))\n",
    "bias_W2 = np.zeros((N_a,))\n",
    "\n",
    "# HYPERPARAMETERS SUGGESTED (FOR A GRID SIZE OF 4)\n",
    "\n",
    "epsilon_0 = 0.2     # STARTING VALUE OF EPSILON FOR THE EPSILON-GREEDY POLICY 0.2\n",
    "beta = 0.00005      # THE PARAMETER SETS HOW QUICKLY THE VALUE OF EPSILON IS DECAYING (SEE epsilon_f BELOW) 0.00005\n",
    "gamma = 0.85        # THE DISCOUNT FACTOR 0.85\n",
    "eta = 0.0035        # THE LEARNING RATE 0.0035\n",
    "\n",
    "# REWARD SCHEME DEFAULT\n",
    "# Reward if episode is not ended: 0\n",
    "# Reward if checkmate: 1\n",
    "# Reward if draw: 0\n",
    "\n",
    "N_episodes = 100000 # THE NUMBER OF GAMES TO BE PLAYED 100000\n",
    "\n",
    "hiddenactivfunction = 1\n",
    "outeractivfunction = 0\n",
    "\n",
    "# SAVING VARIABLES\n",
    "R_save = np.zeros([N_episodes, 1])\n",
    "N_moves_save = np.zeros([N_episodes, 1])\n",
    "Delta_save = np.zeros([N_episodes, 1])"
   ]
  },
  {
   "cell_type": "code",
   "execution_count": 10,
   "id": "82e0b54e",
   "metadata": {
    "ExecuteTime": {
     "end_time": "2022-03-20T00:15:55.386051Z",
     "start_time": "2022-03-19T23:31:43.083605Z"
    }
   },
   "outputs": [],
   "source": [
    "for n in range(N_episodes):\n",
    "    S,X,allowed_a=env.Initialise_game()\n",
    "    epsilon_f = epsilon_0 / (1 + beta * n)   ## DECAYING EPSILON\n",
    "    Done=0                                   ## SET DONE TO ZERO (BEGINNING OF THE EPISODE)\n",
    "    i = 1  ## COUNTER FOR NUMBER OF ACTIONS\n",
    "    d = {}\n",
    "    \n",
    "    \n",
    "    while (Done==0 and i<50):                           ## START THE EPISODE\n",
    "       \n",
    "        Qvalues = ComputeQvalues(W1, W2, bias_W1, bias_W2, X, hiddenactivfunction , outeractivfunction)\n",
    "        a=EpsilonGreedy_Policy(Qvalues,epsilon_f, allowed_a)\n",
    "        S_next, X_next,allowed_a_next,R,Done=env.OneStep(a)\n",
    "        dataToStore = (X,a,R,X_next,Done, allowed_a_next)\n",
    "        d[i] = dataToStore\n",
    "     \n",
    "        \n",
    "        if Done==1:\n",
    "\n",
    "            R_save[n,]=np.copy(R)\n",
    "            N_moves_save[n,]=i\n",
    "        \n",
    "            while i>0: \n",
    "                x = d[i][0]\n",
    "                a = d[i][1]\n",
    "                r = d[i][2] \n",
    "                next_x = d[i][3]\n",
    "                done = d[i][4]\n",
    "                allowed = d[i][5]\n",
    "                Qvalues=ComputeQvalues(W1, W2, bias_W1, bias_W2, x, hiddenactivfunction , outeractivfunction)\n",
    "            \n",
    "                if done:\n",
    "                    dEdQ=r-Qvalues[a]\n",
    "                else:\n",
    "                    Qvalues1=ComputeQvalues(W1, W2, bias_W1, bias_W2, next_x, hiddenactivfunction , outeractivfunction)\n",
    "                    a1=EpsilonGreedy_Policy(Qvalues1,0, allowed)\n",
    "                    dEdQ=R+gamma*Qvalues1[a1]- Qvalues[a]\n",
    "\n",
    "                Delta_save[n,]=0.5*(dEdQ)*(dEdQ)\n",
    "\n",
    "                ## update W2 and B2   \n",
    "                dQdY = 1  \n",
    "                if outeractivfunction == 1:\n",
    "                        dYdQ = Qvalues[a]*(1-Qvalues[a])\n",
    "\n",
    "\n",
    "                H = np.matmul(W1,x) + bias_W1\n",
    "                if hiddenactivfunction == 1:\n",
    "                         H = np.round(1/(1+np.exp(-H)), 5)\n",
    "                dYdW = H\n",
    "\n",
    "\n",
    "                W2[a,:]=W2[a,:]+eta*dEdQ*dQdY*dYdW\n",
    "                bias_W2[a]=bias_W2[a]+eta*dEdQ*dQdY\n",
    "\n",
    "\n",
    "                 ## update W1 and B1 after W2 and B2 were updated\n",
    "\n",
    "                if hiddenactivfunction == 1:\n",
    "                    dYdZ =  (W2[a,:].reshape(1, 200) * H*(1-H).reshape(1, 200)).reshape(200,1)\n",
    "                else:\n",
    "                    dYdZ =  W2[a,:].reshape(200, 1)\n",
    "\n",
    "                dZDW = x.reshape(1, 58)        \n",
    "                W1[:,:]=W1[:,:]+ eta*dEdQ*dQdY*dYdZ*dZDW \n",
    "                bias_W1=bias_W1+ eta*dEdQ*dQdY*dYdZ.reshape(200,)\n",
    "                i = i-1\n",
    "                break\n",
    "        \n",
    "        else:\n",
    "            \n",
    "            S=np.copy(S_next)\n",
    "            X=np.copy(X_next)\n",
    "            allowed_a = np.copy(allowed_a_next)\n",
    "            i = i+1\n",
    "\n",
    "        "
   ]
  },
  {
   "cell_type": "code",
   "execution_count": 11,
   "id": "b16afcb2",
   "metadata": {
    "ExecuteTime": {
     "end_time": "2022-03-20T00:15:56.735837Z",
     "start_time": "2022-03-20T00:15:55.388192Z"
    }
   },
   "outputs": [
    {
     "data": {
      "image/png": "[encoded data removed]",
      "text/plain": [
       "<Figure size 432x288 with 1 Axes>"
      ]
     },
     "metadata": {
      "needs_background": "light"
     },
     "output_type": "display_data"
    },
    {
     "data": {
      "image/png": "[encoded data removed]",
      "text/plain": [
       "<Figure size 432x288 with 1 Axes>"
      ]
     },
     "metadata": {
      "needs_background": "light"
     },
     "output_type": "display_data"
    },
    {
     "data": {
      "image/png": "[encoded data removed]",
      "text/plain": [
       "<Figure size 432x288 with 1 Axes>"
      ]
     },
     "metadata": {
      "needs_background": "light"
     },
     "output_type": "display_data"
    }
   ],
   "source": [
    "# Plot the performance\n",
    "N_moves_save = pd.DataFrame(N_moves_save, columns = ['N_moves'])\n",
    "N_moves_save.to_csv('N_moves_ER.csv')\n",
    "N_moves_save['N_moves'] = N_moves_save['N_moves'].ewm(span=100, adjust=False).mean()\n",
    "\n",
    "\n",
    "plt.plot(N_moves_save['N_moves'])\n",
    "plt.xlabel('Episodes')\n",
    "plt.ylabel('Number of Steps until \"Done\"')\n",
    "plt.title('Average Number of Steps until \"Done\" per Episode')\n",
    "plt.show()\n",
    "\n",
    "R_save = pd.DataFrame(R_save, columns = ['R_save'])\n",
    "R_save.to_csv('R_save_ER.csv')\n",
    "R_save['R_save'] = R_save['R_save'].ewm(span=100, adjust=False).mean()\n",
    "\n",
    "plt.plot(R_save)\n",
    "plt.xlabel('Episodes')\n",
    "plt.ylabel('Reward')\n",
    "plt.title('Average Rewards per Episode')\n",
    "plt.show()\n",
    "\n",
    "\n",
    "Delta_save = pd.DataFrame(Delta_save, columns = ['Delta_save'])\n",
    "Delta_save.to_csv('Delta_save_ER.csv')\n",
    "Delta_save['Delta_save'] = Delta_save['Delta_save'].ewm(span=100, adjust=False).mean()\n",
    "\n",
    "plt.plot(Delta_save)\n",
    "plt.xlabel('Episodes')\n",
    "plt.ylabel('Error')\n",
    "plt.title('Average Loss')\n",
    "plt.show()"
   ]
  },
  {
   "cell_type": "markdown",
   "id": "07ff8758",
   "metadata": {},
   "source": [
    "# Adagrad SARSA\n",
    "\n",
    "First we will use a reasonable weight initialization method. Then, in the second run we will use a Gaussian distributed weight initialization method, which would lead to exploding gradients."
   ]
  },
  {
   "cell_type": "code",
   "execution_count": 17,
   "id": "e8a6ccc9",
   "metadata": {
    "ExecuteTime": {
     "end_time": "2022-03-20T12:36:24.367113Z",
     "start_time": "2022-03-20T12:36:24.335311Z"
    }
   },
   "outputs": [],
   "source": [
    "# INITIALISE THE PARAMETERS OF YOUR NEURAL NETWORK AND...\n",
    "# PLEASE CONSIDER TO USE A MASK OF ONE FOR THE ACTION MADE AND ZERO OTHERWISE IF YOU ARE NOT USING VANILLA GRADIENT DESCENT...\n",
    "# WE SUGGEST A NETWORK WITH ONE HIDDEN LAYER WITH SIZE 200. \n",
    "\n",
    "S,X,allowed_a=env.Initialise_game()\n",
    "\n",
    "N_a=np.shape(allowed_a)[0]   # TOTAL NUMBER OF POSSIBLE ACTIONS\n",
    "N_in=np.shape(X)[0]          ## INPUT SIZE\n",
    "N_h=200                      ## NUMBER OF HIDDEN NODES\n",
    "\n",
    "## INITALISE YOUR NEURAL NETWORK... Here weights from input to hidden layer and from the hidden layer to output layer are initialized\n",
    "W1=np.random.uniform(0, 1,(N_h,N_in))/(N_h*N_in)\n",
    "W2=np.random.uniform(0, 1,(N_a,N_h))/(N_a*N_h)\n",
    "\n",
    "#W1 = np.divide(W1,np.matlib.repmat(np.sum(W1,1)[:,None],1,N_in))\n",
    "#W2 = np.divide(W2,np.matlib.repmat(np.sum(W2,1)[:,None],1,N_h))\n",
    "\n",
    "bias_W1 = np.zeros((N_h,))\n",
    "bias_W2 = np.zeros((N_a,))\n",
    "\n",
    "# HYPERPARAMETERS SUGGESTED (FOR A GRID SIZE OF 4)\n",
    "\n",
    "epsilon_0 = 0.2     # STARTING VALUE OF EPSILON FOR THE EPSILON-GREEDY POLICY 0.2\n",
    "beta = 0.00005      # THE PARAMETER SETS HOW QUICKLY THE VALUE OF EPSILON IS DECAYING (SEE epsilon_f BELOW) 0.00005\n",
    "gamma = 0.85        # THE DISCOUNT FACTOR 0.85\n",
    "eta = 0.0035        # THE LEARNING RATE 0.0035\n",
    "\n",
    "# REWARD SCHEME DEFAULT\n",
    "# Reward if episode is not ended: 0\n",
    "# Reward if checkmate: 1\n",
    "# Reward if draw: 0\n",
    "\n",
    "N_episodes = 100000 # THE NUMBER OF GAMES TO BE PLAYED 100000\n",
    "\n",
    "hiddenactivfunction = 1\n",
    "outeractivfunction = 0\n",
    "\n",
    "# SAVING VARIABLES\n",
    "R_save = np.zeros([N_episodes, 1])\n",
    "N_moves_save = np.zeros([N_episodes, 1])\n",
    "Delta_save = np.zeros([N_episodes, 1])\n",
    "\n",
    "eps = 0.000001\n"
   ]
  },
  {
   "cell_type": "code",
   "execution_count": null,
   "id": "f12897d6",
   "metadata": {
    "ExecuteTime": {
     "start_time": "2022-03-20T12:36:25.777Z"
    }
   },
   "outputs": [
    {
     "name": "stderr",
     "output_type": "stream",
     "text": [
      "/var/folders/sz/_h0l1zd56wl39cb0sdn2kw2w0000gn/T/ipykernel_25843/868705752.py:103: RuntimeWarning: overflow encountered in square\n",
      "  diagonal2[:,a] = diagonal2[:,a] + G**2\n",
      "/var/folders/sz/_h0l1zd56wl39cb0sdn2kw2w0000gn/T/ipykernel_25843/868705752.py:112: RuntimeWarning: invalid value encountered in multiply\n",
      "  dYdZ =  (W2[a,:].reshape(1, 200) * H*(1-H).reshape(1, 200)).reshape(200,1)\n"
     ]
    }
   ],
   "source": [
    "for n in range(N_episodes):\n",
    "    \n",
    "    S,X,allowed_a=env.Initialise_game()\n",
    "   \n",
    "    epsilon_f = epsilon_0 / (1 + beta * n)   ## DECAYING EPSILON\n",
    "    Done=0                                   ## SET DONE TO ZERO (BEGINNING OF THE EPISODE)\n",
    "    i =  1                                        ## COUNTER FOR NUMBER OF ACTIONS\n",
    "    if (n%10 ==0):\n",
    "\n",
    "        diagonal2 = np.zeros((N_h+1,N_a))\n",
    "        diagonal1 = np.zeros((N_in*N_h + N_h, ))\n",
    "                               \n",
    "    Qvalues = ComputeQvalues(W1, W2, bias_W1, bias_W2, X, hiddenactivfunction , outeractivfunction)\n",
    "\n",
    "    a=EpsilonGreedy_Policy(Qvalues,epsilon_f, allowed_a)\n",
    "    \n",
    "    while (Done==0 and i<50):                           ## START THE EPISODE\n",
    "       \n",
    "        Qvalues = ComputeQvalues(W1, W2, bias_W1, bias_W2, X, hiddenactivfunction , outeractivfunction)\n",
    "       \n",
    "        S_next, X_next,allowed_a_next,R,Done=env.OneStep(a)\n",
    "       \n",
    "        \n",
    "        ## THE EPISODE HAS ENDED, UPDATE...BE CAREFUL, THIS IS THE LAST STEP OF THE EPISODE\n",
    "        if Done==1:\n",
    "            \n",
    "            R_save[n,]=np.copy(R)\n",
    "            N_moves_save[n,]=i\n",
    "            \n",
    "            dEdQ=R-Qvalues[a]\n",
    "           \n",
    "            Delta_save[n,] = 0.5*(dEdQ)*(dEdQ)\n",
    "            \n",
    "            ## update W2 and B2   \n",
    "            dQdY = 1  \n",
    "            if outeractivfunction == 1:\n",
    "                    dYdQ = Qvalues[a]*(1-Qvalues[a])\n",
    "                    \n",
    "          \n",
    "            H = np.matmul(W1,X) + bias_W1\n",
    "            if hiddenactivfunction == 1:\n",
    "                     H = np.round(1/(1+np.exp(-H)), 5)\n",
    "            dYdW = H\n",
    "            \n",
    "            gradient2 =dEdQ*dQdY*dYdW\n",
    "            grandientBias2 = dEdQ*dQdY\n",
    "            G = np.round(np.append(gradient2, grandientBias2), 4)\n",
    "            diagonal2[:,a] = diagonal2[:,a] + G**2\n",
    "            diagonal_to_use2 = (eps + diagonal2[:,a])**(1/2)\n",
    "    \n",
    "            W2[a,:]=W2[a,:]+eta*diagonal_to_use2[0:-1]*gradient2\n",
    "            bias_W2[a]=bias_W2[a]+eta*diagonal_to_use2[-1]*grandientBias2\n",
    "            \n",
    "            ## update W1 and B1 after W2 and B2 were updated\n",
    "        \n",
    "            if hiddenactivfunction == 1:\n",
    "                dYdZ =  (W2[a,:].reshape(1, 200) * H*(1-H).reshape(1, 200)).reshape(200,1)\n",
    "            else:\n",
    "                dYdZ =  W2[a,:].reshape(200, 1)\n",
    "        \n",
    "            dZDW = X.reshape(1, 58) \n",
    "            \n",
    "            gradient1 =dEdQ*dQdY*dYdZ*dZDW\n",
    "            grandientBias1 = dEdQ*dQdY*dYdZ.reshape(200,1) \n",
    "            G = np.ravel(np.concatenate((gradient1, grandientBias1), axis=1))\n",
    "\n",
    "            diagonal1 = diagonal1 + G**2\n",
    "            diagonal_to_use1 = ((eps+diagonal1).reshape(200, -1))**(1/2)\n",
    "        \n",
    "            \n",
    "            W1[:,:]=W1[:,:]+ eta*diagonal_to_use1[:, 0:-1]*gradient1\n",
    "            bias_W1=bias_W1+ eta*diagonal_to_use1[:, -1]*grandientBias1.reshape(200,)\n",
    "            \n",
    "            break\n",
    "        \n",
    "        \n",
    "        # IF THE EPISODE IS NOT OVER...\n",
    "        else:\n",
    "            \n",
    "            Qvalues1=ComputeQvalues(W1, W2, bias_W1, bias_W2, X_next, hiddenactivfunction , outeractivfunction)\n",
    "\n",
    "            a1=EpsilonGreedy_Policy(Qvalues1,epsilon_f, allowed_a_next)\n",
    "\n",
    "            # Compute the delta\n",
    "            dEdQ=R+gamma*Qvalues1[a1]- Qvalues[a]\n",
    "         \n",
    "                  \n",
    "            ## update W2 and B2   \n",
    "            dQdY = 1  \n",
    "            if outeractivfunction == 1:\n",
    "                    dYdQ = Qvalues[a]*(1-Qvalues[a])\n",
    "                    \n",
    "          \n",
    "            H = np.matmul(W1,X) + bias_W1\n",
    "            if hiddenactivfunction == 1:\n",
    "                     H = np.round(1/(1+np.exp(-H)), 5)\n",
    "            dYdW = H\n",
    "          \n",
    "            gradient2 =dEdQ*dQdY*dYdW\n",
    "            grandientBias2 = dEdQ*dQdY\n",
    "            G = np.round(np.append(gradient2, grandientBias2), 4)\n",
    "            \n",
    "            diagonal2[:,a] = diagonal2[:,a] + G**2\n",
    "            diagonal_to_use2 = (eps + diagonal2[:,a])**(1/2)\n",
    "    \n",
    "            W2[a,:]=W2[a,:]+eta*diagonal_to_use2[0:-1]*gradient2\n",
    "            bias_W2[a]=bias_W2[a]+eta*diagonal_to_use2[-1]*grandientBias2\n",
    "            \n",
    "            ## update W1 and B1 after W2 and B2 were updated\n",
    "        \n",
    "            if hiddenactivfunction == 1:\n",
    "                dYdZ =  (W2[a,:].reshape(1, 200) * H*(1-H).reshape(1, 200)).reshape(200,1)\n",
    "            else:\n",
    "                dYdZ =  W2[a,:].reshape(200, 1)\n",
    "        \n",
    "            dZDW = X.reshape(1, 58)   \n",
    "            \n",
    "            gradient1 =dEdQ*dQdY*dYdZ*dZDW\n",
    "            grandientBias1 = dEdQ*dQdY*dYdZ.reshape(200,1) \n",
    "            G = np.ravel(np.concatenate((gradient1, grandientBias1), axis=1))\n",
    "\n",
    "            diagonal1 = diagonal1 + G**2\n",
    "            diagonal_to_use1 = ((eps+diagonal1).reshape(200, -1))**(1/2)\n",
    "                    \n",
    "            W1[:,:]=W1[:,:]+ eta*diagonal_to_use1[:, 0:-1]*gradient1\n",
    "            bias_W1=bias_W1+ eta*diagonal_to_use1[:, -1]*grandientBias1.reshape(200,)\n",
    "           \n",
    "            \n",
    "        # NEXT STATE AND CO. BECOME ACTUAL STATE...     \n",
    "        S=np.copy(S_next)\n",
    "        X=np.copy(X_next)\n",
    "        a = np.copy(a1)\n",
    "\n",
    "        i += 1  # UPDATE COUNTER FOR NUMBER OF ACTIONS   "
   ]
  },
  {
   "cell_type": "code",
   "execution_count": 14,
   "id": "c15d0b77",
   "metadata": {
    "ExecuteTime": {
     "end_time": "2022-03-20T01:15:44.386412Z",
     "start_time": "2022-03-20T01:15:43.238215Z"
    }
   },
   "outputs": [
    {
     "data": {
      "image/png": "[encoded data removed]",
      "text/plain": [
       "<Figure size 432x288 with 1 Axes>"
      ]
     },
     "metadata": {
      "needs_background": "light"
     },
     "output_type": "display_data"
    },
    {
     "data": {
      "image/png": "[encoded data removed]",
      "text/plain": [
       "<Figure size 432x288 with 1 Axes>"
      ]
     },
     "metadata": {
      "needs_background": "light"
     },
     "output_type": "display_data"
    },
    {
     "data": {
      "image/png": "[encoded data removed]",
      "text/plain": [
       "<Figure size 432x288 with 1 Axes>"
      ]
     },
     "metadata": {
      "needs_background": "light"
     },
     "output_type": "display_data"
    }
   ],
   "source": [
    "# Plot the performance\n",
    "N_moves_save = pd.DataFrame(N_moves_save, columns = ['N_moves'])\n",
    "N_moves_save.to_csv('N_moves_Adagrad_good.csv')\n",
    "N_moves_save['N_moves'] = N_moves_save['N_moves'].ewm(span=100, adjust=False).mean()\n",
    "\n",
    "\n",
    "plt.plot(N_moves_save['N_moves'])\n",
    "plt.xlabel('Episodes')\n",
    "plt.ylabel('Number of Steps until \"Done\"')\n",
    "plt.title('Average Number of Steps until \"Done\" per Episode')\n",
    "plt.show()\n",
    "\n",
    "R_save = pd.DataFrame(R_save, columns = ['R_save'])\n",
    "R_save.to_csv('R_save_Adagrad_good.csv')\n",
    "R_save['R_save'] = R_save['R_save'].ewm(span=100, adjust=False).mean()\n",
    "\n",
    "plt.plot(R_save)\n",
    "plt.xlabel('Episodes')\n",
    "plt.ylabel('Reward')\n",
    "plt.title('Average Rewards per Episode')\n",
    "plt.show()\n",
    "\n",
    "\n",
    "Delta_save = pd.DataFrame(Delta_save, columns = ['Delta_save'])\n",
    "Delta_save.to_csv('Delta_save_Adagrad_good.csv')\n",
    "Delta_save['Delta_save'] = Delta_save['Delta_save'].ewm(span=100, adjust=False).mean()\n",
    "\n",
    "plt.plot(Delta_save)\n",
    "plt.xlabel('Episodes')\n",
    "plt.ylabel('Error')\n",
    "plt.title('Average Loss')\n",
    "plt.show()"
   ]
  },
  {
   "cell_type": "code",
   "execution_count": 15,
   "id": "83aeedb8",
   "metadata": {
    "ExecuteTime": {
     "end_time": "2022-03-20T01:15:44.401560Z",
     "start_time": "2022-03-20T01:15:44.388668Z"
    }
   },
   "outputs": [],
   "source": [
    "# INITIALISE THE PARAMETERS OF YOUR NEURAL NETWORK AND...\n",
    "# PLEASE CONSIDER TO USE A MASK OF ONE FOR THE ACTION MADE AND ZERO OTHERWISE IF YOU ARE NOT USING VANILLA GRADIENT DESCENT...\n",
    "# WE SUGGEST A NETWORK WITH ONE HIDDEN LAYER WITH SIZE 200. \n",
    "\n",
    "S,X,allowed_a=env.Initialise_game()\n",
    "\n",
    "N_a=np.shape(allowed_a)[0]   # TOTAL NUMBER OF POSSIBLE ACTIONS\n",
    "N_in=np.shape(X)[0]          ## INPUT SIZE\n",
    "N_h=200                      ## NUMBER OF HIDDEN NODES\n",
    "\n",
    "## INITALISE YOUR NEURAL NETWORK... Here weights from input to hidden layer and from the hidden layer to output layer are initialized\n",
    "W1 = np.random.randn(N_h,N_in)/1000\n",
    "W1 = np.divide(W1,np.matlib.repmat(np.sum(W1,1)[:,None],1,N_in))\n",
    "W2 = W2=np.random.randn(N_a,N_h)/1000\n",
    "W2 = np.divide(W2,np.matlib.repmat(np.sum(W2,1)[:,None],1,N_h))\n",
    "\n",
    "bias_W1 = np.zeros((N_h,))\n",
    "bias_W2 = np.zeros((N_a,))\n",
    "\n",
    "# HYPERPARAMETERS SUGGESTED (FOR A GRID SIZE OF 4)\n",
    "\n",
    "epsilon_0 = 0.2     # STARTING VALUE OF EPSILON FOR THE EPSILON-GREEDY POLICY 0.2\n",
    "beta = 0.00005      # THE PARAMETER SETS HOW QUICKLY THE VALUE OF EPSILON IS DECAYING (SEE epsilon_f BELOW) 0.00005\n",
    "gamma = 0.85        # THE DISCOUNT FACTOR 0.85\n",
    "eta = 0.0035        # THE LEARNING RATE 0.0035\n",
    "\n",
    "# REWARD SCHEME DEFAULT\n",
    "# Reward if episode is not ended: 0\n",
    "# Reward if checkmate: 1\n",
    "# Reward if draw: 0\n",
    "\n",
    "N_episodes = 100000 # THE NUMBER OF GAMES TO BE PLAYED 100000\n",
    "\n",
    "hiddenactivfunction = 1\n",
    "outeractivfunction = 0\n",
    "\n",
    "# SAVING VARIABLES\n",
    "R_save = np.zeros([N_episodes, 1])\n",
    "N_moves_save = np.zeros([N_episodes, 1])\n",
    "Delta_save = np.zeros([N_episodes, 1])\n",
    "\n",
    "eps = 0.000001"
   ]
  },
  {
   "cell_type": "code",
   "execution_count": 16,
   "id": "44ceac1c",
   "metadata": {
    "ExecuteTime": {
     "end_time": "2022-03-20T12:28:37.214296Z",
     "start_time": "2022-03-20T01:15:44.404333Z"
    }
   },
   "outputs": [
    {
     "name": "stderr",
     "output_type": "stream",
     "text": [
      "/var/folders/sz/_h0l1zd56wl39cb0sdn2kw2w0000gn/T/ipykernel_25843/1655761938.py:118: RuntimeWarning: overflow encountered in multiply\n",
      "  gradient1 =dEdQ*dQdY*dYdZ*dZDW\n",
      "/var/folders/sz/_h0l1zd56wl39cb0sdn2kw2w0000gn/T/ipykernel_25843/1655761938.py:118: RuntimeWarning: invalid value encountered in multiply\n",
      "  gradient1 =dEdQ*dQdY*dYdZ*dZDW\n",
      "/var/folders/sz/_h0l1zd56wl39cb0sdn2kw2w0000gn/T/ipykernel_25843/1655761938.py:119: RuntimeWarning: overflow encountered in multiply\n",
      "  grandientBias1 = dEdQ*dQdY*dYdZ.reshape(200,1)\n"
     ]
    },
    {
     "ename": "KeyboardInterrupt",
     "evalue": "",
     "output_type": "error",
     "traceback": [
      "\u001b[0;31m---------------------------------------------------------------------------\u001b[0m",
      "\u001b[0;31mKeyboardInterrupt\u001b[0m                         Traceback (most recent call last)",
      "\u001b[0;32m/var/folders/sz/_h0l1zd56wl39cb0sdn2kw2w0000gn/T/ipykernel_25843/1655761938.py\u001b[0m in \u001b[0;36m<module>\u001b[0;34m\u001b[0m\n\u001b[1;32m     19\u001b[0m         \u001b[0mQvalues\u001b[0m \u001b[0;34m=\u001b[0m \u001b[0mComputeQvalues\u001b[0m\u001b[0;34m(\u001b[0m\u001b[0mW1\u001b[0m\u001b[0;34m,\u001b[0m \u001b[0mW2\u001b[0m\u001b[0;34m,\u001b[0m \u001b[0mbias_W1\u001b[0m\u001b[0;34m,\u001b[0m \u001b[0mbias_W2\u001b[0m\u001b[0;34m,\u001b[0m \u001b[0mX\u001b[0m\u001b[0;34m,\u001b[0m \u001b[0mhiddenactivfunction\u001b[0m \u001b[0;34m,\u001b[0m \u001b[0mouteractivfunction\u001b[0m\u001b[0;34m)\u001b[0m\u001b[0;34m\u001b[0m\u001b[0;34m\u001b[0m\u001b[0m\n\u001b[1;32m     20\u001b[0m \u001b[0;34m\u001b[0m\u001b[0m\n\u001b[0;32m---> 21\u001b[0;31m         \u001b[0mS_next\u001b[0m\u001b[0;34m,\u001b[0m \u001b[0mX_next\u001b[0m\u001b[0;34m,\u001b[0m\u001b[0mallowed_a_next\u001b[0m\u001b[0;34m,\u001b[0m\u001b[0mR\u001b[0m\u001b[0;34m,\u001b[0m\u001b[0mDone\u001b[0m\u001b[0;34m=\u001b[0m\u001b[0menv\u001b[0m\u001b[0;34m.\u001b[0m\u001b[0mOneStep\u001b[0m\u001b[0;34m(\u001b[0m\u001b[0ma\u001b[0m\u001b[0;34m)\u001b[0m\u001b[0;34m\u001b[0m\u001b[0;34m\u001b[0m\u001b[0m\n\u001b[0m\u001b[1;32m     22\u001b[0m \u001b[0;34m\u001b[0m\u001b[0m\n\u001b[1;32m     23\u001b[0m \u001b[0;34m\u001b[0m\u001b[0m\n",
      "\u001b[0;32m~/Documents/github/reinforcement-learning/Chess_env.py\u001b[0m in \u001b[0;36mOneStep\u001b[0;34m(self, a_agent)\u001b[0m\n\u001b[1;32m    119\u001b[0m \u001b[0;34m\u001b[0m\u001b[0m\n\u001b[1;32m    120\u001b[0m         \u001b[0;31m# Allowed actions for the agent's queen\u001b[0m\u001b[0;34m\u001b[0m\u001b[0;34m\u001b[0m\u001b[0m\n\u001b[0;32m--> 121\u001b[0;31m         \u001b[0mself\u001b[0m\u001b[0;34m.\u001b[0m\u001b[0mdfq1_constrain\u001b[0m\u001b[0;34m,\u001b[0m \u001b[0mself\u001b[0m\u001b[0;34m.\u001b[0m\u001b[0ma_q1\u001b[0m\u001b[0;34m,\u001b[0m \u001b[0mself\u001b[0m\u001b[0;34m.\u001b[0m\u001b[0mdfq1\u001b[0m  \u001b[0;34m=\u001b[0m \u001b[0mdegree_freedom_queen\u001b[0m\u001b[0;34m(\u001b[0m\u001b[0mself\u001b[0m\u001b[0;34m.\u001b[0m\u001b[0mp_k1\u001b[0m\u001b[0;34m,\u001b[0m \u001b[0mself\u001b[0m\u001b[0;34m.\u001b[0m\u001b[0mp_k2\u001b[0m\u001b[0;34m,\u001b[0m \u001b[0mself\u001b[0m\u001b[0;34m.\u001b[0m\u001b[0mp_q1\u001b[0m\u001b[0;34m,\u001b[0m \u001b[0mself\u001b[0m\u001b[0;34m.\u001b[0m\u001b[0mBoard\u001b[0m\u001b[0;34m)\u001b[0m\u001b[0;34m\u001b[0m\u001b[0;34m\u001b[0m\u001b[0m\n\u001b[0m\u001b[1;32m    122\u001b[0m \u001b[0;34m\u001b[0m\u001b[0m\n\u001b[1;32m    123\u001b[0m         \u001b[0;31m# Allowed actions for the enemy's king\u001b[0m\u001b[0;34m\u001b[0m\u001b[0;34m\u001b[0m\u001b[0m\n",
      "\u001b[0;32m~/Documents/github/reinforcement-learning/degree_freedom_queen.py\u001b[0m in \u001b[0;36mdegree_freedom_queen\u001b[0;34m(p_k1, p_k2, p_q1, s)\u001b[0m\n\u001b[1;32m     33\u001b[0m            \u001b[0;34m[\u001b[0m\u001b[0mp_k1\u001b[0m\u001b[0;34m[\u001b[0m\u001b[0;36m0\u001b[0m\u001b[0;34m]\u001b[0m \u001b[0;34m+\u001b[0m \u001b[0;36m1\u001b[0m\u001b[0;34m,\u001b[0m \u001b[0mp_k1\u001b[0m\u001b[0;34m[\u001b[0m\u001b[0;36m1\u001b[0m\u001b[0;34m]\u001b[0m\u001b[0;34m]\u001b[0m\u001b[0;34m,\u001b[0m  \u001b[0;31m# down\u001b[0m\u001b[0;34m\u001b[0m\u001b[0;34m\u001b[0m\u001b[0m\n\u001b[1;32m     34\u001b[0m            \u001b[0;34m[\u001b[0m\u001b[0mp_k1\u001b[0m\u001b[0;34m[\u001b[0m\u001b[0;36m0\u001b[0m\u001b[0;34m]\u001b[0m\u001b[0;34m,\u001b[0m \u001b[0mp_k1\u001b[0m\u001b[0;34m[\u001b[0m\u001b[0;36m1\u001b[0m\u001b[0;34m]\u001b[0m \u001b[0;34m-\u001b[0m \u001b[0;36m1\u001b[0m\u001b[0;34m]\u001b[0m\u001b[0;34m,\u001b[0m  \u001b[0;31m# left\u001b[0m\u001b[0;34m\u001b[0m\u001b[0;34m\u001b[0m\u001b[0m\n\u001b[0;32m---> 35\u001b[0;31m            \u001b[0;34m[\u001b[0m\u001b[0mp_k1\u001b[0m\u001b[0;34m[\u001b[0m\u001b[0;36m0\u001b[0m\u001b[0;34m]\u001b[0m\u001b[0;34m,\u001b[0m \u001b[0mp_k1\u001b[0m\u001b[0;34m[\u001b[0m\u001b[0;36m1\u001b[0m\u001b[0;34m]\u001b[0m \u001b[0;34m+\u001b[0m \u001b[0;36m1\u001b[0m\u001b[0;34m]\u001b[0m\u001b[0;34m,\u001b[0m  \u001b[0;31m# right\u001b[0m\u001b[0;34m\u001b[0m\u001b[0;34m\u001b[0m\u001b[0m\n\u001b[0m\u001b[1;32m     36\u001b[0m            \u001b[0;34m[\u001b[0m\u001b[0mp_k1\u001b[0m\u001b[0;34m[\u001b[0m\u001b[0;36m0\u001b[0m\u001b[0;34m]\u001b[0m \u001b[0;34m-\u001b[0m \u001b[0;36m1\u001b[0m\u001b[0;34m,\u001b[0m \u001b[0mp_k1\u001b[0m\u001b[0;34m[\u001b[0m\u001b[0;36m1\u001b[0m\u001b[0;34m]\u001b[0m \u001b[0;34m-\u001b[0m \u001b[0;36m1\u001b[0m\u001b[0;34m]\u001b[0m\u001b[0;34m,\u001b[0m  \u001b[0;31m# up-left\u001b[0m\u001b[0;34m\u001b[0m\u001b[0;34m\u001b[0m\u001b[0m\n\u001b[1;32m     37\u001b[0m            \u001b[0;34m[\u001b[0m\u001b[0mp_k1\u001b[0m\u001b[0;34m[\u001b[0m\u001b[0;36m0\u001b[0m\u001b[0;34m]\u001b[0m \u001b[0;34m-\u001b[0m \u001b[0;36m1\u001b[0m\u001b[0;34m,\u001b[0m \u001b[0mp_k1\u001b[0m\u001b[0;34m[\u001b[0m\u001b[0;36m1\u001b[0m\u001b[0;34m]\u001b[0m \u001b[0;34m+\u001b[0m \u001b[0;36m1\u001b[0m\u001b[0;34m]\u001b[0m\u001b[0;34m,\u001b[0m  \u001b[0;31m# up-right\u001b[0m\u001b[0;34m\u001b[0m\u001b[0;34m\u001b[0m\u001b[0m\n",
      "\u001b[0;31mKeyboardInterrupt\u001b[0m: "
     ]
    }
   ],
   "source": [
    "for n in range(N_episodes):\n",
    "    \n",
    "    S,X,allowed_a=env.Initialise_game()\n",
    "   \n",
    "    epsilon_f = epsilon_0 / (1 + beta * n)   ## DECAYING EPSILON\n",
    "    Done=0                                   ## SET DONE TO ZERO (BEGINNING OF THE EPISODE)\n",
    "    i =  1                                        ## COUNTER FOR NUMBER OF ACTIONS\n",
    "    if (n%10 ==0):\n",
    "\n",
    "        diagonal2 = np.zeros((N_h+1,N_a))\n",
    "        diagonal1 = np.zeros((N_in*N_h + N_h, ))\n",
    "                               \n",
    "    Qvalues = ComputeQvalues(W1, W2, bias_W1, bias_W2, X, hiddenactivfunction , outeractivfunction)\n",
    "\n",
    "    a=EpsilonGreedy_Policy(Qvalues,epsilon_f, allowed_a)\n",
    "    \n",
    "    while (Done==0 and i<50):                           ## START THE EPISODE\n",
    "       \n",
    "        Qvalues = ComputeQvalues(W1, W2, bias_W1, bias_W2, X, hiddenactivfunction , outeractivfunction)\n",
    "       \n",
    "        S_next, X_next,allowed_a_next,R,Done=env.OneStep(a)\n",
    "       \n",
    "        \n",
    "        ## THE EPISODE HAS ENDED, UPDATE...BE CAREFUL, THIS IS THE LAST STEP OF THE EPISODE\n",
    "        if Done==1:\n",
    "            \n",
    "            R_save[n,]=np.copy(R)\n",
    "            N_moves_save[n,]=i\n",
    "            \n",
    "            dEdQ=R-Qvalues[a]\n",
    "           \n",
    "            Delta_save[n,] = 0.5*(dEdQ)*(dEdQ)\n",
    "            \n",
    "            ## update W2 and B2   \n",
    "            dQdY = 1  \n",
    "            if outeractivfunction == 1:\n",
    "                    dYdQ = Qvalues[a]*(1-Qvalues[a])\n",
    "                    \n",
    "          \n",
    "            H = np.matmul(W1,X) + bias_W1\n",
    "            if hiddenactivfunction == 1:\n",
    "                     H = np.round(1/(1+np.exp(-H)), 5)\n",
    "            dYdW = H\n",
    "            \n",
    "            gradient2 =dEdQ*dQdY*dYdW\n",
    "            grandientBias2 = dEdQ*dQdY\n",
    "            G = np.round(np.append(gradient2, grandientBias2), 4)\n",
    "            diagonal2[:,a] = diagonal2[:,a] + G**2\n",
    "            diagonal_to_use2 = (eps + diagonal2[:,a])**(1/2)\n",
    "    \n",
    "            W2[a,:]=W2[a,:]+eta*diagonal_to_use2[0:-1]*gradient2\n",
    "            bias_W2[a]=bias_W2[a]+eta*diagonal_to_use2[-1]*grandientBias2\n",
    "            \n",
    "            ## update W1 and B1 after W2 and B2 were updated\n",
    "        \n",
    "            if hiddenactivfunction == 1:\n",
    "                dYdZ =  (W2[a,:].reshape(1, 200) * H*(1-H).reshape(1, 200)).reshape(200,1)\n",
    "            else:\n",
    "                dYdZ =  W2[a,:].reshape(200, 1)\n",
    "        \n",
    "            dZDW = X.reshape(1, 58) \n",
    "            \n",
    "            gradient1 =dEdQ*dQdY*dYdZ*dZDW\n",
    "            grandientBias1 = dEdQ*dQdY*dYdZ.reshape(200,1) \n",
    "            G = np.ravel(np.concatenate((gradient1, grandientBias1), axis=1))\n",
    "\n",
    "            diagonal1 = diagonal1 + G**2\n",
    "            diagonal_to_use1 = ((eps+diagonal1).reshape(200, -1))**(1/2)\n",
    "        \n",
    "            \n",
    "            W1[:,:]=W1[:,:]+ eta*diagonal_to_use1[:, 0:-1]*gradient1\n",
    "            bias_W1=bias_W1+ eta*diagonal_to_use1[:, -1]*grandientBias1.reshape(200,)\n",
    "            \n",
    "            break\n",
    "        \n",
    "        \n",
    "        # IF THE EPISODE IS NOT OVER...\n",
    "        else:\n",
    "            \n",
    "            Qvalues1=ComputeQvalues(W1, W2, bias_W1, bias_W2, X_next, hiddenactivfunction , outeractivfunction)\n",
    "\n",
    "            a1=EpsilonGreedy_Policy(Qvalues1,epsilon_f, allowed_a_next)\n",
    "\n",
    "            # Compute the delta\n",
    "            dEdQ=R+gamma*Qvalues1[a1]- Qvalues[a]\n",
    "         \n",
    "                  \n",
    "            ## update W2 and B2   \n",
    "            dQdY = 1  \n",
    "            if outeractivfunction == 1:\n",
    "                    dYdQ = Qvalues[a]*(1-Qvalues[a])\n",
    "                    \n",
    "          \n",
    "            H = np.matmul(W1,X) + bias_W1\n",
    "            if hiddenactivfunction == 1:\n",
    "                     H = np.round(1/(1+np.exp(-H)), 5)\n",
    "            dYdW = H\n",
    "          \n",
    "            gradient2 =dEdQ*dQdY*dYdW\n",
    "            grandientBias2 = dEdQ*dQdY\n",
    "            G = np.round(np.append(gradient2, grandientBias2), 4)\n",
    "            \n",
    "            diagonal2[:,a] = diagonal2[:,a] + G**2\n",
    "            diagonal_to_use2 = (eps + diagonal2[:,a])**(1/2)\n",
    "    \n",
    "            W2[a,:]=W2[a,:]+eta*diagonal_to_use2[0:-1]*gradient2\n",
    "            bias_W2[a]=bias_W2[a]+eta*diagonal_to_use2[-1]*grandientBias2\n",
    "            \n",
    "            ## update W1 and B1 after W2 and B2 were updated\n",
    "        \n",
    "            if hiddenactivfunction == 1:\n",
    "                dYdZ =  (W2[a,:].reshape(1, 200) * H*(1-H).reshape(1, 200)).reshape(200,1)\n",
    "            else:\n",
    "                dYdZ =  W2[a,:].reshape(200, 1)\n",
    "        \n",
    "            dZDW = X.reshape(1, 58)   \n",
    "            \n",
    "            gradient1 =dEdQ*dQdY*dYdZ*dZDW\n",
    "            grandientBias1 = dEdQ*dQdY*dYdZ.reshape(200,1) \n",
    "            G = np.ravel(np.concatenate((gradient1, grandientBias1), axis=1))\n",
    "\n",
    "            diagonal1 = diagonal1 + G**2\n",
    "            diagonal_to_use1 = ((eps+diagonal1).reshape(200, -1))**(1/2)\n",
    "                    \n",
    "            W1[:,:]=W1[:,:]+ eta*diagonal_to_use1[:, 0:-1]*gradient1\n",
    "            bias_W1=bias_W1+ eta*diagonal_to_use1[:, -1]*grandientBias1.reshape(200,)\n",
    "           \n",
    "            \n",
    "        # NEXT STATE AND CO. BECOME ACTUAL STATE...     \n",
    "        S=np.copy(S_next)\n",
    "        X=np.copy(X_next)\n",
    "        a = np.copy(a1)\n",
    "\n",
    "        i += 1  # UPDATE COUNTER FOR NUMBER OF ACTIONS   "
   ]
  },
  {
   "cell_type": "code",
   "execution_count": null,
   "id": "aab38d41",
   "metadata": {
    "ExecuteTime": {
     "end_time": "2022-03-20T12:28:37.222528Z",
     "start_time": "2022-03-20T12:28:37.222494Z"
    }
   },
   "outputs": [],
   "source": [
    "# Plot the performance\n",
    "N_moves_save = pd.DataFrame(N_moves_save, columns = ['N_moves'])\n",
    "N_moves_save.to_csv('N_moves_Adagrad_poor.csv')\n",
    "N_moves_save['N_moves'] = N_moves_save['N_moves'].ewm(span=100, adjust=False).mean()\n",
    "\n",
    "\n",
    "plt.plot(N_moves_save['N_moves'])\n",
    "plt.xlabel('Episodes')\n",
    "plt.ylabel('Number of Steps until \"Done\"')\n",
    "plt.title('Average Number of Steps until \"Done\" per Episode')\n",
    "plt.show()\n",
    "\n",
    "R_save = pd.DataFrame(R_save, columns = ['R_save'])\n",
    "R_save.to_csv('R_save_Adagrad_poor.csv')\n",
    "R_save['R_save'] = R_save['R_save'].ewm(span=100, adjust=False).mean()\n",
    "\n",
    "plt.plot(R_save)\n",
    "plt.xlabel('Episodes')\n",
    "plt.ylabel('Reward')\n",
    "plt.title('Average Rewards per Episode')\n",
    "plt.show()\n",
    "\n",
    "\n",
    "Delta_save = pd.DataFrame(Delta_save, columns = ['Delta_save'])\n",
    "Delta_save.to_csv('Delta_save_Adagrad_poor.csv')\n",
    "Delta_save['Delta_save'] = Delta_save['Delta_save'].ewm(span=100, adjust=False).mean()\n",
    "\n",
    "plt.plot(Delta_save)\n",
    "plt.xlabel('Episodes')\n",
    "plt.ylabel('Error')\n",
    "plt.title('Average Loss')\n",
    "plt.show()"
   ]
  },
  {
   "cell_type": "markdown",
   "id": "adcf8c3d",
   "metadata": {},
   "source": [
    "## Testing"
   ]
  },
  {
   "cell_type": "code",
   "execution_count": null,
   "id": "83b4b998",
   "metadata": {
    "ExecuteTime": {
     "end_time": "2022-03-20T12:28:37.226064Z",
     "start_time": "2022-03-20T12:28:37.226027Z"
    }
   },
   "outputs": [],
   "source": [
    "W1=np.random.randn(2,3)\n",
    "W2=np.random.randn(3,2)\n",
    "bias_W1 = np.random.randn(2,)\n",
    "bias_W2 = np.random.randn(3,)\n",
    "S,X,allowed_a=env.Initialise_game()\n",
    "X = X[0:3,]\n",
    "hiddenactivfunction = 1\n",
    "outeractivfunction = 0"
   ]
  },
  {
   "cell_type": "code",
   "execution_count": null,
   "id": "6c129eb2",
   "metadata": {
    "ExecuteTime": {
     "end_time": "2022-03-20T12:28:37.230229Z",
     "start_time": "2022-03-20T12:28:37.230186Z"
    }
   },
   "outputs": [],
   "source": [
    "bias_W1"
   ]
  },
  {
   "cell_type": "code",
   "execution_count": null,
   "id": "9e1f7ac3",
   "metadata": {
    "ExecuteTime": {
     "end_time": "2022-03-20T12:28:37.234804Z",
     "start_time": "2022-03-20T12:28:37.234774Z"
    }
   },
   "outputs": [],
   "source": [
    "W1"
   ]
  },
  {
   "cell_type": "code",
   "execution_count": null,
   "id": "b2905719",
   "metadata": {
    "ExecuteTime": {
     "end_time": "2022-03-20T12:28:37.239129Z",
     "start_time": "2022-03-20T12:28:37.239098Z"
    }
   },
   "outputs": [],
   "source": [
    "W2"
   ]
  },
  {
   "cell_type": "code",
   "execution_count": null,
   "id": "d372e2d9",
   "metadata": {
    "ExecuteTime": {
     "end_time": "2022-03-20T12:28:37.242104Z",
     "start_time": "2022-03-20T12:28:37.242076Z"
    }
   },
   "outputs": [],
   "source": [
    "Qvalues = ComputeQvalues(W1, W2, bias_W1, bias_W2, X, hiddenactivfunction , outeractivfunction)   "
   ]
  },
  {
   "cell_type": "code",
   "execution_count": null,
   "id": "a0a459b5",
   "metadata": {
    "ExecuteTime": {
     "end_time": "2022-03-20T12:28:37.245561Z",
     "start_time": "2022-03-20T12:28:37.245533Z"
    }
   },
   "outputs": [],
   "source": [
    "R = 1"
   ]
  },
  {
   "cell_type": "code",
   "execution_count": null,
   "id": "0af3d9a0",
   "metadata": {
    "ExecuteTime": {
     "end_time": "2022-03-20T12:28:37.248776Z",
     "start_time": "2022-03-20T12:28:37.248748Z"
    }
   },
   "outputs": [],
   "source": [
    "dEdQ=R-Qvalues[0]"
   ]
  },
  {
   "cell_type": "code",
   "execution_count": null,
   "id": "952e1466",
   "metadata": {
    "ExecuteTime": {
     "end_time": "2022-03-20T12:28:37.251129Z",
     "start_time": "2022-03-20T12:28:37.251101Z"
    }
   },
   "outputs": [],
   "source": [
    "W2[0,:]"
   ]
  },
  {
   "cell_type": "code",
   "execution_count": null,
   "id": "aab2ef78",
   "metadata": {
    "ExecuteTime": {
     "end_time": "2022-03-20T12:28:37.254286Z",
     "start_time": "2022-03-20T12:28:37.254258Z"
    }
   },
   "outputs": [],
   "source": [
    "W2[0,:]+eta*dEdQ*dQdY*dYdW"
   ]
  },
  {
   "cell_type": "code",
   "execution_count": null,
   "id": "08893fe2",
   "metadata": {
    "ExecuteTime": {
     "end_time": "2022-03-20T12:28:37.257329Z",
     "start_time": "2022-03-20T12:28:37.257270Z"
    }
   },
   "outputs": [],
   "source": [
    "eta*dEdQ*dQdY*dYdW"
   ]
  },
  {
   "cell_type": "code",
   "execution_count": null,
   "id": "6740eb81",
   "metadata": {
    "ExecuteTime": {
     "end_time": "2022-03-20T12:28:37.261410Z",
     "start_time": "2022-03-20T12:28:37.261379Z"
    }
   },
   "outputs": [],
   "source": [
    "np.matmul(W1,X) + bias_W1"
   ]
  },
  {
   "cell_type": "code",
   "execution_count": null,
   "id": "a37c36b1",
   "metadata": {
    "ExecuteTime": {
     "end_time": "2022-03-20T12:28:37.264142Z",
     "start_time": "2022-03-20T12:28:37.264115Z"
    }
   },
   "outputs": [],
   "source": [
    "H = np.matmul(W1,X) + bias_W1\n",
    "if hiddenactivfunction == 1:\n",
    "    H = np.round(1/(1+np.exp(-H)), 5)\n",
    "dYdW = H"
   ]
  },
  {
   "cell_type": "code",
   "execution_count": null,
   "id": "a72d002d",
   "metadata": {
    "ExecuteTime": {
     "end_time": "2022-03-20T12:28:37.267400Z",
     "start_time": "2022-03-20T12:28:37.267369Z"
    }
   },
   "outputs": [],
   "source": [
    "W2[0,:].reshape(1, 2)"
   ]
  },
  {
   "cell_type": "code",
   "execution_count": null,
   "id": "24048d8e",
   "metadata": {
    "ExecuteTime": {
     "end_time": "2022-03-20T12:28:37.270591Z",
     "start_time": "2022-03-20T12:28:37.270560Z"
    }
   },
   "outputs": [],
   "source": [
    "(H*(1-H)).reshape(1, 2)"
   ]
  },
  {
   "cell_type": "code",
   "execution_count": null,
   "id": "baec0097",
   "metadata": {
    "ExecuteTime": {
     "end_time": "2022-03-20T12:28:37.274948Z",
     "start_time": "2022-03-20T12:28:37.274895Z"
    }
   },
   "outputs": [],
   "source": [
    "W2[0,:].reshape(1, 2)*(H*(1-H)).reshape(1, 2)"
   ]
  },
  {
   "cell_type": "code",
   "execution_count": null,
   "id": "42ec8b57",
   "metadata": {
    "ExecuteTime": {
     "end_time": "2022-03-20T12:28:37.278454Z",
     "start_time": "2022-03-20T12:28:37.278421Z"
    }
   },
   "outputs": [],
   "source": [
    "dYdZ =(W2[0,:].reshape(1, 2) * H*(1-H).reshape(1, 2)).reshape(2,1)\n",
    "dZdW = X.reshape(1, 3) "
   ]
  },
  {
   "cell_type": "code",
   "execution_count": null,
   "id": "e8c8c404",
   "metadata": {
    "ExecuteTime": {
     "end_time": "2022-03-20T12:28:37.281455Z",
     "start_time": "2022-03-20T12:28:37.281420Z"
    }
   },
   "outputs": [],
   "source": [
    "dYdZ"
   ]
  },
  {
   "cell_type": "code",
   "execution_count": null,
   "id": "a1cd0e18",
   "metadata": {
    "ExecuteTime": {
     "end_time": "2022-03-20T12:28:37.284806Z",
     "start_time": "2022-03-20T12:28:37.284776Z"
    }
   },
   "outputs": [],
   "source": [
    "dYdZ\n",
    "dZdW"
   ]
  },
  {
   "cell_type": "code",
   "execution_count": null,
   "id": "830d6e50",
   "metadata": {
    "ExecuteTime": {
     "end_time": "2022-03-20T12:28:37.289812Z",
     "start_time": "2022-03-20T12:28:37.289770Z"
    }
   },
   "outputs": [],
   "source": [
    "dYdZ*dZdW "
   ]
  },
  {
   "cell_type": "code",
   "execution_count": null,
   "id": "ca8dde6b",
   "metadata": {
    "ExecuteTime": {
     "end_time": "2022-03-20T12:28:37.293376Z",
     "start_time": "2022-03-20T12:28:37.293299Z"
    }
   },
   "outputs": [],
   "source": [
    "dEdQ=R-Qvalues[a]\n",
    "           \n",
    "          \n",
    "            ## update W2 and B2   \n",
    "            dQdY = 1  \n",
    "            if outeractivfunction == 1:\n",
    "                    dYdQ = Qvalues[a]*(1-Qvalues[a])\n",
    "                    \n",
    "          \n",
    "            H = np.matmul(W1,X) + bias_W1\n",
    "            if hiddenactivfunction == 1:\n",
    "                     H = np.round(1/(1+np.exp(-H)), 5)\n",
    "            dYdW = H\n",
    "    \n",
    "        \n",
    "            W2[a,:]=W2[a,:]+eta*dEdQ*dQdY*dYdW\n",
    "            bias_W2[a]=bias_W2[a]+eta*dEdQ*dQdY\n",
    "            \n",
    "            \n",
    "             ## update W1 and B1 after W2 and B2 were updated\n",
    "        \n",
    "            if hiddenactivfunction == 1:\n",
    "                dYdZ =  (W2[a,:].reshape(1, 200) * H*(1-H).reshape(1, 200)).reshape(200,1)\n",
    "            else:\n",
    "                dYdZ =  W2[a,:].reshape(200, 1)\n",
    "        \n",
    "            dZdW = X.reshape(1, 58)        \n",
    "            W1[:,:]=W1[:,:]+ eta*dEdQ*dQdY*dYdZ*dZdW \n",
    "            bias_W1=bias_W1+ eta*dEdQ*dQdY*dYdZ.reshape(200,) "
   ]
  }
 ],
 "metadata": {
  "kernelspec": {
   "display_name": "Python 3 (ipykernel)",
   "language": "python",
   "name": "python3"
  },
  "language_info": {
   "codemirror_mode": {
    "name": "ipython",
    "version": 3
   },
   "file_extension": ".py",
   "mimetype": "text/x-python",
   "name": "python",
   "nbconvert_exporter": "python",
   "pygments_lexer": "ipython3",
   "version": "3.9.7"
  }
 },
 "nbformat": 4,
 "nbformat_minor": 5
}
